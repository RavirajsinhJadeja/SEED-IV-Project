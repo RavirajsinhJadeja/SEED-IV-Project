{
  "nbformat": 4,
  "nbformat_minor": 0,
  "metadata": {
    "colab": {
      "provenance": []
    },
    "kernelspec": {
      "name": "python3",
      "display_name": "Python 3"
    },
    "language_info": {
      "name": "python"
    }
  },
  "cells": [
    {
      "cell_type": "code",
      "execution_count": null,
      "metadata": {
        "colab": {
          "base_uri": "https://localhost:8080/"
        },
        "id": "YGkNp4Ahqnpn",
        "outputId": "6f7632da-021d-40af-b8be-77329d00b4de"
      },
      "outputs": [
        {
          "output_type": "stream",
          "name": "stdout",
          "text": [
            "Drive already mounted at /content/drive; to attempt to forcibly remount, call drive.mount(\"/content/drive\", force_remount=True).\n"
          ]
        }
      ],
      "source": [
        "from google.colab import drive\n",
        "\n",
        "# Mount Google Drive\n",
        "drive.mount('/content/drive')\n"
      ]
    },
    {
      "cell_type": "markdown",
      "source": [
        "#PCA"
      ],
      "metadata": {
        "id": "6cHgnxTBLccm"
      }
    },
    {
      "cell_type": "code",
      "source": [
        "from sklearn.decomposition import PCA\n",
        "\n",
        "def pca_to_62x62(input_data):\n",
        "\n",
        "    pca = PCA(n_components=62)\n",
        "    transformed_data = pca.fit_transform(input_data)\n",
        "    return transformed_data\n"
      ],
      "metadata": {
        "id": "rFSQJxsfq_F3"
      },
      "execution_count": null,
      "outputs": []
    },
    {
      "cell_type": "markdown",
      "source": [
        "#Rescaling\n"
      ],
      "metadata": {
        "id": "juCkEeh9Lh6P"
      }
    },
    {
      "cell_type": "code",
      "source": [
        "import numpy as np\n",
        "\n",
        "def rescale_to_0_255(data):\n",
        "\n",
        "    # Find the minimum and maximum values in the data\n",
        "    min_val = data.min()\n",
        "    max_val = data.max()\n",
        "\n",
        "    # Perform min-max scaling to rescale the data to [0, 255]\n",
        "    scaled_data = 255 * (data - min_val) / (max_val - min_val)\n",
        "\n",
        "    return scaled_data.astype(np.uint8)  # Ensure the data type is uint8 for image representation\n"
      ],
      "metadata": {
        "id": "5ojehhQNtbUo"
      },
      "execution_count": null,
      "outputs": []
    },
    {
      "cell_type": "code",
      "source": [
        "from sklearn.preprocessing import StandardScaler\n",
        "\n",
        "def zscale_row_wise(data):\n",
        "    # Reshape the data to (62 * 1000, ) before scaling\n",
        "    reshaped_data = data.reshape(-1, 1)\n",
        "\n",
        "    scaler = StandardScaler()\n",
        "    scaled_data = scaler.fit_transform(reshaped_data)\n",
        "\n",
        "    # Reshape the scaled data back to (62, 1000)\n",
        "    return scaled_data.reshape(data.shape)\n"
      ],
      "metadata": {
        "id": "1LKXLrCauBUw"
      },
      "execution_count": null,
      "outputs": []
    },
    {
      "cell_type": "code",
      "source": [
        "!pip install numpy pandas scipy scikit-learn\n"
      ],
      "metadata": {
        "colab": {
          "base_uri": "https://localhost:8080/"
        },
        "id": "u35gXFBG2DVh",
        "outputId": "9501331d-f64a-4f0d-9fcc-e1a1b20ecdc8"
      },
      "execution_count": null,
      "outputs": [
        {
          "output_type": "stream",
          "name": "stdout",
          "text": [
            "Requirement already satisfied: numpy in /usr/local/lib/python3.10/dist-packages (1.23.5)\n",
            "Requirement already satisfied: pandas in /usr/local/lib/python3.10/dist-packages (1.5.3)\n",
            "Requirement already satisfied: scipy in /usr/local/lib/python3.10/dist-packages (1.11.3)\n",
            "Requirement already satisfied: scikit-learn in /usr/local/lib/python3.10/dist-packages (1.2.2)\n",
            "Requirement already satisfied: python-dateutil>=2.8.1 in /usr/local/lib/python3.10/dist-packages (from pandas) (2.8.2)\n",
            "Requirement already satisfied: pytz>=2020.1 in /usr/local/lib/python3.10/dist-packages (from pandas) (2023.3.post1)\n",
            "Requirement already satisfied: joblib>=1.1.1 in /usr/local/lib/python3.10/dist-packages (from scikit-learn) (1.3.2)\n",
            "Requirement already satisfied: threadpoolctl>=2.0.0 in /usr/local/lib/python3.10/dist-packages (from scikit-learn) (3.2.0)\n",
            "Requirement already satisfied: six>=1.5 in /usr/local/lib/python3.10/dist-packages (from python-dateutil>=2.8.1->pandas) (1.16.0)\n"
          ]
        }
      ]
    },
    {
      "cell_type": "code",
      "source": [
        "import numpy as np\n",
        "\n",
        "def calculate_power_in_bands(fft_result, frequency_bins):\n",
        "    # Define the new frequency range (0 to 75 Hz)\n",
        "    new_frequency_bins = np.linspace(0, 45, 46)\n",
        "\n",
        "    # Initialize a list to store power values for each band\n",
        "    power_values_list = []\n",
        "\n",
        "    # Calculate power in each frequency band for each channel\n",
        "    for band in new_frequency_bins:\n",
        "        band_indices = np.where((frequency_bins >= band) & (frequency_bins < band + 1))[0]\n",
        "        power_values = np.mean(np.abs(fft_result[:, band_indices])**2, axis=1)\n",
        "        power_values_list.append(power_values)\n",
        "\n",
        "    # Combine power values into a matrix\n",
        "    power_matrix = np.column_stack(power_values_list)\n",
        "\n",
        "    return power_matrix\n"
      ],
      "metadata": {
        "id": "BNayA1WXhBsK"
      },
      "execution_count": null,
      "outputs": []
    },
    {
      "cell_type": "code",
      "source": [
        "import os\n",
        "import numpy as np\n",
        "from scipy.io import loadmat\n",
        "import pandas as pd\n",
        "from sklearn.preprocessing import StandardScaler\n",
        "\n",
        "# Define the directory path where the .mat files are located\n",
        "base_dir = '/content/drive/MyDrive/SEED_IV/SEED_IV/eeg_raw_data'\n",
        "\n",
        "# Set the batch size\n",
        "batch_size = 4  # Adjust as needed\n",
        "\n",
        "# Initialize an empty DataFrame\n",
        "final_df = pd.DataFrame()\n",
        "\n",
        "\n",
        "# Traverse through the directories and load .mat files\n",
        "for folder in os.listdir(base_dir):\n",
        "    folder_path = os.path.join(base_dir, folder)\n",
        "\n",
        "    if os.path.isdir(folder_path):\n",
        "        # Initialize a list to store DataFrames for each batch\n",
        "        batch_dfs = []\n",
        "\n",
        "        for file in os.listdir(folder_path):\n",
        "            if file.endswith('.mat'):\n",
        "                file_path = os.path.join(folder_path, file)\n",
        "                data = loadmat(file_path)  # Load .mat file\n",
        "\n",
        "                # Initialize a DataFrame for each batch\n",
        "                batch_df = pd.DataFrame()\n",
        "\n",
        "                # Loop through variables in the loaded .mat file\n",
        "                for var_key, var_value in data.items():\n",
        "                    # Skip variables that start with double underscores \"__\"\n",
        "                    if var_key.startswith(\"__\"):\n",
        "                        continue\n",
        "\n",
        "                    # Define the column name for the DataFrame\n",
        "                    column_name = f'{folder}_{var_key}'\n",
        "\n",
        "                    # Perform FFT on the original matrix\n",
        "                    fft_result, frequency_bins = np.fft.fft(var_value, axis=1), np.fft.fftfreq(var_value.shape[1], d=1.0/1000)\n",
        "\n",
        "                    # Reshape the data to 62 x 1000\n",
        "                    reshaped_data = calculate_power_in_bands(fft_result, frequency_bins)\n",
        "\n",
        "                    # Create a new column in the DataFrame and assign the reshaped variable\n",
        "                    batch_df[column_name] = [reshaped_data]\n",
        "\n",
        "                batch_dfs.append(batch_df)\n",
        "\n",
        "                # Process the batch once it reaches the specified batch size\n",
        "                if len(batch_dfs) >= batch_size:\n",
        "                    batch_df = pd.concat(batch_dfs, axis=1)\n",
        "\n",
        "                    # Apply preprocessing to the batch (e.g., z-scaling and min-max scaling)\n",
        "                    batch_df = batch_df.applymap(zscale_row_wise)\n",
        "                    # batch_df = batch_df.applymap(rescale_to_0_255)\n",
        "\n",
        "                    # Append the batch to the final DataFrame\n",
        "                    final_df = pd.concat([final_df, batch_df], axis=1)\n",
        "                    batch_dfs = []\n",
        "\n",
        "        # Process any remaining data in the last batch\n",
        "        if len(batch_dfs) > 0:\n",
        "            batch_df = pd.concat(batch_dfs, axis=1)\n",
        "\n",
        "            # Apply preprocessing to the last batch\n",
        "            batch_df = batch_df.applymap(zscale_row_wise)\n",
        "            # batch_df = batch_df.applymap(rescale_to_0_255)\n",
        "\n",
        "            # Append the last batch to the final DataFrame\n",
        "            final_df = pd.concat([final_df, batch_df], axis=1)\n",
        "\n"
      ],
      "metadata": {
        "id": "iVJd_e-bwSW-"
      },
      "execution_count": null,
      "outputs": []
    },
    {
      "cell_type": "markdown",
      "source": [
        "# Data transformation for noise reduction and dimensionality reduction along with reshaping"
      ],
      "metadata": {
        "id": "2GN5cidlLohj"
      }
    },
    {
      "cell_type": "code",
      "source": [
        "# import os\n",
        "# import numpy as np\n",
        "# from scipy.io import loadmat\n",
        "# import pandas as pd\n",
        "# import matplotlib.pyplot as plt\n",
        "\n",
        "# # Define the directory path where the .mat files are located\n",
        "# base_dir = '/content/drive/MyDrive/SEED_IV/SEED_IV/eeg_raw_data'\n",
        "\n",
        "# # Initialize lists to store the shapes of the original data and the corresponding folder\n",
        "# original_data_shapes = []\n",
        "# y_axis_sizes = []\n",
        "\n",
        "# # Traverse through the directories and load .mat files\n",
        "# for folder in os.listdir(base_dir):\n",
        "#     folder_path = os.path.join(base_dir, folder)\n",
        "\n",
        "#     if os.path.isdir(folder_path):\n",
        "#         for file in os.listdir(folder_path):\n",
        "#             if file.endswith('.mat'):\n",
        "#                 file_path = os.path.join(folder_path, file)\n",
        "#                 data = loadmat(file_path)  # Load .mat file\n",
        "\n",
        "#                 # Loop through variables in the loaded .mat file\n",
        "#                 for var_key, var_value in data.items():\n",
        "#                     # Skip variables that start with double underscores \"__\"\n",
        "#                     if var_key.startswith(\"__\"):\n",
        "#                         continue\n",
        "\n",
        "#                     # Get the shape of the original data\n",
        "#                     original_shape = var_value.shape\n",
        "#                     original_data_shapes.append((folder, var_key, original_shape))\n",
        "#                     y_axis_sizes.append(original_shape[1])\n",
        "\n",
        "# # Plot the Y-axis (timestamp) sizes\n",
        "# plt.figure(figsize=(10, 6))\n",
        "# plt.bar(range(len(y_axis_sizes)), y_axis_sizes)\n",
        "# plt.xlabel(\"Data Point\")\n",
        "# plt.ylabel(\"Y-Axis Size (Timestamp)\")\n",
        "# plt.title(\"Range of Y-Axis Sizes\")\n",
        "# plt.show()\n",
        "\n",
        "# min_y_axis_size = min(y_axis_sizes)\n",
        "# max_y_axis_size = max(y_axis_sizes)\n",
        "\n",
        "# print(f\"Minimum Y-Axis (Timestamp) Size: {min_y_axis_size}\")\n",
        "# print(f\"Maximum Y-Axis (Timestamp) Size: {max_y_axis_size}\")\n"
      ],
      "metadata": {
        "id": "q1GW4DvPHulC"
      },
      "execution_count": null,
      "outputs": []
    },
    {
      "cell_type": "code",
      "source": [
        "final_df.head()  # Displays the first 5 rows\n",
        "\n"
      ],
      "metadata": {
        "id": "U-vbS8tw6l6Z",
        "colab": {
          "base_uri": "https://localhost:8080/",
          "height": 164
        },
        "outputId": "ecd66d0a-3440-41ae-9dc1-7fb373ffe19f"
      },
      "execution_count": null,
      "outputs": [
        {
          "output_type": "execute_result",
          "data": {
            "text/plain": [
              "                                          1_tyc_eeg1  \\\n",
              "0  [[7.450563461147859, 3.4488083189013654, 1.773...   \n",
              "\n",
              "                                          1_tyc_eeg2  \\\n",
              "0  [[-0.027878384035650475, -0.027901897795298336...   \n",
              "\n",
              "                                          1_tyc_eeg3  \\\n",
              "0  [[6.5518392321890175, 1.258455266772553, 0.805...   \n",
              "\n",
              "                                          1_tyc_eeg4  \\\n",
              "0  [[6.300552504113506, 1.2101904800534637, 0.792...   \n",
              "\n",
              "                                          1_tyc_eeg5  \\\n",
              "0  [[4.362248019732254, 2.4103249716384387, 1.593...   \n",
              "\n",
              "                                          1_tyc_eeg6  \\\n",
              "0  [[1.6336325071803863, 0.7802085152181437, 0.31...   \n",
              "\n",
              "                                          1_tyc_eeg7  \\\n",
              "0  [[1.4119017146431703, 0.4819050234786179, 0.30...   \n",
              "\n",
              "                                          1_tyc_eeg8  \\\n",
              "0  [[6.407428973270762, 2.596688327933112, 1.4784...   \n",
              "\n",
              "                                          1_tyc_eeg9  \\\n",
              "0  [[4.912030693100552, 3.061976975596334, 0.8225...   \n",
              "\n",
              "                                         1_tyc_eeg10  ...  \\\n",
              "0  [[1.9403141609195886, 1.3607990217628974, 0.80...  ...   \n",
              "\n",
              "                                          2_rx_eeg15  \\\n",
              "0  [[10.311987159663044, 7.643762257990364, 7.211...   \n",
              "\n",
              "                                          2_rx_eeg16  \\\n",
              "0  [[3.432100483204262, 5.338639321581281, 4.2119...   \n",
              "\n",
              "                                          2_rx_eeg17  \\\n",
              "0  [[7.611249375632735, 5.149828095467828, 1.9806...   \n",
              "\n",
              "                                          2_rx_eeg18  \\\n",
              "0  [[13.971921233855754, 12.387898221347434, 7.61...   \n",
              "\n",
              "                                          2_rx_eeg19  \\\n",
              "0  [[10.056440562750495, 2.139100417764359, 1.947...   \n",
              "\n",
              "                                          2_rx_eeg20  \\\n",
              "0  [[5.578192667009713, 2.7741078601082325, 1.127...   \n",
              "\n",
              "                                          2_rx_eeg21  \\\n",
              "0  [[0.048347848322318095, 0.030823704524756933, ...   \n",
              "\n",
              "                                          2_rx_eeg22  \\\n",
              "0  [[16.38932223334313, 13.151748087556548, 5.171...   \n",
              "\n",
              "                                          2_rx_eeg23  \\\n",
              "0  [[13.202736740069337, 3.366090363953193, 1.418...   \n",
              "\n",
              "                                          2_rx_eeg24  \n",
              "0  [[9.712646090802163, 7.187281004415823, 2.5933...  \n",
              "\n",
              "[1 rows x 1080 columns]"
            ],
            "text/html": [
              "\n",
              "  <div id=\"df-74d11a75-3c36-4581-8197-cd4927d8df90\" class=\"colab-df-container\">\n",
              "    <div>\n",
              "<style scoped>\n",
              "    .dataframe tbody tr th:only-of-type {\n",
              "        vertical-align: middle;\n",
              "    }\n",
              "\n",
              "    .dataframe tbody tr th {\n",
              "        vertical-align: top;\n",
              "    }\n",
              "\n",
              "    .dataframe thead th {\n",
              "        text-align: right;\n",
              "    }\n",
              "</style>\n",
              "<table border=\"1\" class=\"dataframe\">\n",
              "  <thead>\n",
              "    <tr style=\"text-align: right;\">\n",
              "      <th></th>\n",
              "      <th>1_tyc_eeg1</th>\n",
              "      <th>1_tyc_eeg2</th>\n",
              "      <th>1_tyc_eeg3</th>\n",
              "      <th>1_tyc_eeg4</th>\n",
              "      <th>1_tyc_eeg5</th>\n",
              "      <th>1_tyc_eeg6</th>\n",
              "      <th>1_tyc_eeg7</th>\n",
              "      <th>1_tyc_eeg8</th>\n",
              "      <th>1_tyc_eeg9</th>\n",
              "      <th>1_tyc_eeg10</th>\n",
              "      <th>...</th>\n",
              "      <th>2_rx_eeg15</th>\n",
              "      <th>2_rx_eeg16</th>\n",
              "      <th>2_rx_eeg17</th>\n",
              "      <th>2_rx_eeg18</th>\n",
              "      <th>2_rx_eeg19</th>\n",
              "      <th>2_rx_eeg20</th>\n",
              "      <th>2_rx_eeg21</th>\n",
              "      <th>2_rx_eeg22</th>\n",
              "      <th>2_rx_eeg23</th>\n",
              "      <th>2_rx_eeg24</th>\n",
              "    </tr>\n",
              "  </thead>\n",
              "  <tbody>\n",
              "    <tr>\n",
              "      <th>0</th>\n",
              "      <td>[[7.450563461147859, 3.4488083189013654, 1.773...</td>\n",
              "      <td>[[-0.027878384035650475, -0.027901897795298336...</td>\n",
              "      <td>[[6.5518392321890175, 1.258455266772553, 0.805...</td>\n",
              "      <td>[[6.300552504113506, 1.2101904800534637, 0.792...</td>\n",
              "      <td>[[4.362248019732254, 2.4103249716384387, 1.593...</td>\n",
              "      <td>[[1.6336325071803863, 0.7802085152181437, 0.31...</td>\n",
              "      <td>[[1.4119017146431703, 0.4819050234786179, 0.30...</td>\n",
              "      <td>[[6.407428973270762, 2.596688327933112, 1.4784...</td>\n",
              "      <td>[[4.912030693100552, 3.061976975596334, 0.8225...</td>\n",
              "      <td>[[1.9403141609195886, 1.3607990217628974, 0.80...</td>\n",
              "      <td>...</td>\n",
              "      <td>[[10.311987159663044, 7.643762257990364, 7.211...</td>\n",
              "      <td>[[3.432100483204262, 5.338639321581281, 4.2119...</td>\n",
              "      <td>[[7.611249375632735, 5.149828095467828, 1.9806...</td>\n",
              "      <td>[[13.971921233855754, 12.387898221347434, 7.61...</td>\n",
              "      <td>[[10.056440562750495, 2.139100417764359, 1.947...</td>\n",
              "      <td>[[5.578192667009713, 2.7741078601082325, 1.127...</td>\n",
              "      <td>[[0.048347848322318095, 0.030823704524756933, ...</td>\n",
              "      <td>[[16.38932223334313, 13.151748087556548, 5.171...</td>\n",
              "      <td>[[13.202736740069337, 3.366090363953193, 1.418...</td>\n",
              "      <td>[[9.712646090802163, 7.187281004415823, 2.5933...</td>\n",
              "    </tr>\n",
              "  </tbody>\n",
              "</table>\n",
              "<p>1 rows × 1080 columns</p>\n",
              "</div>\n",
              "    <div class=\"colab-df-buttons\">\n",
              "\n",
              "  <div class=\"colab-df-container\">\n",
              "    <button class=\"colab-df-convert\" onclick=\"convertToInteractive('df-74d11a75-3c36-4581-8197-cd4927d8df90')\"\n",
              "            title=\"Convert this dataframe to an interactive table.\"\n",
              "            style=\"display:none;\">\n",
              "\n",
              "  <svg xmlns=\"http://www.w3.org/2000/svg\" height=\"24px\" viewBox=\"0 -960 960 960\">\n",
              "    <path d=\"M120-120v-720h720v720H120Zm60-500h600v-160H180v160Zm220 220h160v-160H400v160Zm0 220h160v-160H400v160ZM180-400h160v-160H180v160Zm440 0h160v-160H620v160ZM180-180h160v-160H180v160Zm440 0h160v-160H620v160Z\"/>\n",
              "  </svg>\n",
              "    </button>\n",
              "\n",
              "  <style>\n",
              "    .colab-df-container {\n",
              "      display:flex;\n",
              "      gap: 12px;\n",
              "    }\n",
              "\n",
              "    .colab-df-convert {\n",
              "      background-color: #E8F0FE;\n",
              "      border: none;\n",
              "      border-radius: 50%;\n",
              "      cursor: pointer;\n",
              "      display: none;\n",
              "      fill: #1967D2;\n",
              "      height: 32px;\n",
              "      padding: 0 0 0 0;\n",
              "      width: 32px;\n",
              "    }\n",
              "\n",
              "    .colab-df-convert:hover {\n",
              "      background-color: #E2EBFA;\n",
              "      box-shadow: 0px 1px 2px rgba(60, 64, 67, 0.3), 0px 1px 3px 1px rgba(60, 64, 67, 0.15);\n",
              "      fill: #174EA6;\n",
              "    }\n",
              "\n",
              "    .colab-df-buttons div {\n",
              "      margin-bottom: 4px;\n",
              "    }\n",
              "\n",
              "    [theme=dark] .colab-df-convert {\n",
              "      background-color: #3B4455;\n",
              "      fill: #D2E3FC;\n",
              "    }\n",
              "\n",
              "    [theme=dark] .colab-df-convert:hover {\n",
              "      background-color: #434B5C;\n",
              "      box-shadow: 0px 1px 3px 1px rgba(0, 0, 0, 0.15);\n",
              "      filter: drop-shadow(0px 1px 2px rgba(0, 0, 0, 0.3));\n",
              "      fill: #FFFFFF;\n",
              "    }\n",
              "  </style>\n",
              "\n",
              "    <script>\n",
              "      const buttonEl =\n",
              "        document.querySelector('#df-74d11a75-3c36-4581-8197-cd4927d8df90 button.colab-df-convert');\n",
              "      buttonEl.style.display =\n",
              "        google.colab.kernel.accessAllowed ? 'block' : 'none';\n",
              "\n",
              "      async function convertToInteractive(key) {\n",
              "        const element = document.querySelector('#df-74d11a75-3c36-4581-8197-cd4927d8df90');\n",
              "        const dataTable =\n",
              "          await google.colab.kernel.invokeFunction('convertToInteractive',\n",
              "                                                    [key], {});\n",
              "        if (!dataTable) return;\n",
              "\n",
              "        const docLinkHtml = 'Like what you see? Visit the ' +\n",
              "          '<a target=\"_blank\" href=https://colab.research.google.com/notebooks/data_table.ipynb>data table notebook</a>'\n",
              "          + ' to learn more about interactive tables.';\n",
              "        element.innerHTML = '';\n",
              "        dataTable['output_type'] = 'display_data';\n",
              "        await google.colab.output.renderOutput(dataTable, element);\n",
              "        const docLink = document.createElement('div');\n",
              "        docLink.innerHTML = docLinkHtml;\n",
              "        element.appendChild(docLink);\n",
              "      }\n",
              "    </script>\n",
              "  </div>\n",
              "\n",
              "    </div>\n",
              "  </div>\n"
            ]
          },
          "metadata": {},
          "execution_count": 31
        }
      ]
    },
    {
      "cell_type": "code",
      "source": [
        "value = final_df.iloc[0, 1]  # Row index 2 (3rd row) and column index 1 (2nd column)\n",
        "print(\"value:\", value.shape)\n"
      ],
      "metadata": {
        "id": "bX1ge2Zd-SIB",
        "colab": {
          "base_uri": "https://localhost:8080/"
        },
        "outputId": "cb44a73d-bcf9-46b1-cd8d-044a642f58d9"
      },
      "execution_count": null,
      "outputs": [
        {
          "output_type": "stream",
          "name": "stdout",
          "text": [
            "value: (62, 46)\n"
          ]
        }
      ]
    },
    {
      "cell_type": "markdown",
      "source": [
        "#Labelling"
      ],
      "metadata": {
        "id": "IGwviCfzL7uQ"
      }
    },
    {
      "cell_type": "code",
      "source": [
        "# Sample labels from your provided information\n",
        "session1_label = [1, 2, 3, 0, 2, 0, 0, 1, 0, 1, 2, 1, 1, 1, 2, 3, 2, 2, 3, 3, 0, 3, 0, 3]\n",
        "session2_label = [2, 1, 3, 0, 0, 2, 0, 2, 3, 3, 2, 3, 2, 0, 1, 1, 2, 1, 0, 3, 0, 1, 3, 1]\n",
        "session3_label = [1, 2, 2, 1, 3, 3, 3, 1, 1, 2, 1, 0, 2, 3, 3, 0, 2, 3, 0, 0, 2, 0, 1, 0]\n",
        "\n",
        "# Sample DataFrame column names\n",
        "column_names = final_df.columns\n",
        "\n",
        "# Add a new row for emotion labels\n",
        "final_df.loc['Emotion_Label'] = [\n",
        "    session1_label[int(name[-2:]) - 1] if name[0] == '1' and name[-2].isdigit() else\n",
        "    session1_label[int(name[-1:]) - 1] if name[0] == '1' else\n",
        "    session2_label[int(name[-2:]) - 1] if name[0] == '2' and name[-2].isdigit() else\n",
        "    session2_label[int(name[-1:]) - 1] if name[0] == '2' else\n",
        "    session3_label[int(name[-2:]) - 1] if name[0] == '3' and name[-2].isdigit() else\n",
        "    session3_label[int(name[-1:]) - 1] if name[0] == '3' else 20\n",
        " for name in column_names\n",
        "]\n"
      ],
      "metadata": {
        "id": "rQzCBPBKA-lK"
      },
      "execution_count": null,
      "outputs": []
    },
    {
      "cell_type": "code",
      "source": [
        "# Convert labels to integers\n",
        "label_mapping = {'Class 0': 0, 'Class 1': 1, 'Class 2': 2, 'Class 3': 3}\n",
        "final_df = final_df.replace({'Emotion_Label': label_mapping})"
      ],
      "metadata": {
        "id": "q1a2PyrRSU3V"
      },
      "execution_count": null,
      "outputs": []
    },
    {
      "cell_type": "code",
      "source": [
        "final_df.head()  # Displays the first 5 rows\n"
      ],
      "metadata": {
        "id": "1hdX8AcWCAls",
        "colab": {
          "base_uri": "https://localhost:8080/",
          "height": 196
        },
        "outputId": "a6838b7f-a770-4766-818f-821cfa32120e"
      },
      "execution_count": null,
      "outputs": [
        {
          "output_type": "execute_result",
          "data": {
            "text/plain": [
              "                                                      1_tyc_eeg1  \\\n",
              "0              [[7.450563461147859, 3.4488083189013654, 1.773...   \n",
              "Emotion_Label                                                  1   \n",
              "\n",
              "                                                      1_tyc_eeg2  \\\n",
              "0              [[-0.027878384035650475, -0.027901897795298336...   \n",
              "Emotion_Label                                                  2   \n",
              "\n",
              "                                                      1_tyc_eeg3  \\\n",
              "0              [[6.5518392321890175, 1.258455266772553, 0.805...   \n",
              "Emotion_Label                                                  3   \n",
              "\n",
              "                                                      1_tyc_eeg4  \\\n",
              "0              [[6.300552504113506, 1.2101904800534637, 0.792...   \n",
              "Emotion_Label                                                  0   \n",
              "\n",
              "                                                      1_tyc_eeg5  \\\n",
              "0              [[4.362248019732254, 2.4103249716384387, 1.593...   \n",
              "Emotion_Label                                                  2   \n",
              "\n",
              "                                                      1_tyc_eeg6  \\\n",
              "0              [[1.6336325071803863, 0.7802085152181437, 0.31...   \n",
              "Emotion_Label                                                  0   \n",
              "\n",
              "                                                      1_tyc_eeg7  \\\n",
              "0              [[1.4119017146431703, 0.4819050234786179, 0.30...   \n",
              "Emotion_Label                                                  0   \n",
              "\n",
              "                                                      1_tyc_eeg8  \\\n",
              "0              [[6.407428973270762, 2.596688327933112, 1.4784...   \n",
              "Emotion_Label                                                  1   \n",
              "\n",
              "                                                      1_tyc_eeg9  \\\n",
              "0              [[4.912030693100552, 3.061976975596334, 0.8225...   \n",
              "Emotion_Label                                                  0   \n",
              "\n",
              "                                                     1_tyc_eeg10  ...  \\\n",
              "0              [[1.9403141609195886, 1.3607990217628974, 0.80...  ...   \n",
              "Emotion_Label                                                  1  ...   \n",
              "\n",
              "                                                      2_rx_eeg15  \\\n",
              "0              [[10.311987159663044, 7.643762257990364, 7.211...   \n",
              "Emotion_Label                                                  1   \n",
              "\n",
              "                                                      2_rx_eeg16  \\\n",
              "0              [[3.432100483204262, 5.338639321581281, 4.2119...   \n",
              "Emotion_Label                                                  1   \n",
              "\n",
              "                                                      2_rx_eeg17  \\\n",
              "0              [[7.611249375632735, 5.149828095467828, 1.9806...   \n",
              "Emotion_Label                                                  2   \n",
              "\n",
              "                                                      2_rx_eeg18  \\\n",
              "0              [[13.971921233855754, 12.387898221347434, 7.61...   \n",
              "Emotion_Label                                                  1   \n",
              "\n",
              "                                                      2_rx_eeg19  \\\n",
              "0              [[10.056440562750495, 2.139100417764359, 1.947...   \n",
              "Emotion_Label                                                  0   \n",
              "\n",
              "                                                      2_rx_eeg20  \\\n",
              "0              [[5.578192667009713, 2.7741078601082325, 1.127...   \n",
              "Emotion_Label                                                  3   \n",
              "\n",
              "                                                      2_rx_eeg21  \\\n",
              "0              [[0.048347848322318095, 0.030823704524756933, ...   \n",
              "Emotion_Label                                                  0   \n",
              "\n",
              "                                                      2_rx_eeg22  \\\n",
              "0              [[16.38932223334313, 13.151748087556548, 5.171...   \n",
              "Emotion_Label                                                  1   \n",
              "\n",
              "                                                      2_rx_eeg23  \\\n",
              "0              [[13.202736740069337, 3.366090363953193, 1.418...   \n",
              "Emotion_Label                                                  3   \n",
              "\n",
              "                                                      2_rx_eeg24  \n",
              "0              [[9.712646090802163, 7.187281004415823, 2.5933...  \n",
              "Emotion_Label                                                  1  \n",
              "\n",
              "[2 rows x 1080 columns]"
            ],
            "text/html": [
              "\n",
              "  <div id=\"df-0f32c715-851e-4191-9413-e43437524eed\" class=\"colab-df-container\">\n",
              "    <div>\n",
              "<style scoped>\n",
              "    .dataframe tbody tr th:only-of-type {\n",
              "        vertical-align: middle;\n",
              "    }\n",
              "\n",
              "    .dataframe tbody tr th {\n",
              "        vertical-align: top;\n",
              "    }\n",
              "\n",
              "    .dataframe thead th {\n",
              "        text-align: right;\n",
              "    }\n",
              "</style>\n",
              "<table border=\"1\" class=\"dataframe\">\n",
              "  <thead>\n",
              "    <tr style=\"text-align: right;\">\n",
              "      <th></th>\n",
              "      <th>1_tyc_eeg1</th>\n",
              "      <th>1_tyc_eeg2</th>\n",
              "      <th>1_tyc_eeg3</th>\n",
              "      <th>1_tyc_eeg4</th>\n",
              "      <th>1_tyc_eeg5</th>\n",
              "      <th>1_tyc_eeg6</th>\n",
              "      <th>1_tyc_eeg7</th>\n",
              "      <th>1_tyc_eeg8</th>\n",
              "      <th>1_tyc_eeg9</th>\n",
              "      <th>1_tyc_eeg10</th>\n",
              "      <th>...</th>\n",
              "      <th>2_rx_eeg15</th>\n",
              "      <th>2_rx_eeg16</th>\n",
              "      <th>2_rx_eeg17</th>\n",
              "      <th>2_rx_eeg18</th>\n",
              "      <th>2_rx_eeg19</th>\n",
              "      <th>2_rx_eeg20</th>\n",
              "      <th>2_rx_eeg21</th>\n",
              "      <th>2_rx_eeg22</th>\n",
              "      <th>2_rx_eeg23</th>\n",
              "      <th>2_rx_eeg24</th>\n",
              "    </tr>\n",
              "  </thead>\n",
              "  <tbody>\n",
              "    <tr>\n",
              "      <th>0</th>\n",
              "      <td>[[7.450563461147859, 3.4488083189013654, 1.773...</td>\n",
              "      <td>[[-0.027878384035650475, -0.027901897795298336...</td>\n",
              "      <td>[[6.5518392321890175, 1.258455266772553, 0.805...</td>\n",
              "      <td>[[6.300552504113506, 1.2101904800534637, 0.792...</td>\n",
              "      <td>[[4.362248019732254, 2.4103249716384387, 1.593...</td>\n",
              "      <td>[[1.6336325071803863, 0.7802085152181437, 0.31...</td>\n",
              "      <td>[[1.4119017146431703, 0.4819050234786179, 0.30...</td>\n",
              "      <td>[[6.407428973270762, 2.596688327933112, 1.4784...</td>\n",
              "      <td>[[4.912030693100552, 3.061976975596334, 0.8225...</td>\n",
              "      <td>[[1.9403141609195886, 1.3607990217628974, 0.80...</td>\n",
              "      <td>...</td>\n",
              "      <td>[[10.311987159663044, 7.643762257990364, 7.211...</td>\n",
              "      <td>[[3.432100483204262, 5.338639321581281, 4.2119...</td>\n",
              "      <td>[[7.611249375632735, 5.149828095467828, 1.9806...</td>\n",
              "      <td>[[13.971921233855754, 12.387898221347434, 7.61...</td>\n",
              "      <td>[[10.056440562750495, 2.139100417764359, 1.947...</td>\n",
              "      <td>[[5.578192667009713, 2.7741078601082325, 1.127...</td>\n",
              "      <td>[[0.048347848322318095, 0.030823704524756933, ...</td>\n",
              "      <td>[[16.38932223334313, 13.151748087556548, 5.171...</td>\n",
              "      <td>[[13.202736740069337, 3.366090363953193, 1.418...</td>\n",
              "      <td>[[9.712646090802163, 7.187281004415823, 2.5933...</td>\n",
              "    </tr>\n",
              "    <tr>\n",
              "      <th>Emotion_Label</th>\n",
              "      <td>1</td>\n",
              "      <td>2</td>\n",
              "      <td>3</td>\n",
              "      <td>0</td>\n",
              "      <td>2</td>\n",
              "      <td>0</td>\n",
              "      <td>0</td>\n",
              "      <td>1</td>\n",
              "      <td>0</td>\n",
              "      <td>1</td>\n",
              "      <td>...</td>\n",
              "      <td>1</td>\n",
              "      <td>1</td>\n",
              "      <td>2</td>\n",
              "      <td>1</td>\n",
              "      <td>0</td>\n",
              "      <td>3</td>\n",
              "      <td>0</td>\n",
              "      <td>1</td>\n",
              "      <td>3</td>\n",
              "      <td>1</td>\n",
              "    </tr>\n",
              "  </tbody>\n",
              "</table>\n",
              "<p>2 rows × 1080 columns</p>\n",
              "</div>\n",
              "    <div class=\"colab-df-buttons\">\n",
              "\n",
              "  <div class=\"colab-df-container\">\n",
              "    <button class=\"colab-df-convert\" onclick=\"convertToInteractive('df-0f32c715-851e-4191-9413-e43437524eed')\"\n",
              "            title=\"Convert this dataframe to an interactive table.\"\n",
              "            style=\"display:none;\">\n",
              "\n",
              "  <svg xmlns=\"http://www.w3.org/2000/svg\" height=\"24px\" viewBox=\"0 -960 960 960\">\n",
              "    <path d=\"M120-120v-720h720v720H120Zm60-500h600v-160H180v160Zm220 220h160v-160H400v160Zm0 220h160v-160H400v160ZM180-400h160v-160H180v160Zm440 0h160v-160H620v160ZM180-180h160v-160H180v160Zm440 0h160v-160H620v160Z\"/>\n",
              "  </svg>\n",
              "    </button>\n",
              "\n",
              "  <style>\n",
              "    .colab-df-container {\n",
              "      display:flex;\n",
              "      gap: 12px;\n",
              "    }\n",
              "\n",
              "    .colab-df-convert {\n",
              "      background-color: #E8F0FE;\n",
              "      border: none;\n",
              "      border-radius: 50%;\n",
              "      cursor: pointer;\n",
              "      display: none;\n",
              "      fill: #1967D2;\n",
              "      height: 32px;\n",
              "      padding: 0 0 0 0;\n",
              "      width: 32px;\n",
              "    }\n",
              "\n",
              "    .colab-df-convert:hover {\n",
              "      background-color: #E2EBFA;\n",
              "      box-shadow: 0px 1px 2px rgba(60, 64, 67, 0.3), 0px 1px 3px 1px rgba(60, 64, 67, 0.15);\n",
              "      fill: #174EA6;\n",
              "    }\n",
              "\n",
              "    .colab-df-buttons div {\n",
              "      margin-bottom: 4px;\n",
              "    }\n",
              "\n",
              "    [theme=dark] .colab-df-convert {\n",
              "      background-color: #3B4455;\n",
              "      fill: #D2E3FC;\n",
              "    }\n",
              "\n",
              "    [theme=dark] .colab-df-convert:hover {\n",
              "      background-color: #434B5C;\n",
              "      box-shadow: 0px 1px 3px 1px rgba(0, 0, 0, 0.15);\n",
              "      filter: drop-shadow(0px 1px 2px rgba(0, 0, 0, 0.3));\n",
              "      fill: #FFFFFF;\n",
              "    }\n",
              "  </style>\n",
              "\n",
              "    <script>\n",
              "      const buttonEl =\n",
              "        document.querySelector('#df-0f32c715-851e-4191-9413-e43437524eed button.colab-df-convert');\n",
              "      buttonEl.style.display =\n",
              "        google.colab.kernel.accessAllowed ? 'block' : 'none';\n",
              "\n",
              "      async function convertToInteractive(key) {\n",
              "        const element = document.querySelector('#df-0f32c715-851e-4191-9413-e43437524eed');\n",
              "        const dataTable =\n",
              "          await google.colab.kernel.invokeFunction('convertToInteractive',\n",
              "                                                    [key], {});\n",
              "        if (!dataTable) return;\n",
              "\n",
              "        const docLinkHtml = 'Like what you see? Visit the ' +\n",
              "          '<a target=\"_blank\" href=https://colab.research.google.com/notebooks/data_table.ipynb>data table notebook</a>'\n",
              "          + ' to learn more about interactive tables.';\n",
              "        element.innerHTML = '';\n",
              "        dataTable['output_type'] = 'display_data';\n",
              "        await google.colab.output.renderOutput(dataTable, element);\n",
              "        const docLink = document.createElement('div');\n",
              "        docLink.innerHTML = docLinkHtml;\n",
              "        element.appendChild(docLink);\n",
              "      }\n",
              "    </script>\n",
              "  </div>\n",
              "\n",
              "\n",
              "<div id=\"df-b37ad7da-d76b-4912-b962-ced1fe1dbbbb\">\n",
              "  <button class=\"colab-df-quickchart\" onclick=\"quickchart('df-b37ad7da-d76b-4912-b962-ced1fe1dbbbb')\"\n",
              "            title=\"Suggest charts\"\n",
              "            style=\"display:none;\">\n",
              "\n",
              "<svg xmlns=\"http://www.w3.org/2000/svg\" height=\"24px\"viewBox=\"0 0 24 24\"\n",
              "     width=\"24px\">\n",
              "    <g>\n",
              "        <path d=\"M19 3H5c-1.1 0-2 .9-2 2v14c0 1.1.9 2 2 2h14c1.1 0 2-.9 2-2V5c0-1.1-.9-2-2-2zM9 17H7v-7h2v7zm4 0h-2V7h2v10zm4 0h-2v-4h2v4z\"/>\n",
              "    </g>\n",
              "</svg>\n",
              "  </button>\n",
              "\n",
              "<style>\n",
              "  .colab-df-quickchart {\n",
              "      --bg-color: #E8F0FE;\n",
              "      --fill-color: #1967D2;\n",
              "      --hover-bg-color: #E2EBFA;\n",
              "      --hover-fill-color: #174EA6;\n",
              "      --disabled-fill-color: #AAA;\n",
              "      --disabled-bg-color: #DDD;\n",
              "  }\n",
              "\n",
              "  [theme=dark] .colab-df-quickchart {\n",
              "      --bg-color: #3B4455;\n",
              "      --fill-color: #D2E3FC;\n",
              "      --hover-bg-color: #434B5C;\n",
              "      --hover-fill-color: #FFFFFF;\n",
              "      --disabled-bg-color: #3B4455;\n",
              "      --disabled-fill-color: #666;\n",
              "  }\n",
              "\n",
              "  .colab-df-quickchart {\n",
              "    background-color: var(--bg-color);\n",
              "    border: none;\n",
              "    border-radius: 50%;\n",
              "    cursor: pointer;\n",
              "    display: none;\n",
              "    fill: var(--fill-color);\n",
              "    height: 32px;\n",
              "    padding: 0;\n",
              "    width: 32px;\n",
              "  }\n",
              "\n",
              "  .colab-df-quickchart:hover {\n",
              "    background-color: var(--hover-bg-color);\n",
              "    box-shadow: 0 1px 2px rgba(60, 64, 67, 0.3), 0 1px 3px 1px rgba(60, 64, 67, 0.15);\n",
              "    fill: var(--button-hover-fill-color);\n",
              "  }\n",
              "\n",
              "  .colab-df-quickchart-complete:disabled,\n",
              "  .colab-df-quickchart-complete:disabled:hover {\n",
              "    background-color: var(--disabled-bg-color);\n",
              "    fill: var(--disabled-fill-color);\n",
              "    box-shadow: none;\n",
              "  }\n",
              "\n",
              "  .colab-df-spinner {\n",
              "    border: 2px solid var(--fill-color);\n",
              "    border-color: transparent;\n",
              "    border-bottom-color: var(--fill-color);\n",
              "    animation:\n",
              "      spin 1s steps(1) infinite;\n",
              "  }\n",
              "\n",
              "  @keyframes spin {\n",
              "    0% {\n",
              "      border-color: transparent;\n",
              "      border-bottom-color: var(--fill-color);\n",
              "      border-left-color: var(--fill-color);\n",
              "    }\n",
              "    20% {\n",
              "      border-color: transparent;\n",
              "      border-left-color: var(--fill-color);\n",
              "      border-top-color: var(--fill-color);\n",
              "    }\n",
              "    30% {\n",
              "      border-color: transparent;\n",
              "      border-left-color: var(--fill-color);\n",
              "      border-top-color: var(--fill-color);\n",
              "      border-right-color: var(--fill-color);\n",
              "    }\n",
              "    40% {\n",
              "      border-color: transparent;\n",
              "      border-right-color: var(--fill-color);\n",
              "      border-top-color: var(--fill-color);\n",
              "    }\n",
              "    60% {\n",
              "      border-color: transparent;\n",
              "      border-right-color: var(--fill-color);\n",
              "    }\n",
              "    80% {\n",
              "      border-color: transparent;\n",
              "      border-right-color: var(--fill-color);\n",
              "      border-bottom-color: var(--fill-color);\n",
              "    }\n",
              "    90% {\n",
              "      border-color: transparent;\n",
              "      border-bottom-color: var(--fill-color);\n",
              "    }\n",
              "  }\n",
              "</style>\n",
              "\n",
              "  <script>\n",
              "    async function quickchart(key) {\n",
              "      const quickchartButtonEl =\n",
              "        document.querySelector('#' + key + ' button');\n",
              "      quickchartButtonEl.disabled = true;  // To prevent multiple clicks.\n",
              "      quickchartButtonEl.classList.add('colab-df-spinner');\n",
              "      try {\n",
              "        const charts = await google.colab.kernel.invokeFunction(\n",
              "            'suggestCharts', [key], {});\n",
              "      } catch (error) {\n",
              "        console.error('Error during call to suggestCharts:', error);\n",
              "      }\n",
              "      quickchartButtonEl.classList.remove('colab-df-spinner');\n",
              "      quickchartButtonEl.classList.add('colab-df-quickchart-complete');\n",
              "    }\n",
              "    (() => {\n",
              "      let quickchartButtonEl =\n",
              "        document.querySelector('#df-b37ad7da-d76b-4912-b962-ced1fe1dbbbb button');\n",
              "      quickchartButtonEl.style.display =\n",
              "        google.colab.kernel.accessAllowed ? 'block' : 'none';\n",
              "    })();\n",
              "  </script>\n",
              "</div>\n",
              "    </div>\n",
              "  </div>\n"
            ]
          },
          "metadata": {},
          "execution_count": 35
        }
      ]
    },
    {
      "cell_type": "markdown",
      "source": [
        "#Data split"
      ],
      "metadata": {
        "id": "mwxBrqYBMHXf"
      }
    },
    {
      "cell_type": "code",
      "source": [
        "import numpy as np\n",
        "\n",
        "# Assuming Image_Matrix and Label are your DataFrames\n",
        "# Extract the data and labels\n",
        "# Extract the data and labels\n",
        "Image_Matrix = final_df.iloc[0, :].to_list()\n",
        "Label = final_df.iloc[1, :].to_list()\n",
        "\n",
        "# Define X as the input data (images)\n",
        "X = np.array(Image_Matrix).reshape(-1, 62, 46, 1)\n",
        "\n",
        "# Define y as the labels\n",
        "y = np.array(Label)\n",
        "\n",
        "# Split the data into training, validation, and test sets\n",
        "from sklearn.model_selection import train_test_split\n",
        "X_train, X_temp, y_train, y_temp = train_test_split(X, y, test_size=0.2, random_state=None)\n",
        "X_val, X_test, y_val, y_test = train_test_split(X_temp, y_temp, test_size=0.3, random_state=None)\n"
      ],
      "metadata": {
        "id": "V17yY4A7xWAQ"
      },
      "execution_count": null,
      "outputs": []
    },
    {
      "cell_type": "code",
      "source": [
        "print(\"Data types and shapes:\")\n",
        "print(\"X_train:\", type(X_train), X_train.shape if hasattr(X_train, 'shape') else None)\n",
        "print(\"X_val:\", type(X_val), X_val.shape if hasattr(X_val, 'shape') else None)\n",
        "print(\"X_test:\", type(X_test), X_test.shape if hasattr(X_test, 'shape') else None)\n",
        "print(\"y_train:\", type(y_train), y_train.shape if hasattr(y_train, 'shape') else None)\n",
        "print(\"y_val:\", type(y_val), y_val.shape if hasattr(y_val, 'shape') else None)\n",
        "print(\"y_test:\", type(y_test), y_test.shape if hasattr(y_test, 'shape') else None)\n",
        "\n",
        "# Check the data type of the first element in X_train\n",
        "if len(X_train) > 0:\n",
        "    print(\"Data type of the first element in X_train:\", type(X_train[0]))\n",
        "else:\n",
        "    print(\"X_train is empty.\")\n",
        "\n",
        "# Check the data type of the first element in y_train\n",
        "if len(y_train) > 0:\n",
        "    print(\"Data type of the first element in y_train:\", type(y_train[0]))\n",
        "else:\n",
        "    print(\"y_train is empty.\")\n"
      ],
      "metadata": {
        "colab": {
          "base_uri": "https://localhost:8080/"
        },
        "id": "ABINmPqkiEqD",
        "outputId": "512c1fd3-be77-4f96-c43d-a329a5f2f138"
      },
      "execution_count": null,
      "outputs": [
        {
          "output_type": "stream",
          "name": "stdout",
          "text": [
            "Data types and shapes:\n",
            "X_train: <class 'numpy.ndarray'> (864, 62, 46, 1)\n",
            "X_val: <class 'numpy.ndarray'> (151, 62, 46, 1)\n",
            "X_test: <class 'numpy.ndarray'> (65, 62, 46, 1)\n",
            "y_train: <class 'numpy.ndarray'> (864,)\n",
            "y_val: <class 'numpy.ndarray'> (151,)\n",
            "y_test: <class 'numpy.ndarray'> (65,)\n",
            "Data type of the first element in X_train: <class 'numpy.ndarray'>\n",
            "Data type of the first element in y_train: <class 'numpy.int64'>\n"
          ]
        }
      ]
    },
    {
      "cell_type": "code",
      "source": [
        "print(X_train.dtype)"
      ],
      "metadata": {
        "colab": {
          "base_uri": "https://localhost:8080/"
        },
        "id": "X7fAfwwEi6g9",
        "outputId": "3452eabf-1427-45f6-b662-98d7e55d9f31"
      },
      "execution_count": null,
      "outputs": [
        {
          "output_type": "stream",
          "name": "stdout",
          "text": [
            "float64\n"
          ]
        }
      ]
    },
    {
      "cell_type": "code",
      "source": [
        "print(y_train.dtype)"
      ],
      "metadata": {
        "colab": {
          "base_uri": "https://localhost:8080/"
        },
        "id": "gAk7RqiBdXDs",
        "outputId": "06a1d1c0-0fa7-4d46-e940-b286517a8558"
      },
      "execution_count": null,
      "outputs": [
        {
          "output_type": "stream",
          "name": "stdout",
          "text": [
            "int64\n"
          ]
        }
      ]
    },
    {
      "cell_type": "code",
      "source": [
        "# X_train = X_train.numpy()\n",
        "# y_train = y_train.numpy()\n",
        "# X_val = X_val.numpy()\n",
        "# y_val = y_val.numpy()\n",
        "# X_test = X_test.numpy()\n",
        "# y_test = y_test.numpy()\n"
      ],
      "metadata": {
        "id": "1u4Lcls4rIzM"
      },
      "execution_count": null,
      "outputs": []
    },
    {
      "cell_type": "code",
      "source": [
        "import matplotlib.pyplot as plt\n",
        "\n",
        "# Visualize some EEG data samples\n",
        "sample_indices = [0, 1, 2]\n",
        "for index in sample_indices:\n",
        "    sample_image = X_train[index]  # Reshape to (62, 62)\n",
        "    label = y_train[index]\n",
        "\n",
        "    plt.figure()\n",
        "    plt.imshow(sample_image, cmap='viridis')\n",
        "    plt.title(f\"Sample EEG Data - Label: {label}\")\n",
        "    plt.show()\n"
      ],
      "metadata": {
        "id": "WhN_NfmJ4xuH",
        "colab": {
          "base_uri": "https://localhost:8080/",
          "height": 1000
        },
        "outputId": "9a697536-f968-432c-96cc-f3b151f53dcc"
      },
      "execution_count": null,
      "outputs": [
        {
          "output_type": "display_data",
          "data": {
            "text/plain": [
              "<Figure size 640x480 with 1 Axes>"
            ],
            "image/png": "[encoded data removed]"
          },
          "metadata": {}
        },
        {
          "output_type": "display_data",
          "data": {
            "text/plain": [
              "<Figure size 640x480 with 1 Axes>"
            ],
            "image/png": "[encoded data removed]"
          },
          "metadata": {}
        },
        {
          "output_type": "display_data",
          "data": {
            "text/plain": [
              "<Figure size 640x480 with 1 Axes>"
            ],
            "image/png": "[encoded data removed]"
          },
          "metadata": {}
        }
      ]
    },
    {
      "cell_type": "markdown",
      "source": [
        "# CNN model\n"
      ],
      "metadata": {
        "id": "pi5yz7m4MOB4"
      }
    },
    {
      "cell_type": "code",
      "source": [
        "import tensorflow as tf\n",
        "from tensorflow import keras\n",
        "import numpy as np\n",
        "from sklearn.model_selection import StratifiedKFold\n",
        "from sklearn.metrics import confusion_matrix\n",
        "import seaborn as sns\n",
        "import matplotlib.pyplot as plt\n",
        "\n",
        "# Feature and label matrices\n",
        "X = np.array(Image_Matrix).reshape(-1, 62, 46, 1)\n",
        "y = np.array(Label)\n",
        "\n",
        "# Set the number of folds\n",
        "num_folds = 10\n",
        "skf = StratifiedKFold(n_splits=num_folds, shuffle=True, random_state=42)\n",
        "\n",
        "# Lists to store the results for each fold\n",
        "all_train_acc = []\n",
        "all_val_acc = []\n",
        "\n",
        "# Loop through the folds\n",
        "for fold, (train_index, val_index) in enumerate(skf.split(X, y), 1):\n",
        "    X_train, X_val = X[train_index], X[val_index]\n",
        "    y_train, y_val = y[train_index], y[val_index]\n",
        "\n",
        "    print(f\"\\nFold {fold}:\")\n",
        "    print(f\"X_train shape: {X_train.shape}, y_train shape: {y_train.shape}\")\n",
        "    print(f\"X_val shape: {X_val.shape}, y_val shape: {y_val.shape}\")\n",
        "\n",
        "    # Create and compile the model\n",
        "    model = keras.Sequential([\n",
        "        keras.layers.Conv2D(16, (3, 3), activation='relu', input_shape=(62, 46, 1)),\n",
        "        keras.layers.MaxPooling2D((2, 2)),\n",
        "        keras.layers.Conv2D(32, (3, 3), activation='relu'),\n",
        "        keras.layers.MaxPooling2D((2, 2)),\n",
        "        keras.layers.Flatten(),\n",
        "        keras.layers.Dense(128, activation='relu'),\n",
        "        keras.layers.Dropout(0.5),\n",
        "        keras.layers.Dense(4, activation='softmax')\n",
        "    ])\n",
        "    model.compile(optimizer='adam',\n",
        "                  loss='sparse_categorical_crossentropy',\n",
        "                  metrics=['accuracy'])\n",
        "\n",
        "    # Train the model\n",
        "    history = model.fit(X_train, y_train, epochs=12, validation_data=(X_val, y_val), verbose=0)\n",
        "\n",
        "    # Evaluate on training and validation sets\n",
        "    train_loss, train_acc = model.evaluate(X_train, y_train)\n",
        "    val_loss, val_acc = model.evaluate(X_val, y_val)\n",
        "\n",
        "    # Append results to lists\n",
        "    all_train_acc.append(train_acc)\n",
        "    all_val_acc.append(val_acc)\n",
        "\n",
        "# Calculate and print the average accuracy across folds\n",
        "avg_train_acc = np.mean(all_train_acc)\n",
        "avg_val_acc = np.mean(all_val_acc)\n",
        "print(f'\\nAverage Training Accuracy: {avg_train_acc}')\n",
        "print(f'Average Validation Accuracy: {avg_val_acc}')\n",
        "\n",
        "# Assuming X_test and y_test are your test data\n",
        "X_test = np.array(X_test).reshape(-1, 62, 46, 1)\n",
        "y_test = np.array(y_test)\n",
        "\n",
        "# Evaluate the model on the test set\n",
        "test_loss, test_acc = model.evaluate(X_test, y_test)\n",
        "print(\"Test accuracy:\", test_acc)\n",
        "\n",
        "# Display the model summary\n",
        "model.summary()\n",
        "\n",
        "# Visualize the confusion matrix\n",
        "y_pred = model.predict(X_test)\n",
        "y_pred_classes = np.argmax(y_pred, axis=1)\n",
        "cm = confusion_matrix(y_test, y_pred_classes)\n",
        "\n",
        "# Create a heatmap for the confusion matrix\n",
        "plt.figure(figsize=(8, 6))\n",
        "sns.heatmap(cm, annot=True, fmt='d', cmap='Blues', cbar=False)\n",
        "plt.xlabel('Predicted')\n",
        "plt.ylabel('Actual')\n",
        "plt.title('Confusion Matrix')\n",
        "plt.show()\n"
      ],
      "metadata": {
        "id": "t88xpGMyp0Ae",
        "colab": {
          "base_uri": "https://localhost:8080/",
          "height": 1000
        },
        "outputId": "b8059b91-4ee5-42ff-b1a5-c65a7d08a711"
      },
      "execution_count": null,
      "outputs": [
        {
          "output_type": "stream",
          "name": "stdout",
          "text": [
            "\n",
            "Fold 1:\n",
            "X_train shape: (972, 62, 46, 1), y_train shape: (972,)\n",
            "X_val shape: (108, 62, 46, 1), y_val shape: (108,)\n",
            "31/31 [==============================] - 1s 38ms/step - loss: 1.0779 - accuracy: 0.5586\n",
            "4/4 [==============================] - 0s 29ms/step - loss: 1.5630 - accuracy: 0.2500\n",
            "\n",
            "Fold 2:\n",
            "X_train shape: (972, 62, 46, 1), y_train shape: (972,)\n",
            "X_val shape: (108, 62, 46, 1), y_val shape: (108,)\n",
            "31/31 [==============================] - 1s 44ms/step - loss: 1.1025 - accuracy: 0.5288\n",
            "4/4 [==============================] - 0s 23ms/step - loss: 1.2992 - accuracy: 0.4259\n",
            "\n",
            "Fold 3:\n",
            "X_train shape: (972, 62, 46, 1), y_train shape: (972,)\n",
            "X_val shape: (108, 62, 46, 1), y_val shape: (108,)\n",
            "31/31 [==============================] - 1s 25ms/step - loss: 1.1026 - accuracy: 0.5010\n",
            "4/4 [==============================] - 0s 15ms/step - loss: 1.4838 - accuracy: 0.3611\n",
            "\n",
            "Fold 4:\n",
            "X_train shape: (972, 62, 46, 1), y_train shape: (972,)\n",
            "X_val shape: (108, 62, 46, 1), y_val shape: (108,)\n",
            "31/31 [==============================] - 1s 28ms/step - loss: 1.0650 - accuracy: 0.5689\n",
            "4/4 [==============================] - 0s 25ms/step - loss: 1.4364 - accuracy: 0.3333\n",
            "\n",
            "Fold 5:\n",
            "X_train shape: (972, 62, 46, 1), y_train shape: (972,)\n",
            "X_val shape: (108, 62, 46, 1), y_val shape: (108,)\n",
            "31/31 [==============================] - 0s 15ms/step - loss: 1.0965 - accuracy: 0.5432\n",
            "4/4 [==============================] - 0s 14ms/step - loss: 1.5464 - accuracy: 0.3981\n",
            "\n",
            "Fold 6:\n",
            "X_train shape: (972, 62, 46, 1), y_train shape: (972,)\n",
            "X_val shape: (108, 62, 46, 1), y_val shape: (108,)\n",
            "31/31 [==============================] - 0s 15ms/step - loss: 1.0576 - accuracy: 0.5813\n",
            "4/4 [==============================] - 0s 15ms/step - loss: 1.4757 - accuracy: 0.2778\n",
            "\n",
            "Fold 7:\n",
            "X_train shape: (972, 62, 46, 1), y_train shape: (972,)\n",
            "X_val shape: (108, 62, 46, 1), y_val shape: (108,)\n",
            "31/31 [==============================] - 0s 15ms/step - loss: 1.0508 - accuracy: 0.5720\n",
            "4/4 [==============================] - 0s 13ms/step - loss: 1.5720 - accuracy: 0.2963\n",
            "\n",
            "Fold 8:\n",
            "X_train shape: (972, 62, 46, 1), y_train shape: (972,)\n",
            "X_val shape: (108, 62, 46, 1), y_val shape: (108,)\n",
            "31/31 [==============================] - 1s 16ms/step - loss: 1.0834 - accuracy: 0.5453\n",
            "4/4 [==============================] - 0s 14ms/step - loss: 1.4697 - accuracy: 0.2870\n",
            "\n",
            "Fold 9:\n",
            "X_train shape: (972, 62, 46, 1), y_train shape: (972,)\n",
            "X_val shape: (108, 62, 46, 1), y_val shape: (108,)\n",
            "31/31 [==============================] - 0s 15ms/step - loss: 1.0243 - accuracy: 0.5679\n",
            "4/4 [==============================] - 0s 16ms/step - loss: 1.3932 - accuracy: 0.3519\n",
            "\n",
            "Fold 10:\n",
            "X_train shape: (972, 62, 46, 1), y_train shape: (972,)\n",
            "X_val shape: (108, 62, 46, 1), y_val shape: (108,)\n",
            "31/31 [==============================] - 1s 27ms/step - loss: 1.0200 - accuracy: 0.5905\n",
            "4/4 [==============================] - 0s 25ms/step - loss: 1.5055 - accuracy: 0.2870\n",
            "\n",
            "Average Training Accuracy: 0.5557613134384155\n",
            "Average Validation Accuracy: 0.3268518567085266\n",
            "3/3 [==============================] - 0s 16ms/step - loss: 0.9969 - accuracy: 0.6154\n",
            "Test accuracy: 0.6153846383094788\n",
            "Model: \"sequential_19\"\n",
            "_________________________________________________________________\n",
            " Layer (type)                Output Shape              Param #   \n",
            "=================================================================\n",
            " conv2d_38 (Conv2D)          (None, 60, 44, 16)        160       \n",
            "                                                                 \n",
            " max_pooling2d_38 (MaxPooli  (None, 30, 22, 16)        0         \n",
            " ng2D)                                                           \n",
            "                                                                 \n",
            " conv2d_39 (Conv2D)          (None, 28, 20, 32)        4640      \n",
            "                                                                 \n",
            " max_pooling2d_39 (MaxPooli  (None, 14, 10, 32)        0         \n",
            " ng2D)                                                           \n",
            "                                                                 \n",
            " flatten_19 (Flatten)        (None, 4480)              0         \n",
            "                                                                 \n",
            " dense_38 (Dense)            (None, 128)               573568    \n",
            "                                                                 \n",
            " dropout_19 (Dropout)        (None, 128)               0         \n",
            "                                                                 \n",
            " dense_39 (Dense)            (None, 4)                 516       \n",
            "                                                                 \n",
            "=================================================================\n",
            "Total params: 578884 (2.21 MB)\n",
            "Trainable params: 578884 (2.21 MB)\n",
            "Non-trainable params: 0 (0.00 Byte)\n",
            "_________________________________________________________________\n",
            "3/3 [==============================] - 0s 15ms/step\n"
          ]
        },
        {
          "output_type": "display_data",
          "data": {
            "text/plain": [
              "<Figure size 800x600 with 1 Axes>"
            ],
            "image/png": "[encoded data removed]"
          },
          "metadata": {}
        }
      ]
    },
    {
      "cell_type": "code",
      "source": [
        "# Reshape test set if needed\n",
        "X_test_reshaped = X_test.reshape(-1, 62, 46, 1)\n",
        "\n",
        "# Evaluate the model on the reshaped test set\n",
        "test_loss, test_acc = model.evaluate(X_test_reshaped, y_test)\n",
        "print(\"Test accuracy:\", test_acc)\n"
      ],
      "metadata": {
        "colab": {
          "base_uri": "https://localhost:8080/"
        },
        "id": "BxV7beUFFRor",
        "outputId": "8b885d81-61e7-41b5-fb41-e810c07d687e"
      },
      "execution_count": null,
      "outputs": [
        {
          "output_type": "stream",
          "name": "stdout",
          "text": [
            "3/3 [==============================] - 0s 23ms/step - loss: 0.9969 - accuracy: 0.6154\n",
            "Test accuracy: 0.6153846383094788\n"
          ]
        }
      ]
    },
    {
      "cell_type": "code",
      "source": [
        "import tensorflow as tf\n",
        "from tensorflow import keras\n",
        "import numpy as np\n",
        "from sklearn.model_selection import StratifiedKFold\n",
        "\n",
        "# Feature and label matrices\n",
        "X = np.array(Image_Matrix).reshape(-1, 62, 76, 1)\n",
        "y = np.array(Label)\n",
        "\n",
        "# Set the number of folds\n",
        "num_folds = 5\n",
        "skf = StratifiedKFold(n_splits=num_folds, shuffle=True, random_state=42)\n",
        "\n",
        "# Lists to store the results for each fold\n",
        "all_train_acc = []\n",
        "all_val_acc = []\n",
        "\n",
        "# Loop through the folds\n",
        "for fold, (train_index, val_index) in enumerate(skf.split(X, y), 1):\n",
        "    X_train, X_val = X[train_index], X[val_index]\n",
        "    y_train, y_val = y[train_index], y[val_index]\n",
        "    print(f\"Fold {fold}:\")\n",
        "    print(f\"X_train shape: {X_train.shape}, y_train shape: {y_train.shape}\")\n",
        "    print(f\"X_val shape: {X_val.shape}, y_val shape: {y_val.shape}\")\n",
        "\n",
        "    # Create and compile the model\n",
        "    model = keras.Sequential([\n",
        "        keras.layers.Conv2D(32, (3, 3), activation='relu', input_shape=(62, 76, 1)),\n",
        "        keras.layers.MaxPooling2D((2, 2)),\n",
        "        keras.layers.Conv2D(64, (3, 3), activation='relu'),\n",
        "        keras.layers.MaxPooling2D((2, 2)),\n",
        "        # Remove the Flatten layer\n",
        "        keras.layers.Flatten(),\n",
        "        keras.layers.Dense(128, activation='relu'),\n",
        "        keras.layers.Dropout(0.5),\n",
        "        keras.layers.Dense(4, activation='softmax')\n",
        "    ])\n",
        "    model.compile(optimizer='adam',\n",
        "                  loss='sparse_categorical_crossentropy',\n",
        "                  metrics=['accuracy'])\n",
        "\n",
        "    # Train the model\n",
        "    history = model.fit(X_train, y_train, epochs=8, validation_data=(X_val, y_val), verbose=0)\n",
        "\n",
        "    # Evaluate on training and validation sets\n",
        "    train_loss, train_acc = model.evaluate(X_train, y_train)\n",
        "    val_loss, val_acc = model.evaluate(X_val, y_val)\n",
        "\n",
        "    # Append results to lists\n",
        "    all_train_acc.append(train_acc)\n",
        "    all_val_acc.append(val_acc)\n",
        "\n",
        "# Calculate and print the average accuracy across folds\n",
        "avg_train_acc = np.mean(all_train_acc)\n",
        "avg_val_acc = np.mean(all_val_acc)\n",
        "print(f'Average Training Accuracy: {avg_train_acc}')\n",
        "print(f'Average Validation Accuracy: {avg_val_acc}')\n",
        "\n",
        "# Assuming X_test and y_test are your test data\n",
        "X_test = np.array(X_test).reshape(-1, 62, 76, 1)\n",
        "y_test = np.array(y_test)\n",
        "\n",
        "# Evaluate the model on the test set\n",
        "test_loss, test_acc = model.evaluate(X_test, y_test)\n",
        "print(\"Test accuracy:\", test_acc)\n",
        "\n",
        "# Display the model summary\n",
        "model.summary()\n",
        "\n",
        "# Visualize the confusion matrix\n",
        "y_pred = model.predict(X_test)\n",
        "y_pred_classes = np.argmax(y_pred, axis=1)\n",
        "cm = confusion_matrix(y_test, y_pred_classes)\n"
      ],
      "metadata": {
        "colab": {
          "base_uri": "https://localhost:8080/"
        },
        "id": "CuUKyGYtzHCy",
        "outputId": "ee55413d-5e87-498b-e8d6-e9e67eb67bf8"
      },
      "execution_count": null,
      "outputs": [
        {
          "output_type": "stream",
          "name": "stdout",
          "text": [
            "Fold 1:\n",
            "X_train shape: (864, 62, 76, 1), y_train shape: (864,)\n",
            "X_val shape: (216, 62, 76, 1), y_val shape: (216,)\n",
            "27/27 [==============================] - 1s 44ms/step - loss: 1.0823 - accuracy: 0.5278\n",
            "7/7 [==============================] - 0s 46ms/step - loss: 1.4537 - accuracy: 0.3241\n",
            "Fold 2:\n",
            "X_train shape: (864, 62, 76, 1), y_train shape: (864,)\n",
            "X_val shape: (216, 62, 76, 1), y_val shape: (216,)\n",
            "27/27 [==============================] - 1s 46ms/step - loss: 1.1274 - accuracy: 0.5486\n",
            "7/7 [==============================] - 0s 45ms/step - loss: 1.5545 - accuracy: 0.3102\n",
            "Fold 3:\n",
            "X_train shape: (864, 62, 76, 1), y_train shape: (864,)\n",
            "X_val shape: (216, 62, 76, 1), y_val shape: (216,)\n",
            "27/27 [==============================] - 1s 45ms/step - loss: 0.9936 - accuracy: 0.6343\n",
            "7/7 [==============================] - 0s 45ms/step - loss: 1.5518 - accuracy: 0.3241\n",
            "Fold 4:\n",
            "X_train shape: (864, 62, 76, 1), y_train shape: (864,)\n",
            "X_val shape: (216, 62, 76, 1), y_val shape: (216,)\n",
            "27/27 [==============================] - 1s 44ms/step - loss: 1.1225 - accuracy: 0.5139\n",
            "7/7 [==============================] - 0s 45ms/step - loss: 1.5003 - accuracy: 0.2917\n",
            "Fold 5:\n",
            "X_train shape: (864, 62, 76, 1), y_train shape: (864,)\n",
            "X_val shape: (216, 62, 76, 1), y_val shape: (216,)\n",
            "27/27 [==============================] - 2s 57ms/step - loss: 1.1053 - accuracy: 0.5521\n",
            "7/7 [==============================] - 1s 76ms/step - loss: 1.4299 - accuracy: 0.3148\n",
            "Average Training Accuracy: 0.5553240776062012\n",
            "Average Validation Accuracy: 0.3129629552364349\n",
            "7/7 [==============================] - 1s 72ms/step - loss: 1.1585 - accuracy: 0.5000\n",
            "Test accuracy: 0.5\n",
            "Model: \"sequential_16\"\n",
            "_________________________________________________________________\n",
            " Layer (type)                Output Shape              Param #   \n",
            "=================================================================\n",
            " conv2d_30 (Conv2D)          (None, 60, 74, 32)        320       \n",
            "                                                                 \n",
            " max_pooling2d_30 (MaxPooli  (None, 30, 37, 32)        0         \n",
            " ng2D)                                                           \n",
            "                                                                 \n",
            " conv2d_31 (Conv2D)          (None, 28, 35, 64)        18496     \n",
            "                                                                 \n",
            " max_pooling2d_31 (MaxPooli  (None, 14, 17, 64)        0         \n",
            " ng2D)                                                           \n",
            "                                                                 \n",
            " flatten_15 (Flatten)        (None, 15232)             0         \n",
            "                                                                 \n",
            " dense_32 (Dense)            (None, 128)               1949824   \n",
            "                                                                 \n",
            " dropout_16 (Dropout)        (None, 128)               0         \n",
            "                                                                 \n",
            " dense_33 (Dense)            (None, 4)                 516       \n",
            "                                                                 \n",
            "=================================================================\n",
            "Total params: 1969156 (7.51 MB)\n",
            "Trainable params: 1969156 (7.51 MB)\n",
            "Non-trainable params: 0 (0.00 Byte)\n",
            "_________________________________________________________________\n",
            "7/7 [==============================] - 1s 76ms/step\n"
          ]
        }
      ]
    },
    {
      "cell_type": "code",
      "source": [
        "# Assuming you have a separate test set (X_test, y_test)\n",
        "# Evaluate the model on the test set\n",
        "test_loss, test_acc = model.evaluate(X_test, y_test)\n",
        "print(\"Test accuracy:\", test_acc)\n"
      ],
      "metadata": {
        "colab": {
          "base_uri": "https://localhost:8080/"
        },
        "id": "PMmrdhJ4FmFK",
        "outputId": "cb1b6697-0a36-4df2-ec9d-cb6e5c33c0fb"
      },
      "execution_count": null,
      "outputs": [
        {
          "output_type": "stream",
          "name": "stdout",
          "text": [
            "7/7 [==============================] - 1s 81ms/step - loss: 1.1585 - accuracy: 0.5000\n",
            "Test accuracy: 0.5\n"
          ]
        }
      ]
    },
    {
      "cell_type": "code",
      "source": [
        "# Assuming y_train and X_train are available\n",
        "y_train_probs = model.predict(X_train)\n",
        "y_train_pred = np.argmax(y_train_probs, axis=1)\n"
      ],
      "metadata": {
        "colab": {
          "base_uri": "https://localhost:8080/"
        },
        "id": "j26vtBfEnVEZ",
        "outputId": "b76a4463-d2a8-47ba-e33c-6a18c7a3349e"
      },
      "execution_count": null,
      "outputs": [
        {
          "output_type": "stream",
          "name": "stdout",
          "text": [
            "27/27 [==============================] - 4s 124ms/step\n"
          ]
        }
      ]
    },
    {
      "cell_type": "code",
      "source": [
        "print(\"Actual Labels:\", y_train[:10])\n",
        "print(\"Predicted Labels:\", y_train_pred[:10])\n"
      ],
      "metadata": {
        "colab": {
          "base_uri": "https://localhost:8080/"
        },
        "id": "9gD0_v-hncih",
        "outputId": "e49d5e6f-a381-41b6-e00b-904acfa84abe"
      },
      "execution_count": null,
      "outputs": [
        {
          "output_type": "stream",
          "name": "stdout",
          "text": [
            "Actual Labels: [1 2 3 0 2 0 0 1 0 1]\n",
            "Predicted Labels: [3 2 3 0 1 2 2 3 3 1]\n"
          ]
        }
      ]
    },
    {
      "cell_type": "code",
      "source": [
        "train_loss, train_acc = model.evaluate(X_train, y_train)\n",
        "print(f\"Training accuracy: {train_acc}\")\n"
      ],
      "metadata": {
        "colab": {
          "base_uri": "https://localhost:8080/"
        },
        "id": "wR2sXcTenjND",
        "outputId": "6ab0c1b9-abed-4dca-beb9-cc4039b4be54"
      },
      "execution_count": null,
      "outputs": [
        {
          "output_type": "stream",
          "name": "stdout",
          "text": [
            "27/27 [==============================] - 1s 46ms/step - loss: 1.1053 - accuracy: 0.5521\n",
            "Training accuracy: 0.5520833134651184\n"
          ]
        }
      ]
    },
    {
      "cell_type": "code",
      "source": [
        "model.summary()\n"
      ],
      "metadata": {
        "id": "Kd6P498W438M",
        "colab": {
          "base_uri": "https://localhost:8080/"
        },
        "outputId": "8d0ee200-c8ff-4177-c2d1-f321d6973ab9"
      },
      "execution_count": null,
      "outputs": [
        {
          "output_type": "stream",
          "name": "stdout",
          "text": [
            "Model: \"sequential_16\"\n",
            "_________________________________________________________________\n",
            " Layer (type)                Output Shape              Param #   \n",
            "=================================================================\n",
            " conv2d_30 (Conv2D)          (None, 60, 74, 32)        320       \n",
            "                                                                 \n",
            " max_pooling2d_30 (MaxPooli  (None, 30, 37, 32)        0         \n",
            " ng2D)                                                           \n",
            "                                                                 \n",
            " conv2d_31 (Conv2D)          (None, 28, 35, 64)        18496     \n",
            "                                                                 \n",
            " max_pooling2d_31 (MaxPooli  (None, 14, 17, 64)        0         \n",
            " ng2D)                                                           \n",
            "                                                                 \n",
            " flatten_15 (Flatten)        (None, 15232)             0         \n",
            "                                                                 \n",
            " dense_32 (Dense)            (None, 128)               1949824   \n",
            "                                                                 \n",
            " dropout_16 (Dropout)        (None, 128)               0         \n",
            "                                                                 \n",
            " dense_33 (Dense)            (None, 4)                 516       \n",
            "                                                                 \n",
            "=================================================================\n",
            "Total params: 1969156 (7.51 MB)\n",
            "Trainable params: 1969156 (7.51 MB)\n",
            "Non-trainable params: 0 (0.00 Byte)\n",
            "_________________________________________________________________\n"
          ]
        }
      ]
    },
    {
      "cell_type": "code",
      "source": [
        "import matplotlib.pyplot as plt\n",
        "import seaborn as sns\n",
        "\n",
        "# Assuming y_train contains your class labels\n",
        "plt.figure(figsize=(8, 6))\n",
        "sns.countplot(x=y_train)\n",
        "plt.title('Class Distribution')\n",
        "plt.xlabel('Class')\n",
        "plt.ylabel('Count')\n",
        "plt.show()\n",
        "\n"
      ],
      "metadata": {
        "colab": {
          "base_uri": "https://localhost:8080/",
          "height": 564
        },
        "id": "Kab54JwekN_Z",
        "outputId": "a91e02ef-c880-4fff-bcf1-69456393b29f"
      },
      "execution_count": null,
      "outputs": [
        {
          "output_type": "display_data",
          "data": {
            "text/plain": [
              "<Figure size 800x600 with 1 Axes>"
            ],
            "image/png": "[encoded data removed]"
          },
          "metadata": {}
        }
      ]
    }
  ]
}