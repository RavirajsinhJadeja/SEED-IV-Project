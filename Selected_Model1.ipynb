{
  "nbformat": 4,
  "nbformat_minor": 0,
  "metadata": {
    "colab": {
      "provenance": []
    },
    "kernelspec": {
      "name": "python3",
      "display_name": "Python 3"
    },
    "language_info": {
      "name": "python"
    }
  },
  "cells": [
    {
      "cell_type": "code",
      "execution_count": null,
      "metadata": {
        "colab": {
          "base_uri": "https://localhost:8080/"
        },
        "id": "YGkNp4Ahqnpn",
        "outputId": "617f5289-8bb6-4656-f19d-0fe6ce0b3a6c"
      },
      "outputs": [
        {
          "output_type": "stream",
          "name": "stdout",
          "text": [
            "Drive already mounted at /content/drive; to attempt to forcibly remount, call drive.mount(\"/content/drive\", force_remount=True).\n"
          ]
        }
      ],
      "source": [
        "from google.colab import drive\n",
        "\n",
        "# Mount Google Drive\n",
        "drive.mount('/content/drive')\n"
      ]
    },
    {
      "cell_type": "markdown",
      "source": [
        "#PCA"
      ],
      "metadata": {
        "id": "6cHgnxTBLccm"
      }
    },
    {
      "cell_type": "code",
      "source": [
        "from sklearn.decomposition import PCA\n",
        "\n",
        "def pca_to_62x62(input_data):\n",
        "\n",
        "    pca = PCA(n_components=62)\n",
        "    transformed_data = pca.fit_transform(input_data)\n",
        "    return transformed_data\n"
      ],
      "metadata": {
        "id": "rFSQJxsfq_F3"
      },
      "execution_count": null,
      "outputs": []
    },
    {
      "cell_type": "markdown",
      "source": [
        "#Rescaling\n"
      ],
      "metadata": {
        "id": "juCkEeh9Lh6P"
      }
    },
    {
      "cell_type": "code",
      "source": [
        "import numpy as np\n",
        "\n",
        "def rescale_to_0_255(data):\n",
        "\n",
        "    # Find the minimum and maximum values in the data\n",
        "    min_val = data.min()\n",
        "    max_val = data.max()\n",
        "\n",
        "    # Perform min-max scaling to rescale the data to [0, 255]\n",
        "    scaled_data = 255 * (data - min_val) / (max_val - min_val)\n",
        "\n",
        "    return scaled_data.astype(np.uint8)  # Ensure the data type is uint8 for image representation\n"
      ],
      "metadata": {
        "id": "5ojehhQNtbUo"
      },
      "execution_count": null,
      "outputs": []
    },
    {
      "cell_type": "code",
      "source": [
        "def zscale_row_wise(data):\n",
        "    scaler = StandardScaler()\n",
        "    dataz = scaler.fit_transform(data.T).T\n",
        "    return dataz\n"
      ],
      "metadata": {
        "id": "1LKXLrCauBUw"
      },
      "execution_count": null,
      "outputs": []
    },
    {
      "cell_type": "code",
      "source": [
        "!pip install numpy pandas scipy scikit-learn\n"
      ],
      "metadata": {
        "colab": {
          "base_uri": "https://localhost:8080/"
        },
        "id": "u35gXFBG2DVh",
        "outputId": "0435a0e8-00fd-4560-f7f3-b0cce4dc8e86"
      },
      "execution_count": null,
      "outputs": [
        {
          "output_type": "stream",
          "name": "stdout",
          "text": [
            "Requirement already satisfied: numpy in /usr/local/lib/python3.10/dist-packages (1.23.5)\n",
            "Requirement already satisfied: pandas in /usr/local/lib/python3.10/dist-packages (1.5.3)\n",
            "Requirement already satisfied: scipy in /usr/local/lib/python3.10/dist-packages (1.11.3)\n",
            "Requirement already satisfied: scikit-learn in /usr/local/lib/python3.10/dist-packages (1.2.2)\n",
            "Requirement already satisfied: python-dateutil>=2.8.1 in /usr/local/lib/python3.10/dist-packages (from pandas) (2.8.2)\n",
            "Requirement already satisfied: pytz>=2020.1 in /usr/local/lib/python3.10/dist-packages (from pandas) (2023.3.post1)\n",
            "Requirement already satisfied: joblib>=1.1.1 in /usr/local/lib/python3.10/dist-packages (from scikit-learn) (1.3.2)\n",
            "Requirement already satisfied: threadpoolctl>=2.0.0 in /usr/local/lib/python3.10/dist-packages (from scikit-learn) (3.2.0)\n",
            "Requirement already satisfied: six>=1.5 in /usr/local/lib/python3.10/dist-packages (from python-dateutil>=2.8.1->pandas) (1.16.0)\n"
          ]
        }
      ]
    },
    {
      "cell_type": "markdown",
      "source": [
        "# Data transformation for noise reduction and dimensionality reduction along with reshaping"
      ],
      "metadata": {
        "id": "2GN5cidlLohj"
      }
    },
    {
      "cell_type": "code",
      "source": [
        "import os\n",
        "import numpy as np\n",
        "from scipy.io import loadmat\n",
        "import pandas as pd\n",
        "from sklearn.preprocessing import StandardScaler\n",
        "\n",
        "\n",
        "# Define the directory path where the .mat files are located\n",
        "base_dir = '/content/drive/MyDrive/SEED_IV/SEED_IV/eeg_raw_data'\n",
        "\n",
        "# Set the batch size\n",
        "batch_size = 4  # Adjust as needed\n",
        "\n",
        "# Initialize an empty DataFrame\n",
        "final_df = pd.DataFrame()\n",
        "\n",
        "# Define the expected dimensions for reshaping\n",
        "height, width, channels = 62, 62, 1  # Adjust as needed\n",
        "\n",
        "# Traverse through the directories and load .mat files\n",
        "for folder in os.listdir(base_dir):\n",
        "    folder_path = os.path.join(base_dir, folder)\n",
        "\n",
        "    if os.path.isdir(folder_path):\n",
        "        # Initialize a list to store DataFrames for each batch\n",
        "        batch_dfs = []\n",
        "\n",
        "        for file in os.listdir(folder_path):\n",
        "            if file.endswith('.mat'):\n",
        "                file_path = os.path.join(folder_path, file)\n",
        "                data = loadmat(file_path)  # Load .mat file\n",
        "\n",
        "                # Initialize a DataFrame for each batch\n",
        "                batch_df = pd.DataFrame()\n",
        "\n",
        "                # Loop through variables in the loaded .mat file\n",
        "                for var_key, var_value in data.items():\n",
        "                    # Skip variables that start with double underscores \"__\"\n",
        "                    if var_key.startswith(\"__\"):\n",
        "                        continue\n",
        "\n",
        "                    # Define the column name for the DataFrame\n",
        "                    column_name = f'{folder}_{var_key}'\n",
        "\n",
        "                    # Create a new column in the DataFrame and assign the variable\n",
        "                    batch_df[column_name] = [var_value]\n",
        "\n",
        "                batch_dfs.append(batch_df)\n",
        "\n",
        "                # Process the batch once it reaches the specified batch size\n",
        "                if len(batch_dfs) >= batch_size:\n",
        "                    batch_df = pd.concat(batch_dfs, axis=1)\n",
        "\n",
        "                    # Apply PCA and rescaling to the batch\n",
        "                    batch_df = batch_df.applymap(zscale_row_wise)\n",
        "                    batch_df = batch_df.applymap(pca_to_62x62)\n",
        "                    batch_df = batch_df.applymap(rescale_to_0_255)\n",
        "\n",
        "                    # Iterate through columns to reshape the data\n",
        "                    for col in batch_df.columns:\n",
        "                        batch_df[col] = batch_df[col].apply(lambda x: x.reshape((height, width, channels)))\n",
        "\n",
        "                    # Append the batch to the final DataFrame\n",
        "                    final_df = pd.concat([final_df, batch_df], axis=1)\n",
        "                    batch_dfs = []\n",
        "\n",
        "        # Process any remaining data in the last batch\n",
        "        if len(batch_dfs) > 0:\n",
        "            batch_df = pd.concat(batch_dfs, axis=1)\n",
        "\n",
        "            # Apply PCA and rescaling to the last batch\n",
        "            batch_df = batch_df.applymap(zscale_row_wise)\n",
        "            batch_df = batch_df.applymap(pca_to_62x62)\n",
        "            batch_df = batch_df.applymap(rescale_to_0_255)\n",
        "\n",
        "            # Iterate through columns to reshape the data\n",
        "            for col in batch_df.columns:\n",
        "                batch_df[col] = batch_df[col].apply(lambda x: x.reshape((height, width, channels)))\n",
        "\n",
        "            # Append the last batch to the final DataFrame\n",
        "            final_df = pd.concat([final_df, batch_df], axis=1)\n"
      ],
      "metadata": {
        "id": "2q_2Z98139Y_"
      },
      "execution_count": null,
      "outputs": []
    },
    {
      "cell_type": "code",
      "source": [
        "import os\n",
        "import numpy as np\n",
        "from scipy.io import loadmat\n",
        "import pandas as pd\n",
        "import matplotlib.pyplot as plt\n",
        "\n",
        "# Define the directory path where the .mat files are located\n",
        "base_dir = '/content/drive/MyDrive/SEED_IV/SEED_IV/eeg_raw_data'\n",
        "\n",
        "# Initialize lists to store the shapes of the original data and the corresponding folder\n",
        "original_data_shapes = []\n",
        "y_axis_sizes = []\n",
        "\n",
        "# Traverse through the directories and load .mat files\n",
        "for folder in os.listdir(base_dir):\n",
        "    folder_path = os.path.join(base_dir, folder)\n",
        "\n",
        "    if os.path.isdir(folder_path):\n",
        "        for file in os.listdir(folder_path):\n",
        "            if file.endswith('.mat'):\n",
        "                file_path = os.path.join(folder_path, file)\n",
        "                data = loadmat(file_path)  # Load .mat file\n",
        "\n",
        "                # Loop through variables in the loaded .mat file\n",
        "                for var_key, var_value in data.items():\n",
        "                    # Skip variables that start with double underscores \"__\"\n",
        "                    if var_key.startswith(\"__\"):\n",
        "                        continue\n",
        "\n",
        "                    # Get the shape of the original data\n",
        "                    original_shape = var_value.shape\n",
        "                    original_data_shapes.append((folder, var_key, original_shape))\n",
        "                    y_axis_sizes.append(original_shape[1])\n",
        "\n",
        "# Plot the Y-axis (timestamp) sizes\n",
        "plt.figure(figsize=(10, 6))\n",
        "plt.bar(range(len(y_axis_sizes)), y_axis_sizes)\n",
        "plt.xlabel(\"Data Point\")\n",
        "plt.ylabel(\"Y-Axis Size (Timestamp)\")\n",
        "plt.title(\"Range of Y-Axis Sizes\")\n",
        "plt.show()\n",
        "\n",
        "min_y_axis_size = min(y_axis_sizes)\n",
        "max_y_axis_size = max(y_axis_sizes)\n",
        "\n",
        "print(f\"Minimum Y-Axis (Timestamp) Size: {min_y_axis_size}\")\n",
        "print(f\"Maximum Y-Axis (Timestamp) Size: {max_y_axis_size}\")\n"
      ],
      "metadata": {
        "colab": {
          "base_uri": "https://localhost:8080/",
          "height": 599
        },
        "id": "q1GW4DvPHulC",
        "outputId": "06dd29c9-c4d3-4d39-f2ca-ea74cebec580"
      },
      "execution_count": null,
      "outputs": [
        {
          "output_type": "display_data",
          "data": {
            "text/plain": [
              "<Figure size 1000x600 with 1 Axes>"
            ],
            "image/png": "[encoded data removed]"
          },
          "metadata": {}
        },
        {
          "output_type": "stream",
          "name": "stdout",
          "text": [
            "Minimum Y-Axis (Timestamp) Size: 8601\n",
            "Maximum Y-Axis (Timestamp) Size: 51801\n"
          ]
        }
      ]
    },
    {
      "cell_type": "code",
      "source": [
        "final_df.head()  # Displays the first 5 rows\n",
        "\n"
      ],
      "metadata": {
        "colab": {
          "base_uri": "https://localhost:8080/",
          "height": 199
        },
        "id": "U-vbS8tw6l6Z",
        "outputId": "4e75da30-797c-4ac8-fcb8-f4d7f43680d6"
      },
      "execution_count": null,
      "outputs": [
        {
          "output_type": "execute_result",
          "data": {
            "text/plain": [
              "                                          1_tyc_eeg1  \\\n",
              "0  [[[246], [116], [76], [70], [155], [135], [130...   \n",
              "\n",
              "                                          1_tyc_eeg2  \\\n",
              "0  [[[121], [159], [34], [115], [36], [113], [68]...   \n",
              "\n",
              "                                          1_tyc_eeg3  \\\n",
              "0  [[[153], [71], [66], [42], [96], [56], [102], ...   \n",
              "\n",
              "                                          1_tyc_eeg4  \\\n",
              "0  [[[118], [164], [67], [66], [48], [36], [95], ...   \n",
              "\n",
              "                                          1_tyc_eeg5  \\\n",
              "0  [[[236], [122], [84], [92], [101], [76], [102]...   \n",
              "\n",
              "                                          1_tyc_eeg6  \\\n",
              "0  [[[165], [223], [106], [117], [100], [79], [78...   \n",
              "\n",
              "                                          1_tyc_eeg7  \\\n",
              "0  [[[149], [219], [90], [122], [63], [150], [104...   \n",
              "\n",
              "                                          1_tyc_eeg8  \\\n",
              "0  [[[240], [143], [102], [83], [159], [158], [10...   \n",
              "\n",
              "                                          1_tyc_eeg9  \\\n",
              "0  [[[189], [167], [87], [108], [53], [148], [140...   \n",
              "\n",
              "                                         1_tyc_eeg10  ...  \\\n",
              "0  [[[243], [153], [109], [93], [71], [129], [161...  ...   \n",
              "\n",
              "                                          2_rx_eeg15  \\\n",
              "0  [[[213], [175], [145], [179], [70], [129], [96...   \n",
              "\n",
              "                                          2_rx_eeg16  \\\n",
              "0  [[[233], [132], [149], [192], [107], [77], [79...   \n",
              "\n",
              "                                          2_rx_eeg17  \\\n",
              "0  [[[175], [104], [171], [116], [62], [153], [64...   \n",
              "\n",
              "                                          2_rx_eeg18  \\\n",
              "0  [[[242], [169], [105], [169], [78], [79], [129...   \n",
              "\n",
              "                                          2_rx_eeg19  \\\n",
              "0  [[[207], [155], [188], [133], [55], [141], [82...   \n",
              "\n",
              "                                          2_rx_eeg20  \\\n",
              "0  [[[207], [101], [144], [164], [49], [103], [79...   \n",
              "\n",
              "                                          2_rx_eeg21  \\\n",
              "0  [[[214], [95], [146], [170], [77], [146], [100...   \n",
              "\n",
              "                                          2_rx_eeg22  \\\n",
              "0  [[[223], [184], [112], [68], [177], [80], [103...   \n",
              "\n",
              "                                          2_rx_eeg23  \\\n",
              "0  [[[165], [184], [162], [176], [69], [138], [10...   \n",
              "\n",
              "                                          2_rx_eeg24  \n",
              "0  [[[235], [140], [152], [186], [64], [147], [12...  \n",
              "\n",
              "[1 rows x 1080 columns]"
            ],
            "text/html": [
              "\n",
              "  <div id=\"df-4cc7098b-fc49-4dc7-bc3f-8945733f208b\" class=\"colab-df-container\">\n",
              "    <div>\n",
              "<style scoped>\n",
              "    .dataframe tbody tr th:only-of-type {\n",
              "        vertical-align: middle;\n",
              "    }\n",
              "\n",
              "    .dataframe tbody tr th {\n",
              "        vertical-align: top;\n",
              "    }\n",
              "\n",
              "    .dataframe thead th {\n",
              "        text-align: right;\n",
              "    }\n",
              "</style>\n",
              "<table border=\"1\" class=\"dataframe\">\n",
              "  <thead>\n",
              "    <tr style=\"text-align: right;\">\n",
              "      <th></th>\n",
              "      <th>1_tyc_eeg1</th>\n",
              "      <th>1_tyc_eeg2</th>\n",
              "      <th>1_tyc_eeg3</th>\n",
              "      <th>1_tyc_eeg4</th>\n",
              "      <th>1_tyc_eeg5</th>\n",
              "      <th>1_tyc_eeg6</th>\n",
              "      <th>1_tyc_eeg7</th>\n",
              "      <th>1_tyc_eeg8</th>\n",
              "      <th>1_tyc_eeg9</th>\n",
              "      <th>1_tyc_eeg10</th>\n",
              "      <th>...</th>\n",
              "      <th>2_rx_eeg15</th>\n",
              "      <th>2_rx_eeg16</th>\n",
              "      <th>2_rx_eeg17</th>\n",
              "      <th>2_rx_eeg18</th>\n",
              "      <th>2_rx_eeg19</th>\n",
              "      <th>2_rx_eeg20</th>\n",
              "      <th>2_rx_eeg21</th>\n",
              "      <th>2_rx_eeg22</th>\n",
              "      <th>2_rx_eeg23</th>\n",
              "      <th>2_rx_eeg24</th>\n",
              "    </tr>\n",
              "  </thead>\n",
              "  <tbody>\n",
              "    <tr>\n",
              "      <th>0</th>\n",
              "      <td>[[[246], [116], [76], [70], [155], [135], [130...</td>\n",
              "      <td>[[[121], [159], [34], [115], [36], [113], [68]...</td>\n",
              "      <td>[[[153], [71], [66], [42], [96], [56], [102], ...</td>\n",
              "      <td>[[[118], [164], [67], [66], [48], [36], [95], ...</td>\n",
              "      <td>[[[236], [122], [84], [92], [101], [76], [102]...</td>\n",
              "      <td>[[[165], [223], [106], [117], [100], [79], [78...</td>\n",
              "      <td>[[[149], [219], [90], [122], [63], [150], [104...</td>\n",
              "      <td>[[[240], [143], [102], [83], [159], [158], [10...</td>\n",
              "      <td>[[[189], [167], [87], [108], [53], [148], [140...</td>\n",
              "      <td>[[[243], [153], [109], [93], [71], [129], [161...</td>\n",
              "      <td>...</td>\n",
              "      <td>[[[213], [175], [145], [179], [70], [129], [96...</td>\n",
              "      <td>[[[233], [132], [149], [192], [107], [77], [79...</td>\n",
              "      <td>[[[175], [104], [171], [116], [62], [153], [64...</td>\n",
              "      <td>[[[242], [169], [105], [169], [78], [79], [129...</td>\n",
              "      <td>[[[207], [155], [188], [133], [55], [141], [82...</td>\n",
              "      <td>[[[207], [101], [144], [164], [49], [103], [79...</td>\n",
              "      <td>[[[214], [95], [146], [170], [77], [146], [100...</td>\n",
              "      <td>[[[223], [184], [112], [68], [177], [80], [103...</td>\n",
              "      <td>[[[165], [184], [162], [176], [69], [138], [10...</td>\n",
              "      <td>[[[235], [140], [152], [186], [64], [147], [12...</td>\n",
              "    </tr>\n",
              "  </tbody>\n",
              "</table>\n",
              "<p>1 rows × 1080 columns</p>\n",
              "</div>\n",
              "    <div class=\"colab-df-buttons\">\n",
              "\n",
              "  <div class=\"colab-df-container\">\n",
              "    <button class=\"colab-df-convert\" onclick=\"convertToInteractive('df-4cc7098b-fc49-4dc7-bc3f-8945733f208b')\"\n",
              "            title=\"Convert this dataframe to an interactive table.\"\n",
              "            style=\"display:none;\">\n",
              "\n",
              "  <svg xmlns=\"http://www.w3.org/2000/svg\" height=\"24px\" viewBox=\"0 -960 960 960\">\n",
              "    <path d=\"M120-120v-720h720v720H120Zm60-500h600v-160H180v160Zm220 220h160v-160H400v160Zm0 220h160v-160H400v160ZM180-400h160v-160H180v160Zm440 0h160v-160H620v160ZM180-180h160v-160H180v160Zm440 0h160v-160H620v160Z\"/>\n",
              "  </svg>\n",
              "    </button>\n",
              "\n",
              "  <style>\n",
              "    .colab-df-container {\n",
              "      display:flex;\n",
              "      gap: 12px;\n",
              "    }\n",
              "\n",
              "    .colab-df-convert {\n",
              "      background-color: #E8F0FE;\n",
              "      border: none;\n",
              "      border-radius: 50%;\n",
              "      cursor: pointer;\n",
              "      display: none;\n",
              "      fill: #1967D2;\n",
              "      height: 32px;\n",
              "      padding: 0 0 0 0;\n",
              "      width: 32px;\n",
              "    }\n",
              "\n",
              "    .colab-df-convert:hover {\n",
              "      background-color: #E2EBFA;\n",
              "      box-shadow: 0px 1px 2px rgba(60, 64, 67, 0.3), 0px 1px 3px 1px rgba(60, 64, 67, 0.15);\n",
              "      fill: #174EA6;\n",
              "    }\n",
              "\n",
              "    .colab-df-buttons div {\n",
              "      margin-bottom: 4px;\n",
              "    }\n",
              "\n",
              "    [theme=dark] .colab-df-convert {\n",
              "      background-color: #3B4455;\n",
              "      fill: #D2E3FC;\n",
              "    }\n",
              "\n",
              "    [theme=dark] .colab-df-convert:hover {\n",
              "      background-color: #434B5C;\n",
              "      box-shadow: 0px 1px 3px 1px rgba(0, 0, 0, 0.15);\n",
              "      filter: drop-shadow(0px 1px 2px rgba(0, 0, 0, 0.3));\n",
              "      fill: #FFFFFF;\n",
              "    }\n",
              "  </style>\n",
              "\n",
              "    <script>\n",
              "      const buttonEl =\n",
              "        document.querySelector('#df-4cc7098b-fc49-4dc7-bc3f-8945733f208b button.colab-df-convert');\n",
              "      buttonEl.style.display =\n",
              "        google.colab.kernel.accessAllowed ? 'block' : 'none';\n",
              "\n",
              "      async function convertToInteractive(key) {\n",
              "        const element = document.querySelector('#df-4cc7098b-fc49-4dc7-bc3f-8945733f208b');\n",
              "        const dataTable =\n",
              "          await google.colab.kernel.invokeFunction('convertToInteractive',\n",
              "                                                    [key], {});\n",
              "        if (!dataTable) return;\n",
              "\n",
              "        const docLinkHtml = 'Like what you see? Visit the ' +\n",
              "          '<a target=\"_blank\" href=https://colab.research.google.com/notebooks/data_table.ipynb>data table notebook</a>'\n",
              "          + ' to learn more about interactive tables.';\n",
              "        element.innerHTML = '';\n",
              "        dataTable['output_type'] = 'display_data';\n",
              "        await google.colab.output.renderOutput(dataTable, element);\n",
              "        const docLink = document.createElement('div');\n",
              "        docLink.innerHTML = docLinkHtml;\n",
              "        element.appendChild(docLink);\n",
              "      }\n",
              "    </script>\n",
              "  </div>\n",
              "\n",
              "    </div>\n",
              "  </div>\n"
            ]
          },
          "metadata": {},
          "execution_count": 138
        }
      ]
    },
    {
      "cell_type": "code",
      "source": [
        "value = final_df.iloc[0, 1079]  # Row index 2 (3rd row) and column index 1 (2nd column)\n",
        "print(\"value:\", value.size)\n"
      ],
      "metadata": {
        "id": "bX1ge2Zd-SIB",
        "colab": {
          "base_uri": "https://localhost:8080/"
        },
        "outputId": "d5152202-fec2-492d-da4b-e22496a361eb"
      },
      "execution_count": null,
      "outputs": [
        {
          "output_type": "stream",
          "name": "stdout",
          "text": [
            "value: 3844\n"
          ]
        }
      ]
    },
    {
      "cell_type": "markdown",
      "source": [
        "#Labelling"
      ],
      "metadata": {
        "id": "IGwviCfzL7uQ"
      }
    },
    {
      "cell_type": "code",
      "source": [
        "# Sample labels from your provided information\n",
        "session1_label = [1, 2, 3, 0, 2, 0, 0, 1, 0, 1, 2, 1, 1, 1, 2, 3, 2, 2, 3, 3, 0, 3, 0, 3]\n",
        "session2_label = [2, 1, 3, 0, 0, 2, 0, 2, 3, 3, 2, 3, 2, 0, 1, 1, 2, 1, 0, 3, 0, 1, 3, 1]\n",
        "session3_label = [1, 2, 2, 1, 3, 3, 3, 1, 1, 2, 1, 0, 2, 3, 3, 0, 2, 3, 0, 0, 2, 0, 1, 0]\n",
        "\n",
        "# Sample DataFrame column names\n",
        "column_names = final_df.columns\n",
        "\n",
        "# Add a new row for emotion labels\n",
        "final_df.loc['Emotion_Label'] = [\n",
        "    session1_label[int(name[-2:]) - 1] if name[0] == '1' and name[-2].isdigit() else\n",
        "    session1_label[int(name[-1:]) - 1] if name[0] == '1' else\n",
        "    session2_label[int(name[-2:]) - 1] if name[0] == '2' and name[-2].isdigit() else\n",
        "    session2_label[int(name[-1:]) - 1] if name[0] == '2' else\n",
        "    session3_label[int(name[-2:]) - 1] if name[0] == '3' and name[-2].isdigit() else\n",
        "    session3_label[int(name[-1:]) - 1] if name[0] == '3' else 20\n",
        " for name in column_names\n",
        "]\n"
      ],
      "metadata": {
        "id": "rQzCBPBKA-lK"
      },
      "execution_count": null,
      "outputs": []
    },
    {
      "cell_type": "code",
      "source": [
        "# Convert labels to integers\n",
        "label_mapping = {'Class 0': 0, 'Class 1': 1, 'Class 2': 2, 'Class 3': 3}\n",
        "final_df = final_df.replace({'Emotion_Label': label_mapping})"
      ],
      "metadata": {
        "id": "q1a2PyrRSU3V"
      },
      "execution_count": null,
      "outputs": []
    },
    {
      "cell_type": "code",
      "source": [
        "final_df.head()  # Displays the first 5 rows\n"
      ],
      "metadata": {
        "id": "1hdX8AcWCAls",
        "colab": {
          "base_uri": "https://localhost:8080/",
          "height": 231
        },
        "outputId": "f2c39763-8b57-4f2b-883f-4860891725fe"
      },
      "execution_count": null,
      "outputs": [
        {
          "output_type": "execute_result",
          "data": {
            "text/plain": [
              "                                                      1_tyc_eeg1  \\\n",
              "0              [[[246], [116], [76], [70], [155], [135], [130...   \n",
              "Emotion_Label                                                  1   \n",
              "\n",
              "                                                      1_tyc_eeg2  \\\n",
              "0              [[[121], [159], [34], [115], [36], [113], [68]...   \n",
              "Emotion_Label                                                  2   \n",
              "\n",
              "                                                      1_tyc_eeg3  \\\n",
              "0              [[[153], [71], [66], [42], [96], [56], [102], ...   \n",
              "Emotion_Label                                                  3   \n",
              "\n",
              "                                                      1_tyc_eeg4  \\\n",
              "0              [[[118], [164], [67], [66], [48], [36], [95], ...   \n",
              "Emotion_Label                                                  0   \n",
              "\n",
              "                                                      1_tyc_eeg5  \\\n",
              "0              [[[236], [122], [84], [92], [101], [76], [102]...   \n",
              "Emotion_Label                                                  2   \n",
              "\n",
              "                                                      1_tyc_eeg6  \\\n",
              "0              [[[165], [223], [106], [117], [100], [79], [78...   \n",
              "Emotion_Label                                                  0   \n",
              "\n",
              "                                                      1_tyc_eeg7  \\\n",
              "0              [[[149], [219], [90], [122], [63], [150], [104...   \n",
              "Emotion_Label                                                  0   \n",
              "\n",
              "                                                      1_tyc_eeg8  \\\n",
              "0              [[[240], [143], [102], [83], [159], [158], [10...   \n",
              "Emotion_Label                                                  1   \n",
              "\n",
              "                                                      1_tyc_eeg9  \\\n",
              "0              [[[189], [167], [87], [108], [53], [148], [140...   \n",
              "Emotion_Label                                                  0   \n",
              "\n",
              "                                                     1_tyc_eeg10  ...  \\\n",
              "0              [[[243], [153], [109], [93], [71], [129], [161...  ...   \n",
              "Emotion_Label                                                  1  ...   \n",
              "\n",
              "                                                      2_rx_eeg15  \\\n",
              "0              [[[213], [175], [145], [179], [70], [129], [96...   \n",
              "Emotion_Label                                                  1   \n",
              "\n",
              "                                                      2_rx_eeg16  \\\n",
              "0              [[[233], [132], [149], [192], [107], [77], [79...   \n",
              "Emotion_Label                                                  1   \n",
              "\n",
              "                                                      2_rx_eeg17  \\\n",
              "0              [[[175], [104], [171], [116], [62], [153], [64...   \n",
              "Emotion_Label                                                  2   \n",
              "\n",
              "                                                      2_rx_eeg18  \\\n",
              "0              [[[242], [169], [105], [169], [78], [79], [129...   \n",
              "Emotion_Label                                                  1   \n",
              "\n",
              "                                                      2_rx_eeg19  \\\n",
              "0              [[[207], [155], [188], [133], [55], [141], [82...   \n",
              "Emotion_Label                                                  0   \n",
              "\n",
              "                                                      2_rx_eeg20  \\\n",
              "0              [[[207], [101], [144], [164], [49], [103], [79...   \n",
              "Emotion_Label                                                  3   \n",
              "\n",
              "                                                      2_rx_eeg21  \\\n",
              "0              [[[214], [95], [146], [170], [77], [146], [100...   \n",
              "Emotion_Label                                                  0   \n",
              "\n",
              "                                                      2_rx_eeg22  \\\n",
              "0              [[[223], [184], [112], [68], [177], [80], [103...   \n",
              "Emotion_Label                                                  1   \n",
              "\n",
              "                                                      2_rx_eeg23  \\\n",
              "0              [[[165], [184], [162], [176], [69], [138], [10...   \n",
              "Emotion_Label                                                  3   \n",
              "\n",
              "                                                      2_rx_eeg24  \n",
              "0              [[[235], [140], [152], [186], [64], [147], [12...  \n",
              "Emotion_Label                                                  1  \n",
              "\n",
              "[2 rows x 1080 columns]"
            ],
            "text/html": [
              "\n",
              "  <div id=\"df-2e40e87b-7e79-47db-8814-92eb91251a5e\" class=\"colab-df-container\">\n",
              "    <div>\n",
              "<style scoped>\n",
              "    .dataframe tbody tr th:only-of-type {\n",
              "        vertical-align: middle;\n",
              "    }\n",
              "\n",
              "    .dataframe tbody tr th {\n",
              "        vertical-align: top;\n",
              "    }\n",
              "\n",
              "    .dataframe thead th {\n",
              "        text-align: right;\n",
              "    }\n",
              "</style>\n",
              "<table border=\"1\" class=\"dataframe\">\n",
              "  <thead>\n",
              "    <tr style=\"text-align: right;\">\n",
              "      <th></th>\n",
              "      <th>1_tyc_eeg1</th>\n",
              "      <th>1_tyc_eeg2</th>\n",
              "      <th>1_tyc_eeg3</th>\n",
              "      <th>1_tyc_eeg4</th>\n",
              "      <th>1_tyc_eeg5</th>\n",
              "      <th>1_tyc_eeg6</th>\n",
              "      <th>1_tyc_eeg7</th>\n",
              "      <th>1_tyc_eeg8</th>\n",
              "      <th>1_tyc_eeg9</th>\n",
              "      <th>1_tyc_eeg10</th>\n",
              "      <th>...</th>\n",
              "      <th>2_rx_eeg15</th>\n",
              "      <th>2_rx_eeg16</th>\n",
              "      <th>2_rx_eeg17</th>\n",
              "      <th>2_rx_eeg18</th>\n",
              "      <th>2_rx_eeg19</th>\n",
              "      <th>2_rx_eeg20</th>\n",
              "      <th>2_rx_eeg21</th>\n",
              "      <th>2_rx_eeg22</th>\n",
              "      <th>2_rx_eeg23</th>\n",
              "      <th>2_rx_eeg24</th>\n",
              "    </tr>\n",
              "  </thead>\n",
              "  <tbody>\n",
              "    <tr>\n",
              "      <th>0</th>\n",
              "      <td>[[[246], [116], [76], [70], [155], [135], [130...</td>\n",
              "      <td>[[[121], [159], [34], [115], [36], [113], [68]...</td>\n",
              "      <td>[[[153], [71], [66], [42], [96], [56], [102], ...</td>\n",
              "      <td>[[[118], [164], [67], [66], [48], [36], [95], ...</td>\n",
              "      <td>[[[236], [122], [84], [92], [101], [76], [102]...</td>\n",
              "      <td>[[[165], [223], [106], [117], [100], [79], [78...</td>\n",
              "      <td>[[[149], [219], [90], [122], [63], [150], [104...</td>\n",
              "      <td>[[[240], [143], [102], [83], [159], [158], [10...</td>\n",
              "      <td>[[[189], [167], [87], [108], [53], [148], [140...</td>\n",
              "      <td>[[[243], [153], [109], [93], [71], [129], [161...</td>\n",
              "      <td>...</td>\n",
              "      <td>[[[213], [175], [145], [179], [70], [129], [96...</td>\n",
              "      <td>[[[233], [132], [149], [192], [107], [77], [79...</td>\n",
              "      <td>[[[175], [104], [171], [116], [62], [153], [64...</td>\n",
              "      <td>[[[242], [169], [105], [169], [78], [79], [129...</td>\n",
              "      <td>[[[207], [155], [188], [133], [55], [141], [82...</td>\n",
              "      <td>[[[207], [101], [144], [164], [49], [103], [79...</td>\n",
              "      <td>[[[214], [95], [146], [170], [77], [146], [100...</td>\n",
              "      <td>[[[223], [184], [112], [68], [177], [80], [103...</td>\n",
              "      <td>[[[165], [184], [162], [176], [69], [138], [10...</td>\n",
              "      <td>[[[235], [140], [152], [186], [64], [147], [12...</td>\n",
              "    </tr>\n",
              "    <tr>\n",
              "      <th>Emotion_Label</th>\n",
              "      <td>1</td>\n",
              "      <td>2</td>\n",
              "      <td>3</td>\n",
              "      <td>0</td>\n",
              "      <td>2</td>\n",
              "      <td>0</td>\n",
              "      <td>0</td>\n",
              "      <td>1</td>\n",
              "      <td>0</td>\n",
              "      <td>1</td>\n",
              "      <td>...</td>\n",
              "      <td>1</td>\n",
              "      <td>1</td>\n",
              "      <td>2</td>\n",
              "      <td>1</td>\n",
              "      <td>0</td>\n",
              "      <td>3</td>\n",
              "      <td>0</td>\n",
              "      <td>1</td>\n",
              "      <td>3</td>\n",
              "      <td>1</td>\n",
              "    </tr>\n",
              "  </tbody>\n",
              "</table>\n",
              "<p>2 rows × 1080 columns</p>\n",
              "</div>\n",
              "    <div class=\"colab-df-buttons\">\n",
              "\n",
              "  <div class=\"colab-df-container\">\n",
              "    <button class=\"colab-df-convert\" onclick=\"convertToInteractive('df-2e40e87b-7e79-47db-8814-92eb91251a5e')\"\n",
              "            title=\"Convert this dataframe to an interactive table.\"\n",
              "            style=\"display:none;\">\n",
              "\n",
              "  <svg xmlns=\"http://www.w3.org/2000/svg\" height=\"24px\" viewBox=\"0 -960 960 960\">\n",
              "    <path d=\"M120-120v-720h720v720H120Zm60-500h600v-160H180v160Zm220 220h160v-160H400v160Zm0 220h160v-160H400v160ZM180-400h160v-160H180v160Zm440 0h160v-160H620v160ZM180-180h160v-160H180v160Zm440 0h160v-160H620v160Z\"/>\n",
              "  </svg>\n",
              "    </button>\n",
              "\n",
              "  <style>\n",
              "    .colab-df-container {\n",
              "      display:flex;\n",
              "      gap: 12px;\n",
              "    }\n",
              "\n",
              "    .colab-df-convert {\n",
              "      background-color: #E8F0FE;\n",
              "      border: none;\n",
              "      border-radius: 50%;\n",
              "      cursor: pointer;\n",
              "      display: none;\n",
              "      fill: #1967D2;\n",
              "      height: 32px;\n",
              "      padding: 0 0 0 0;\n",
              "      width: 32px;\n",
              "    }\n",
              "\n",
              "    .colab-df-convert:hover {\n",
              "      background-color: #E2EBFA;\n",
              "      box-shadow: 0px 1px 2px rgba(60, 64, 67, 0.3), 0px 1px 3px 1px rgba(60, 64, 67, 0.15);\n",
              "      fill: #174EA6;\n",
              "    }\n",
              "\n",
              "    .colab-df-buttons div {\n",
              "      margin-bottom: 4px;\n",
              "    }\n",
              "\n",
              "    [theme=dark] .colab-df-convert {\n",
              "      background-color: #3B4455;\n",
              "      fill: #D2E3FC;\n",
              "    }\n",
              "\n",
              "    [theme=dark] .colab-df-convert:hover {\n",
              "      background-color: #434B5C;\n",
              "      box-shadow: 0px 1px 3px 1px rgba(0, 0, 0, 0.15);\n",
              "      filter: drop-shadow(0px 1px 2px rgba(0, 0, 0, 0.3));\n",
              "      fill: #FFFFFF;\n",
              "    }\n",
              "  </style>\n",
              "\n",
              "    <script>\n",
              "      const buttonEl =\n",
              "        document.querySelector('#df-2e40e87b-7e79-47db-8814-92eb91251a5e button.colab-df-convert');\n",
              "      buttonEl.style.display =\n",
              "        google.colab.kernel.accessAllowed ? 'block' : 'none';\n",
              "\n",
              "      async function convertToInteractive(key) {\n",
              "        const element = document.querySelector('#df-2e40e87b-7e79-47db-8814-92eb91251a5e');\n",
              "        const dataTable =\n",
              "          await google.colab.kernel.invokeFunction('convertToInteractive',\n",
              "                                                    [key], {});\n",
              "        if (!dataTable) return;\n",
              "\n",
              "        const docLinkHtml = 'Like what you see? Visit the ' +\n",
              "          '<a target=\"_blank\" href=https://colab.research.google.com/notebooks/data_table.ipynb>data table notebook</a>'\n",
              "          + ' to learn more about interactive tables.';\n",
              "        element.innerHTML = '';\n",
              "        dataTable['output_type'] = 'display_data';\n",
              "        await google.colab.output.renderOutput(dataTable, element);\n",
              "        const docLink = document.createElement('div');\n",
              "        docLink.innerHTML = docLinkHtml;\n",
              "        element.appendChild(docLink);\n",
              "      }\n",
              "    </script>\n",
              "  </div>\n",
              "\n",
              "\n",
              "<div id=\"df-aab2b32e-b393-4ba3-a55a-b13300e959ac\">\n",
              "  <button class=\"colab-df-quickchart\" onclick=\"quickchart('df-aab2b32e-b393-4ba3-a55a-b13300e959ac')\"\n",
              "            title=\"Suggest charts\"\n",
              "            style=\"display:none;\">\n",
              "\n",
              "<svg xmlns=\"http://www.w3.org/2000/svg\" height=\"24px\"viewBox=\"0 0 24 24\"\n",
              "     width=\"24px\">\n",
              "    <g>\n",
              "        <path d=\"M19 3H5c-1.1 0-2 .9-2 2v14c0 1.1.9 2 2 2h14c1.1 0 2-.9 2-2V5c0-1.1-.9-2-2-2zM9 17H7v-7h2v7zm4 0h-2V7h2v10zm4 0h-2v-4h2v4z\"/>\n",
              "    </g>\n",
              "</svg>\n",
              "  </button>\n",
              "\n",
              "<style>\n",
              "  .colab-df-quickchart {\n",
              "      --bg-color: #E8F0FE;\n",
              "      --fill-color: #1967D2;\n",
              "      --hover-bg-color: #E2EBFA;\n",
              "      --hover-fill-color: #174EA6;\n",
              "      --disabled-fill-color: #AAA;\n",
              "      --disabled-bg-color: #DDD;\n",
              "  }\n",
              "\n",
              "  [theme=dark] .colab-df-quickchart {\n",
              "      --bg-color: #3B4455;\n",
              "      --fill-color: #D2E3FC;\n",
              "      --hover-bg-color: #434B5C;\n",
              "      --hover-fill-color: #FFFFFF;\n",
              "      --disabled-bg-color: #3B4455;\n",
              "      --disabled-fill-color: #666;\n",
              "  }\n",
              "\n",
              "  .colab-df-quickchart {\n",
              "    background-color: var(--bg-color);\n",
              "    border: none;\n",
              "    border-radius: 50%;\n",
              "    cursor: pointer;\n",
              "    display: none;\n",
              "    fill: var(--fill-color);\n",
              "    height: 32px;\n",
              "    padding: 0;\n",
              "    width: 32px;\n",
              "  }\n",
              "\n",
              "  .colab-df-quickchart:hover {\n",
              "    background-color: var(--hover-bg-color);\n",
              "    box-shadow: 0 1px 2px rgba(60, 64, 67, 0.3), 0 1px 3px 1px rgba(60, 64, 67, 0.15);\n",
              "    fill: var(--button-hover-fill-color);\n",
              "  }\n",
              "\n",
              "  .colab-df-quickchart-complete:disabled,\n",
              "  .colab-df-quickchart-complete:disabled:hover {\n",
              "    background-color: var(--disabled-bg-color);\n",
              "    fill: var(--disabled-fill-color);\n",
              "    box-shadow: none;\n",
              "  }\n",
              "\n",
              "  .colab-df-spinner {\n",
              "    border: 2px solid var(--fill-color);\n",
              "    border-color: transparent;\n",
              "    border-bottom-color: var(--fill-color);\n",
              "    animation:\n",
              "      spin 1s steps(1) infinite;\n",
              "  }\n",
              "\n",
              "  @keyframes spin {\n",
              "    0% {\n",
              "      border-color: transparent;\n",
              "      border-bottom-color: var(--fill-color);\n",
              "      border-left-color: var(--fill-color);\n",
              "    }\n",
              "    20% {\n",
              "      border-color: transparent;\n",
              "      border-left-color: var(--fill-color);\n",
              "      border-top-color: var(--fill-color);\n",
              "    }\n",
              "    30% {\n",
              "      border-color: transparent;\n",
              "      border-left-color: var(--fill-color);\n",
              "      border-top-color: var(--fill-color);\n",
              "      border-right-color: var(--fill-color);\n",
              "    }\n",
              "    40% {\n",
              "      border-color: transparent;\n",
              "      border-right-color: var(--fill-color);\n",
              "      border-top-color: var(--fill-color);\n",
              "    }\n",
              "    60% {\n",
              "      border-color: transparent;\n",
              "      border-right-color: var(--fill-color);\n",
              "    }\n",
              "    80% {\n",
              "      border-color: transparent;\n",
              "      border-right-color: var(--fill-color);\n",
              "      border-bottom-color: var(--fill-color);\n",
              "    }\n",
              "    90% {\n",
              "      border-color: transparent;\n",
              "      border-bottom-color: var(--fill-color);\n",
              "    }\n",
              "  }\n",
              "</style>\n",
              "\n",
              "  <script>\n",
              "    async function quickchart(key) {\n",
              "      const quickchartButtonEl =\n",
              "        document.querySelector('#' + key + ' button');\n",
              "      quickchartButtonEl.disabled = true;  // To prevent multiple clicks.\n",
              "      quickchartButtonEl.classList.add('colab-df-spinner');\n",
              "      try {\n",
              "        const charts = await google.colab.kernel.invokeFunction(\n",
              "            'suggestCharts', [key], {});\n",
              "      } catch (error) {\n",
              "        console.error('Error during call to suggestCharts:', error);\n",
              "      }\n",
              "      quickchartButtonEl.classList.remove('colab-df-spinner');\n",
              "      quickchartButtonEl.classList.add('colab-df-quickchart-complete');\n",
              "    }\n",
              "    (() => {\n",
              "      let quickchartButtonEl =\n",
              "        document.querySelector('#df-aab2b32e-b393-4ba3-a55a-b13300e959ac button');\n",
              "      quickchartButtonEl.style.display =\n",
              "        google.colab.kernel.accessAllowed ? 'block' : 'none';\n",
              "    })();\n",
              "  </script>\n",
              "</div>\n",
              "    </div>\n",
              "  </div>\n"
            ]
          },
          "metadata": {},
          "execution_count": 142
        }
      ]
    },
    {
      "cell_type": "markdown",
      "source": [
        "#Data split"
      ],
      "metadata": {
        "id": "mwxBrqYBMHXf"
      }
    },
    {
      "cell_type": "code",
      "source": [
        "import numpy as np\n",
        "\n",
        "# Assuming Image_Matrix and Label are your DataFrames\n",
        "# Extract the data and labels\n",
        "# Extract the data and labels\n",
        "Image_Matrix = final_df.iloc[0, :].to_list()\n",
        "Label = final_df.iloc[1, :].to_list()\n",
        "\n",
        "# Define X as the input data (images)\n",
        "X = np.array(Image_Matrix).reshape(-1, 62, 62, 1)\n",
        "\n",
        "# Define y as the labels\n",
        "y = np.array(Label)\n",
        "\n",
        "# Split the data into training, validation, and test sets\n",
        "from sklearn.model_selection import train_test_split\n",
        "X_train, X_temp, y_train, y_temp = train_test_split(X, y, test_size=0.2, random_state=42)\n",
        "X_val, X_test, y_val, y_test = train_test_split(X_temp, y_temp, test_size=0.3, random_state=42)\n",
        "\n"
      ],
      "metadata": {
        "id": "V17yY4A7xWAQ"
      },
      "execution_count": null,
      "outputs": []
    },
    {
      "cell_type": "code",
      "source": [
        "print(\"Data types and shapes:\")\n",
        "print(\"X_train:\", type(X_train), X_train.shape if hasattr(X_train, 'shape') else None)\n",
        "print(\"X_val:\", type(X_val), X_val.shape if hasattr(X_val, 'shape') else None)\n",
        "print(\"X_test:\", type(X_test), X_test.shape if hasattr(X_test, 'shape') else None)\n",
        "print(\"y_train:\", type(y_train), y_train.shape if hasattr(y_train, 'shape') else None)\n",
        "print(\"y_val:\", type(y_val), y_val.shape if hasattr(y_val, 'shape') else None)\n",
        "print(\"y_test:\", type(y_test), y_test.shape if hasattr(y_test, 'shape') else None)\n",
        "\n",
        "# Check the data type of the first element in X_train\n",
        "if len(X_train) > 0:\n",
        "    print(\"Data type of the first element in X_train:\", type(X_train[0]))\n",
        "else:\n",
        "    print(\"X_train is empty.\")\n",
        "\n",
        "# Check the data type of the first element in y_train\n",
        "if len(y_train) > 0:\n",
        "    print(\"Data type of the first element in y_train:\", type(y_train[0]))\n",
        "else:\n",
        "    print(\"y_train is empty.\")\n"
      ],
      "metadata": {
        "colab": {
          "base_uri": "https://localhost:8080/"
        },
        "id": "ABINmPqkiEqD",
        "outputId": "a8850840-0c06-4b46-a316-cd81d93c278a"
      },
      "execution_count": null,
      "outputs": [
        {
          "output_type": "stream",
          "name": "stdout",
          "text": [
            "Data types and shapes:\n",
            "X_train: <class 'numpy.ndarray'> (864, 62, 62, 1)\n",
            "X_val: <class 'numpy.ndarray'> (151, 62, 62, 1)\n",
            "X_test: <class 'numpy.ndarray'> (65, 62, 62, 1)\n",
            "y_train: <class 'numpy.ndarray'> (864,)\n",
            "y_val: <class 'numpy.ndarray'> (151,)\n",
            "y_test: <class 'numpy.ndarray'> (65,)\n",
            "Data type of the first element in X_train: <class 'numpy.ndarray'>\n",
            "Data type of the first element in y_train: <class 'numpy.int64'>\n"
          ]
        }
      ]
    },
    {
      "cell_type": "code",
      "source": [
        "print(X_train.dtype)"
      ],
      "metadata": {
        "colab": {
          "base_uri": "https://localhost:8080/"
        },
        "id": "X7fAfwwEi6g9",
        "outputId": "27a950ef-485f-413f-86be-c05558c0ede6"
      },
      "execution_count": null,
      "outputs": [
        {
          "output_type": "stream",
          "name": "stdout",
          "text": [
            "uint8\n"
          ]
        }
      ]
    },
    {
      "cell_type": "code",
      "source": [
        "print(y_train.dtype)"
      ],
      "metadata": {
        "colab": {
          "base_uri": "https://localhost:8080/"
        },
        "id": "gAk7RqiBdXDs",
        "outputId": "2fb69b12-561e-4249-f5aa-0a623c7fd7e6"
      },
      "execution_count": null,
      "outputs": [
        {
          "output_type": "stream",
          "name": "stdout",
          "text": [
            "int64\n"
          ]
        }
      ]
    },
    {
      "cell_type": "code",
      "source": [
        "# X_train = X_train.numpy()\n",
        "# y_train = y_train.numpy()\n",
        "# X_val = X_val.numpy()\n",
        "# y_val = y_val.numpy()\n",
        "# X_test = X_test.numpy()\n",
        "# y_test = y_test.numpy()\n"
      ],
      "metadata": {
        "id": "1u4Lcls4rIzM"
      },
      "execution_count": null,
      "outputs": []
    },
    {
      "cell_type": "code",
      "source": [
        "import matplotlib.pyplot as plt\n",
        "\n",
        "# Visualize some EEG data samples\n",
        "sample_indices = [0, 1, 2]\n",
        "for index in sample_indices:\n",
        "    sample_image = X_train[index].reshape(62, 62)  # Reshape to (62, 62)\n",
        "    label = y_train[index]\n",
        "\n",
        "    plt.figure()\n",
        "    plt.imshow(sample_image, cmap='viridis')\n",
        "    plt.title(f\"Sample EEG Data - Label: {label}\")\n",
        "    plt.show()\n"
      ],
      "metadata": {
        "id": "WhN_NfmJ4xuH",
        "colab": {
          "base_uri": "https://localhost:8080/",
          "height": 1000
        },
        "outputId": "02ee7824-93a4-4a1e-c80d-42e7568f1589"
      },
      "execution_count": null,
      "outputs": [
        {
          "output_type": "display_data",
          "data": {
            "text/plain": [
              "<Figure size 640x480 with 1 Axes>"
            ],
            "image/png": "[encoded data removed]"
          },
          "metadata": {}
        },
        {
          "output_type": "display_data",
          "data": {
            "text/plain": [
              "<Figure size 640x480 with 1 Axes>"
            ],
            "image/png": "[encoded data removed]"
          },
          "metadata": {}
        },
        {
          "output_type": "display_data",
          "data": {
            "text/plain": [
              "<Figure size 640x480 with 1 Axes>"
            ],
            "image/png": "[encoded data removed]"
          },
          "metadata": {}
        }
      ]
    },
    {
      "cell_type": "markdown",
      "source": [
        "# CNN model\n"
      ],
      "metadata": {
        "id": "pi5yz7m4MOB4"
      }
    },
    {
      "cell_type": "code",
      "source": [
        "# import tensorflow as tf\n",
        "# from tensorflow import keras\n",
        "\n",
        "# # Define the CNN model\n",
        "# model = keras.Sequential([\n",
        "#     keras.layers.Conv2D(64, (3, 3), activation='relu', input_shape=(62, 62, 1)),\n",
        "#     keras.layers.MaxPooling2D((2, 2)),\n",
        "#     keras.layers.Dropout(0.25),\n",
        "#     keras.layers.Conv2D(256, (3, 3), activation='relu'),\n",
        "#     keras.layers.MaxPooling2D((2, 2)),\n",
        "#     keras.layers.Dropout(0.25),\n",
        "#     keras.layers.Flatten(),\n",
        "#     keras.layers.Dense(256, activation='relu'),\n",
        "#     keras.layers.Dropout(0.5),\n",
        "#     keras.layers.Dense(4, activation='softmax')\n",
        "# ])\n",
        "\n",
        "# # Compile the model\n",
        "# model.compile(optimizer='adam',\n",
        "#               loss='sparse_categorical_crossentropy',\n",
        "#               metrics=['accuracy'])\n",
        "\n",
        "# # Train the model with the original data\n",
        "# model.fit(X_train, y_train, epochs=8, validation_data=(X_val, y_val))\n",
        "\n",
        "# # Evaluate the model on the test set\n",
        "# test_loss, test_acc = model.evaluate(X_test, y_test)\n",
        "# print(\"Test accuracy:\", test_acc)\n"
      ],
      "metadata": {
        "id": "t88xpGMyp0Ae"
      },
      "execution_count": null,
      "outputs": []
    },
    {
      "cell_type": "code",
      "source": [
        "import tensorflow as tf\n",
        "from tensorflow import keras\n",
        "\n",
        "model = keras.Sequential([\n",
        "    keras.layers.Flatten(input_shape=(62, 62, 1)),\n",
        "    keras.layers.Dense(4, activation='softmax')\n",
        "])\n",
        "\n",
        "# Compile the model\n",
        "model.compile(optimizer='adam',\n",
        "              loss='sparse_categorical_crossentropy',\n",
        "              metrics=['accuracy'])\n",
        "# Train the model with the original data\n",
        "model.fit(X_train, y_train, epochs=8, validation_data=(X_val, y_val))\n",
        "\n",
        "# Evaluate the model on the test set\n",
        "test_loss, test_acc = model.evaluate(X_test, y_test)\n",
        "print(\"Test accuracy:\", test_acc)\n",
        "model.summary()\n",
        "from sklearn.metrics import confusion_matrix\n",
        "import seaborn as sns\n",
        "\n",
        "y_pred = model.predict(X_test)\n",
        "y_pred_classes = np.argmax(y_pred, axis=1)\n",
        "cm = confusion_matrix(y_test, y_pred_classes)\n",
        "\n",
        "plt.figure(figsize=(8, 6))\n",
        "sns.heatmap(cm, annot=True, fmt='d', cmap='Blues', xticklabels=['Class 0', 'Class 1', 'Class 2', 'Class 3'], yticklabels=['Class 0', 'Class 1', 'Class 2', 'Class 3'])\n",
        "plt.xlabel('Predicted')\n",
        "plt.ylabel('Actual')\n",
        "plt.title('Confusion Matrix')\n",
        "plt.show()\n"
      ],
      "metadata": {
        "colab": {
          "base_uri": "https://localhost:8080/",
          "height": 1000
        },
        "id": "GZO2J99pnniV",
        "outputId": "bfa3086b-f8a0-41a9-cdad-ce5f59e95155"
      },
      "execution_count": null,
      "outputs": [
        {
          "output_type": "stream",
          "name": "stdout",
          "text": [
            "Epoch 1/8\n",
            "27/27 [==============================] - 1s 13ms/step - loss: 298.3979 - accuracy: 0.2627 - val_loss: 122.7406 - val_accuracy: 0.2384\n",
            "Epoch 2/8\n",
            "27/27 [==============================] - 0s 5ms/step - loss: 81.3570 - accuracy: 0.2315 - val_loss: 73.5078 - val_accuracy: 0.2781\n",
            "Epoch 3/8\n",
            "27/27 [==============================] - 0s 5ms/step - loss: 107.6276 - accuracy: 0.2477 - val_loss: 60.8944 - val_accuracy: 0.2517\n",
            "Epoch 4/8\n",
            "27/27 [==============================] - 0s 5ms/step - loss: 58.9145 - accuracy: 0.2662 - val_loss: 35.8691 - val_accuracy: 0.2583\n",
            "Epoch 5/8\n",
            "27/27 [==============================] - 0s 5ms/step - loss: 62.6144 - accuracy: 0.2731 - val_loss: 46.9147 - val_accuracy: 0.2318\n",
            "Epoch 6/8\n",
            "27/27 [==============================] - 0s 4ms/step - loss: 53.9384 - accuracy: 0.2616 - val_loss: 28.7528 - val_accuracy: 0.2119\n",
            "Epoch 7/8\n",
            "27/27 [==============================] - 0s 5ms/step - loss: 36.1482 - accuracy: 0.2743 - val_loss: 56.6573 - val_accuracy: 0.2848\n",
            "Epoch 8/8\n",
            "27/27 [==============================] - 0s 5ms/step - loss: 66.1474 - accuracy: 0.2523 - val_loss: 72.5012 - val_accuracy: 0.2318\n",
            "3/3 [==============================] - 0s 7ms/step - loss: 51.9340 - accuracy: 0.3385\n",
            "Test accuracy: 0.3384615480899811\n",
            "Model: \"sequential_19\"\n",
            "_________________________________________________________________\n",
            " Layer (type)                Output Shape              Param #   \n",
            "=================================================================\n",
            " flatten_19 (Flatten)        (None, 3844)              0         \n",
            "                                                                 \n",
            " dense_32 (Dense)            (None, 4)                 15380     \n",
            "                                                                 \n",
            "=================================================================\n",
            "Total params: 15380 (60.08 KB)\n",
            "Trainable params: 15380 (60.08 KB)\n",
            "Non-trainable params: 0 (0.00 Byte)\n",
            "_________________________________________________________________\n",
            "3/3 [==============================] - 0s 3ms/step\n"
          ]
        },
        {
          "output_type": "display_data",
          "data": {
            "text/plain": [
              "<Figure size 800x600 with 2 Axes>"
            ],
            "image/png": "[encoded data removed]"
          },
          "metadata": {}
        }
      ]
    },
    {
      "cell_type": "code",
      "source": [
        "# Assuming y_train and X_train are available\n",
        "y_train_probs = model.predict(X_train)\n",
        "y_train_pred = np.argmax(y_train_probs, axis=1)\n"
      ],
      "metadata": {
        "colab": {
          "base_uri": "https://localhost:8080/"
        },
        "id": "j26vtBfEnVEZ",
        "outputId": "80a1dccc-fa6a-41d5-aec8-bd7bf8dd2c4d"
      },
      "execution_count": null,
      "outputs": [
        {
          "output_type": "stream",
          "name": "stdout",
          "text": [
            "27/27 [==============================] - 0s 2ms/step\n"
          ]
        }
      ]
    },
    {
      "cell_type": "code",
      "source": [
        "print(\"Actual Labels:\", y_train[:10])\n",
        "print(\"Predicted Labels:\", y_train_pred[:10])\n"
      ],
      "metadata": {
        "colab": {
          "base_uri": "https://localhost:8080/"
        },
        "id": "9gD0_v-hncih",
        "outputId": "aa964f18-c5a0-4f2c-98cf-724a9c4ddb6d"
      },
      "execution_count": null,
      "outputs": [
        {
          "output_type": "stream",
          "name": "stdout",
          "text": [
            "Actual Labels: [1 3 2 0 0 0 0 1 0 2]\n",
            "Predicted Labels: [1 0 2 2 0 2 2 1 2 2]\n"
          ]
        }
      ]
    },
    {
      "cell_type": "code",
      "source": [
        "train_loss, train_acc = model.evaluate(X_train, y_train)\n",
        "print(f\"Training accuracy: {train_acc}\")\n"
      ],
      "metadata": {
        "colab": {
          "base_uri": "https://localhost:8080/"
        },
        "id": "wR2sXcTenjND",
        "outputId": "d2019141-f098-4117-a012-0ba4b6727a96"
      },
      "execution_count": null,
      "outputs": [
        {
          "output_type": "stream",
          "name": "stdout",
          "text": [
            "27/27 [==============================] - 0s 3ms/step - loss: 62.6087 - accuracy: 0.3206\n",
            "Training accuracy: 0.32060185074806213\n"
          ]
        }
      ]
    },
    {
      "cell_type": "code",
      "source": [
        "model.summary()\n"
      ],
      "metadata": {
        "id": "Kd6P498W438M",
        "colab": {
          "base_uri": "https://localhost:8080/"
        },
        "outputId": "b10d400b-6463-4e88-cac9-e4c945a6e5a0"
      },
      "execution_count": null,
      "outputs": [
        {
          "output_type": "stream",
          "name": "stdout",
          "text": [
            "Model: \"sequential_19\"\n",
            "_________________________________________________________________\n",
            " Layer (type)                Output Shape              Param #   \n",
            "=================================================================\n",
            " flatten_19 (Flatten)        (None, 3844)              0         \n",
            "                                                                 \n",
            " dense_32 (Dense)            (None, 4)                 15380     \n",
            "                                                                 \n",
            "=================================================================\n",
            "Total params: 15380 (60.08 KB)\n",
            "Trainable params: 15380 (60.08 KB)\n",
            "Non-trainable params: 0 (0.00 Byte)\n",
            "_________________________________________________________________\n"
          ]
        }
      ]
    },
    {
      "cell_type": "code",
      "source": [
        "import matplotlib.pyplot as plt\n",
        "import seaborn as sns\n",
        "\n",
        "# Assuming y_train contains your class labels\n",
        "plt.figure(figsize=(8, 6))\n",
        "sns.countplot(x=y_train)\n",
        "plt.title('Class Distribution')\n",
        "plt.xlabel('Class')\n",
        "plt.ylabel('Count')\n",
        "plt.show()\n",
        "\n"
      ],
      "metadata": {
        "colab": {
          "base_uri": "https://localhost:8080/"
        },
        "id": "Kab54JwekN_Z",
        "outputId": "f779ffa6-11ce-4553-8994-99f7f075849f"
      },
      "execution_count": null,
      "outputs": [
        {
          "output_type": "display_data",
          "data": {
            "text/plain": [
              "<Figure size 800x600 with 1 Axes>"
            ],
            "image/png": "[encoded data removed]"
          },
          "metadata": {}
        }
      ]
    }
  ]
}