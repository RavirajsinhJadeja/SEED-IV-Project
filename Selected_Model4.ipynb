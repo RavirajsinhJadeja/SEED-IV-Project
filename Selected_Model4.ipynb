{
  "nbformat": 4,
  "nbformat_minor": 0,
  "metadata": {
    "colab": {
      "provenance": []
    },
    "kernelspec": {
      "name": "python3",
      "display_name": "Python 3"
    },
    "language_info": {
      "name": "python"
    }
  },
  "cells": [
    {
      "cell_type": "code",
      "execution_count": null,
      "metadata": {
        "colab": {
          "base_uri": "https://localhost:8080/"
        },
        "id": "YGkNp4Ahqnpn",
        "outputId": "c9af646f-2fe8-4571-dc8b-77a21b5f04f1"
      },
      "outputs": [
        {
          "output_type": "stream",
          "name": "stdout",
          "text": [
            "Mounted at /content/drive\n"
          ]
        }
      ],
      "source": [
        "from google.colab import drive\n",
        "\n",
        "# Mount Google Drive\n",
        "drive.mount('/content/drive')\n"
      ]
    },
    {
      "cell_type": "markdown",
      "source": [
        "#PCA"
      ],
      "metadata": {
        "id": "6cHgnxTBLccm"
      }
    },
    {
      "cell_type": "code",
      "source": [
        "from sklearn.decomposition import PCA\n",
        "\n",
        "def pca_to_62x62(input_data):\n",
        "\n",
        "    pca = PCA(n_components=50)\n",
        "    transformed_data = pca.fit_transform(input_data)\n",
        "    return transformed_data\n"
      ],
      "metadata": {
        "id": "rFSQJxsfq_F3"
      },
      "execution_count": null,
      "outputs": []
    },
    {
      "cell_type": "markdown",
      "source": [
        "#Rescaling\n"
      ],
      "metadata": {
        "id": "juCkEeh9Lh6P"
      }
    },
    {
      "cell_type": "code",
      "source": [
        "import numpy as np\n",
        "\n",
        "def rescale_to_0_255(data):\n",
        "\n",
        "    # Find the minimum and maximum values in the data\n",
        "    min_val = data.min()\n",
        "    max_val = data.max()\n",
        "\n",
        "    # Perform min-max scaling to rescale the data to [0, 255]\n",
        "    scaled_data = 255 * (data - min_val) / (max_val - min_val)\n",
        "\n",
        "    return scaled_data.astype(np.uint8)  # Ensure the data type is uint8 for image representation\n"
      ],
      "metadata": {
        "id": "5ojehhQNtbUo"
      },
      "execution_count": null,
      "outputs": []
    },
    {
      "cell_type": "code",
      "source": [
        "def zscale_row_wise(data):\n",
        "    scaler = StandardScaler()\n",
        "    dataz = scaler.fit_transform(data.T).T\n",
        "    return dataz\n"
      ],
      "metadata": {
        "id": "1LKXLrCauBUw"
      },
      "execution_count": null,
      "outputs": []
    },
    {
      "cell_type": "code",
      "source": [
        "!pip install numpy pandas scipy scikit-learn\n"
      ],
      "metadata": {
        "colab": {
          "base_uri": "https://localhost:8080/"
        },
        "id": "u35gXFBG2DVh",
        "outputId": "1f4dc503-2695-4b4d-ed31-f5643b43ec9a"
      },
      "execution_count": null,
      "outputs": [
        {
          "output_type": "stream",
          "name": "stdout",
          "text": [
            "Requirement already satisfied: numpy in /usr/local/lib/python3.10/dist-packages (1.23.5)\n",
            "Requirement already satisfied: pandas in /usr/local/lib/python3.10/dist-packages (1.5.3)\n",
            "Requirement already satisfied: scipy in /usr/local/lib/python3.10/dist-packages (1.11.3)\n",
            "Requirement already satisfied: scikit-learn in /usr/local/lib/python3.10/dist-packages (1.2.2)\n",
            "Requirement already satisfied: python-dateutil>=2.8.1 in /usr/local/lib/python3.10/dist-packages (from pandas) (2.8.2)\n",
            "Requirement already satisfied: pytz>=2020.1 in /usr/local/lib/python3.10/dist-packages (from pandas) (2023.3.post1)\n",
            "Requirement already satisfied: joblib>=1.1.1 in /usr/local/lib/python3.10/dist-packages (from scikit-learn) (1.3.2)\n",
            "Requirement already satisfied: threadpoolctl>=2.0.0 in /usr/local/lib/python3.10/dist-packages (from scikit-learn) (3.2.0)\n",
            "Requirement already satisfied: six>=1.5 in /usr/local/lib/python3.10/dist-packages (from python-dateutil>=2.8.1->pandas) (1.16.0)\n"
          ]
        }
      ]
    },
    {
      "cell_type": "markdown",
      "source": [
        "# Data transformation for noise reduction and dimensionality reduction along with reshaping"
      ],
      "metadata": {
        "id": "2GN5cidlLohj"
      }
    },
    {
      "cell_type": "code",
      "source": [
        "import os\n",
        "import numpy as np\n",
        "from scipy.io import loadmat\n",
        "import pandas as pd\n",
        "from sklearn.preprocessing import StandardScaler\n",
        "\n",
        "# Define the directory path where the .mat files are located\n",
        "base_dir = '/content/drive/MyDrive/SEED_IV/SEED_IV/eeg_feature_smooth'\n",
        "\n",
        "# Set the batch size\n",
        "batch_size = 96  # Adjust as needed\n",
        "\n",
        "# Initialize an empty DataFrame\n",
        "final_df = pd.DataFrame()\n",
        "\n",
        "\n",
        "# Function to convert a 3D matrix to a 2D matrix\n",
        "def convert_to_2d(matrix):\n",
        "    return matrix.reshape((matrix.shape[0],-1))\n",
        "\n",
        "# Traverse through the directories and load .mat files\n",
        "for folder in os.listdir(base_dir):\n",
        "    folder_path = os.path.join(base_dir, folder)\n",
        "\n",
        "    if os.path.isdir(folder_path):\n",
        "        # Initialize a list to store DataFrames for each batch\n",
        "        batch_dfs = []\n",
        "\n",
        "        for file in os.listdir(folder_path):\n",
        "            if file.endswith('.mat'):\n",
        "                file_path = os.path.join(folder_path, file)\n",
        "                data = loadmat(file_path)  # Load .mat file\n",
        "\n",
        "\n",
        "                # Extract subject number from the file name\n",
        "                subject_number_str = file.split('_')[0]\n",
        "\n",
        "\n",
        "                # Try to extract the last two digits; if there's an error, use the last one digit\n",
        "                try:\n",
        "                    subject_number = int(subject_number_str[-2:])\n",
        "                except ValueError:\n",
        "                    subject_number = int(subject_number_str[-1])\n",
        "\n",
        "                # Initialize a DataFrame for each batch\n",
        "                batch_df = pd.DataFrame()\n",
        "\n",
        "                # Extract and process variables for each subject\n",
        "                for prefix in ['de_LDS', 'de_movingAve', 'psd_LDS', 'psd_movingAve']:\n",
        "                    for i in range(1, 25):  # Subject numbers range from 1 to 24\n",
        "                        var_key = f'{prefix}{i}'\n",
        "                        if var_key in data:\n",
        "                            # Get the 3D matrix and convert to 2D\n",
        "                            matrix_2d = convert_to_2d(data[var_key])\n",
        "                            column_name = f'{folder}_{subject_number}_{i if i >= 10 else f\"0{i}\"}'\n",
        "\n",
        "                            # Create a new column in the DataFrame and assign the variable\n",
        "                            batch_df[column_name] = [matrix_2d]\n",
        "\n",
        "                batch_dfs.append(batch_df)\n",
        "\n",
        "                # Process the batch once it reaches the specified batch size\n",
        "                if len(batch_dfs) >= batch_size:\n",
        "                    batch_df = pd.concat(batch_dfs, axis=1)\n",
        "\n",
        "                    # Apply PCA and rescaling to the batch (if needed)\n",
        "                    batch_df = batch_df.applymap(zscale_row_wise)\n",
        "                    batch_df = batch_df.applymap(pca_to_62x62)\n",
        "                    # batch_df = batch_df.applymap(rescale_to_0_255)\n",
        "\n",
        "                    # Append the batch to the final DataFrame\n",
        "                    final_df = pd.concat([final_df, batch_df], axis=1)\n",
        "                    batch_dfs = []\n",
        "\n",
        "        # Process any remaining data in the last batch\n",
        "        if len(batch_dfs) > 0:\n",
        "\n",
        "            batch_df = pd.concat(batch_dfs, axis=1)\n",
        "\n",
        "            # Apply PCA and rescaling to the last batch (if needed)\n",
        "            batch_df = batch_df.applymap(zscale_row_wise)\n",
        "            batch_df = batch_df.applymap(pca_to_62x62)\n",
        "            # batch_df = batch_df.applymap(rescale_to_0_255)\n",
        "\n",
        "            # Append the last batch to the final DataFrame\n",
        "            final_df = pd.concat([final_df, batch_df], axis=1)\n",
        "\n",
        "            # Print information after processing the last batch\n",
        "            print(f\"Shape of final_df after processing the last batch: {final_df.shape}\")\n"
      ],
      "metadata": {
        "id": "2q_2Z98139Y_",
        "colab": {
          "base_uri": "https://localhost:8080/"
        },
        "outputId": "943382ce-1930-4c74-aa69-b85b7358edfd"
      },
      "execution_count": null,
      "outputs": [
        {
          "output_type": "stream",
          "name": "stdout",
          "text": [
            "Shape of final_df after processing the last batch: (1, 360)\n",
            "Shape of final_df after processing the last batch: (1, 720)\n",
            "Shape of final_df after processing the last batch: (1, 1080)\n"
          ]
        }
      ]
    },
    {
      "cell_type": "code",
      "source": [
        "# import os\n",
        "# import numpy as np\n",
        "# from scipy.io import loadmat\n",
        "# import pandas as pd\n",
        "# import matplotlib.pyplot as plt\n",
        "\n",
        "# # Define the directory path where the .mat files are located\n",
        "# base_dir = '/content/drive/MyDrive/SEED_IV/SEED_IV/eeg_raw_data'\n",
        "\n",
        "# # Initialize lists to store the shapes of the original data and the corresponding folder\n",
        "# original_data_shapes = []\n",
        "# y_axis_sizes = []\n",
        "\n",
        "# # Traverse through the directories and load .mat files\n",
        "# for folder in os.listdir(base_dir):\n",
        "#     folder_path = os.path.join(base_dir, folder)\n",
        "\n",
        "#     if os.path.isdir(folder_path):\n",
        "#         for file in os.listdir(folder_path):\n",
        "#             if file.endswith('.mat'):\n",
        "#                 file_path = os.path.join(folder_path, file)\n",
        "#                 data = loadmat(file_path)  # Load .mat file\n",
        "\n",
        "#                 # Loop through variables in the loaded .mat file\n",
        "#                 for var_key, var_value in data.items():\n",
        "#                     # Skip variables that start with double underscores \"__\"\n",
        "#                     if var_key.startswith(\"__\"):\n",
        "#                         continue\n",
        "\n",
        "#                     # Get the shape of the original data\n",
        "#                     original_shape = var_value.shape\n",
        "#                     original_data_shapes.append((folder, var_key, original_shape))\n",
        "#                     y_axis_sizes.append(original_shape[1])\n",
        "\n",
        "# # Plot the Y-axis (timestamp) sizes\n",
        "# plt.figure(figsize=(10, 6))\n",
        "# plt.bar(range(len(y_axis_sizes)), y_axis_sizes)\n",
        "# plt.xlabel(\"Data Point\")\n",
        "# plt.ylabel(\"Y-Axis Size (Timestamp)\")\n",
        "# plt.title(\"Range of Y-Axis Sizes\")\n",
        "# plt.show()\n",
        "\n",
        "# min_y_axis_size = min(y_axis_sizes)\n",
        "# max_y_axis_size = max(y_axis_sizes)\n",
        "\n",
        "# print(f\"Minimum Y-Axis (Timestamp) Size: {min_y_axis_size}\")\n",
        "# print(f\"Maximum Y-Axis (Timestamp) Size: {max_y_axis_size}\")\n"
      ],
      "metadata": {
        "colab": {
          "base_uri": "https://localhost:8080/",
          "height": 599
        },
        "id": "q1GW4DvPHulC",
        "outputId": "06dd29c9-c4d3-4d39-f2ca-ea74cebec580"
      },
      "execution_count": null,
      "outputs": [
        {
          "output_type": "display_data",
          "data": {
            "text/plain": [
              "<Figure size 1000x600 with 1 Axes>"
            ],
            "image/png": "[encoded data removed]"
          },
          "metadata": {}
        },
        {
          "output_type": "stream",
          "name": "stdout",
          "text": [
            "Minimum Y-Axis (Timestamp) Size: 8601\n",
            "Maximum Y-Axis (Timestamp) Size: 51801\n"
          ]
        }
      ]
    },
    {
      "cell_type": "code",
      "source": [
        "final_df.head()  # Displays the first 5 rows\n",
        "\n"
      ],
      "metadata": {
        "colab": {
          "base_uri": "https://localhost:8080/",
          "height": 164
        },
        "id": "U-vbS8tw6l6Z",
        "outputId": "f4d95d69-4259-4868-ac18-19f31b5d4762"
      },
      "execution_count": null,
      "outputs": [
        {
          "output_type": "execute_result",
          "data": {
            "text/plain": [
              "                                             2_12_01  \\\n",
              "0  [[12.792097580403842, -1.3060728479559482, 1.8...   \n",
              "\n",
              "                                             2_12_02  \\\n",
              "0  [[6.822028610551412, 1.321140676757626, 0.0407...   \n",
              "\n",
              "                                             2_12_03  \\\n",
              "0  [[-3.713782531082155, 3.521999491155027, 0.884...   \n",
              "\n",
              "                                             2_12_04  \\\n",
              "0  [[2.0870157631018893, 4.467475883161304, 1.730...   \n",
              "\n",
              "                                             2_12_05  \\\n",
              "0  [[4.396613267401508, 0.008234087182715087, -2....   \n",
              "\n",
              "                                             2_12_06  \\\n",
              "0  [[-3.4529246798153683, -0.5813518594812758, 1....   \n",
              "\n",
              "                                             2_12_07  \\\n",
              "0  [[0.3487866942498586, 0.8031101543510911, 3.93...   \n",
              "\n",
              "                                             2_12_08  \\\n",
              "0  [[-2.381843671451092, 5.732114797081804, -2.31...   \n",
              "\n",
              "                                             2_12_09  \\\n",
              "0  [[-3.9687006305546007, -4.218030234887476, -0....   \n",
              "\n",
              "                                             2_12_10  ...  \\\n",
              "0  [[5.190164208642543, -0.7302970673168832, -0.7...  ...   \n",
              "\n",
              "                                              1_9_15  \\\n",
              "0  [[2.628569286338966, -4.038167903798743, 2.362...   \n",
              "\n",
              "                                              1_9_16  \\\n",
              "0  [[0.7749714842715487, 4.000269484026808, -0.06...   \n",
              "\n",
              "                                              1_9_17  \\\n",
              "0  [[4.369221125105781, 0.15197206281358408, -1.2...   \n",
              "\n",
              "                                              1_9_18  \\\n",
              "0  [[2.734139758838315, -1.2958931836590408, 5.68...   \n",
              "\n",
              "                                              1_9_19  \\\n",
              "0  [[-5.46086574919813, -1.1702116321828866, -0.1...   \n",
              "\n",
              "                                              1_9_20  \\\n",
              "0  [[-1.2901284495747776, 1.7665126954980446, -0....   \n",
              "\n",
              "                                              1_9_21  \\\n",
              "0  [[-4.214099334059905, -1.0086167951239016, -2....   \n",
              "\n",
              "                                              1_9_22  \\\n",
              "0  [[-1.6838247767275316, 2.1284364233265367, -2....   \n",
              "\n",
              "                                              1_9_23  \\\n",
              "0  [[5.309408701152226, 1.0143431968206535, -1.91...   \n",
              "\n",
              "                                              1_9_24  \n",
              "0  [[-2.801438209148012, 3.8191277603387217, 1.53...  \n",
              "\n",
              "[1 rows x 1080 columns]"
            ],
            "text/html": [
              "\n",
              "  <div id=\"df-5bd72c87-9af6-447f-b6c9-e0613d5e99db\" class=\"colab-df-container\">\n",
              "    <div>\n",
              "<style scoped>\n",
              "    .dataframe tbody tr th:only-of-type {\n",
              "        vertical-align: middle;\n",
              "    }\n",
              "\n",
              "    .dataframe tbody tr th {\n",
              "        vertical-align: top;\n",
              "    }\n",
              "\n",
              "    .dataframe thead th {\n",
              "        text-align: right;\n",
              "    }\n",
              "</style>\n",
              "<table border=\"1\" class=\"dataframe\">\n",
              "  <thead>\n",
              "    <tr style=\"text-align: right;\">\n",
              "      <th></th>\n",
              "      <th>2_12_01</th>\n",
              "      <th>2_12_02</th>\n",
              "      <th>2_12_03</th>\n",
              "      <th>2_12_04</th>\n",
              "      <th>2_12_05</th>\n",
              "      <th>2_12_06</th>\n",
              "      <th>2_12_07</th>\n",
              "      <th>2_12_08</th>\n",
              "      <th>2_12_09</th>\n",
              "      <th>2_12_10</th>\n",
              "      <th>...</th>\n",
              "      <th>1_9_15</th>\n",
              "      <th>1_9_16</th>\n",
              "      <th>1_9_17</th>\n",
              "      <th>1_9_18</th>\n",
              "      <th>1_9_19</th>\n",
              "      <th>1_9_20</th>\n",
              "      <th>1_9_21</th>\n",
              "      <th>1_9_22</th>\n",
              "      <th>1_9_23</th>\n",
              "      <th>1_9_24</th>\n",
              "    </tr>\n",
              "  </thead>\n",
              "  <tbody>\n",
              "    <tr>\n",
              "      <th>0</th>\n",
              "      <td>[[12.792097580403842, -1.3060728479559482, 1.8...</td>\n",
              "      <td>[[6.822028610551412, 1.321140676757626, 0.0407...</td>\n",
              "      <td>[[-3.713782531082155, 3.521999491155027, 0.884...</td>\n",
              "      <td>[[2.0870157631018893, 4.467475883161304, 1.730...</td>\n",
              "      <td>[[4.396613267401508, 0.008234087182715087, -2....</td>\n",
              "      <td>[[-3.4529246798153683, -0.5813518594812758, 1....</td>\n",
              "      <td>[[0.3487866942498586, 0.8031101543510911, 3.93...</td>\n",
              "      <td>[[-2.381843671451092, 5.732114797081804, -2.31...</td>\n",
              "      <td>[[-3.9687006305546007, -4.218030234887476, -0....</td>\n",
              "      <td>[[5.190164208642543, -0.7302970673168832, -0.7...</td>\n",
              "      <td>...</td>\n",
              "      <td>[[2.628569286338966, -4.038167903798743, 2.362...</td>\n",
              "      <td>[[0.7749714842715487, 4.000269484026808, -0.06...</td>\n",
              "      <td>[[4.369221125105781, 0.15197206281358408, -1.2...</td>\n",
              "      <td>[[2.734139758838315, -1.2958931836590408, 5.68...</td>\n",
              "      <td>[[-5.46086574919813, -1.1702116321828866, -0.1...</td>\n",
              "      <td>[[-1.2901284495747776, 1.7665126954980446, -0....</td>\n",
              "      <td>[[-4.214099334059905, -1.0086167951239016, -2....</td>\n",
              "      <td>[[-1.6838247767275316, 2.1284364233265367, -2....</td>\n",
              "      <td>[[5.309408701152226, 1.0143431968206535, -1.91...</td>\n",
              "      <td>[[-2.801438209148012, 3.8191277603387217, 1.53...</td>\n",
              "    </tr>\n",
              "  </tbody>\n",
              "</table>\n",
              "<p>1 rows × 1080 columns</p>\n",
              "</div>\n",
              "    <div class=\"colab-df-buttons\">\n",
              "\n",
              "  <div class=\"colab-df-container\">\n",
              "    <button class=\"colab-df-convert\" onclick=\"convertToInteractive('df-5bd72c87-9af6-447f-b6c9-e0613d5e99db')\"\n",
              "            title=\"Convert this dataframe to an interactive table.\"\n",
              "            style=\"display:none;\">\n",
              "\n",
              "  <svg xmlns=\"http://www.w3.org/2000/svg\" height=\"24px\" viewBox=\"0 -960 960 960\">\n",
              "    <path d=\"M120-120v-720h720v720H120Zm60-500h600v-160H180v160Zm220 220h160v-160H400v160Zm0 220h160v-160H400v160ZM180-400h160v-160H180v160Zm440 0h160v-160H620v160ZM180-180h160v-160H180v160Zm440 0h160v-160H620v160Z\"/>\n",
              "  </svg>\n",
              "    </button>\n",
              "\n",
              "  <style>\n",
              "    .colab-df-container {\n",
              "      display:flex;\n",
              "      gap: 12px;\n",
              "    }\n",
              "\n",
              "    .colab-df-convert {\n",
              "      background-color: #E8F0FE;\n",
              "      border: none;\n",
              "      border-radius: 50%;\n",
              "      cursor: pointer;\n",
              "      display: none;\n",
              "      fill: #1967D2;\n",
              "      height: 32px;\n",
              "      padding: 0 0 0 0;\n",
              "      width: 32px;\n",
              "    }\n",
              "\n",
              "    .colab-df-convert:hover {\n",
              "      background-color: #E2EBFA;\n",
              "      box-shadow: 0px 1px 2px rgba(60, 64, 67, 0.3), 0px 1px 3px 1px rgba(60, 64, 67, 0.15);\n",
              "      fill: #174EA6;\n",
              "    }\n",
              "\n",
              "    .colab-df-buttons div {\n",
              "      margin-bottom: 4px;\n",
              "    }\n",
              "\n",
              "    [theme=dark] .colab-df-convert {\n",
              "      background-color: #3B4455;\n",
              "      fill: #D2E3FC;\n",
              "    }\n",
              "\n",
              "    [theme=dark] .colab-df-convert:hover {\n",
              "      background-color: #434B5C;\n",
              "      box-shadow: 0px 1px 3px 1px rgba(0, 0, 0, 0.15);\n",
              "      filter: drop-shadow(0px 1px 2px rgba(0, 0, 0, 0.3));\n",
              "      fill: #FFFFFF;\n",
              "    }\n",
              "  </style>\n",
              "\n",
              "    <script>\n",
              "      const buttonEl =\n",
              "        document.querySelector('#df-5bd72c87-9af6-447f-b6c9-e0613d5e99db button.colab-df-convert');\n",
              "      buttonEl.style.display =\n",
              "        google.colab.kernel.accessAllowed ? 'block' : 'none';\n",
              "\n",
              "      async function convertToInteractive(key) {\n",
              "        const element = document.querySelector('#df-5bd72c87-9af6-447f-b6c9-e0613d5e99db');\n",
              "        const dataTable =\n",
              "          await google.colab.kernel.invokeFunction('convertToInteractive',\n",
              "                                                    [key], {});\n",
              "        if (!dataTable) return;\n",
              "\n",
              "        const docLinkHtml = 'Like what you see? Visit the ' +\n",
              "          '<a target=\"_blank\" href=https://colab.research.google.com/notebooks/data_table.ipynb>data table notebook</a>'\n",
              "          + ' to learn more about interactive tables.';\n",
              "        element.innerHTML = '';\n",
              "        dataTable['output_type'] = 'display_data';\n",
              "        await google.colab.output.renderOutput(dataTable, element);\n",
              "        const docLink = document.createElement('div');\n",
              "        docLink.innerHTML = docLinkHtml;\n",
              "        element.appendChild(docLink);\n",
              "      }\n",
              "    </script>\n",
              "  </div>\n",
              "\n",
              "    </div>\n",
              "  </div>\n"
            ]
          },
          "metadata": {},
          "execution_count": 7
        }
      ]
    },
    {
      "cell_type": "code",
      "source": [
        "value = final_df.iloc[0, 1077]\n",
        "print(\"value:\", value)\n"
      ],
      "metadata": {
        "colab": {
          "base_uri": "https://localhost:8080/"
        },
        "id": "B3ufrbiUQIgS",
        "outputId": "56cee5cc-a1a5-4bc2-e228-02b30bba6276"
      },
      "execution_count": null,
      "outputs": [
        {
          "output_type": "stream",
          "name": "stdout",
          "text": [
            "value: [[-1.68382478e+00  2.12843642e+00 -2.58159484e+00 ... -5.23891820e-05\n",
            "  -7.92783571e-04  4.02956074e-04]\n",
            " [ 2.58748833e+00  3.09273732e+00 -3.43131609e+00 ...  1.10656017e-04\n",
            "   6.47473871e-04 -3.81685773e-04]\n",
            " [ 5.34984454e+00  1.06050732e+00 -2.07991662e+00 ...  2.40174032e-04\n",
            "  -4.86764961e-04  1.34882437e-04]\n",
            " ...\n",
            " [-7.79578670e-01  1.31768179e+00  9.03669164e-01 ...  4.26967891e-03\n",
            "  -3.19893241e-03 -2.35361698e-03]\n",
            " [-4.28505215e+00  1.32745464e+00  3.80503007e-01 ... -3.98609060e-03\n",
            "   1.59890739e-03 -2.49849487e-03]\n",
            " [-4.32635844e+00  1.35498556e+00  3.80728124e-01 ...  1.22471652e-03\n",
            "  -3.28230681e-03  4.42656574e-03]]\n"
          ]
        }
      ]
    },
    {
      "cell_type": "code",
      "source": [
        "value = final_df.iloc[0, 1077]\n",
        "print(\"value:\", value.shape)\n"
      ],
      "metadata": {
        "id": "bX1ge2Zd-SIB",
        "colab": {
          "base_uri": "https://localhost:8080/"
        },
        "outputId": "e587b3e6-ec3b-4bf0-fb4f-aed520f64ca0"
      },
      "execution_count": null,
      "outputs": [
        {
          "output_type": "stream",
          "name": "stdout",
          "text": [
            "value: (62, 50)\n"
          ]
        }
      ]
    },
    {
      "cell_type": "markdown",
      "source": [
        "#Labelling"
      ],
      "metadata": {
        "id": "IGwviCfzL7uQ"
      }
    },
    {
      "cell_type": "code",
      "source": [
        "#  labels\n",
        "session1_label = [1, 2, 3, 0, 2, 0, 0, 1, 0, 1, 2, 1, 1, 1, 2, 3, 2, 2, 3, 3, 0, 3, 0, 3]\n",
        "session2_label = [2, 1, 3, 0, 0, 2, 0, 2, 3, 3, 2, 3, 2, 0, 1, 1, 2, 1, 0, 3, 0, 1, 3, 1]\n",
        "session3_label = [1, 2, 2, 1, 3, 3, 3, 1, 1, 2, 1, 0, 2, 3, 3, 0, 2, 3, 0, 0, 2, 0, 1, 0]\n",
        "\n",
        "#  DataFrame column names\n",
        "column_names = final_df.columns\n",
        "\n",
        "# Add a new row for emotion labels\n",
        "final_df.loc['Emotion_Label'] = [\n",
        "    session1_label[int(i) - 1] if folder == '1' else\n",
        "    session2_label[int(i) - 1] if folder == '2' else\n",
        "    session3_label[int(i) - 1] if folder == '3' else 20\n",
        "    for folder, _, i in [name.split('_') for name in column_names]\n",
        "]\n"
      ],
      "metadata": {
        "id": "rQzCBPBKA-lK"
      },
      "execution_count": null,
      "outputs": []
    },
    {
      "cell_type": "code",
      "source": [
        "# Convert labels to integers\n",
        "label_mapping = {'Class 0': 0, 'Class 1': 1, 'Class 2': 2, 'Class 3': 3}\n",
        "final_df = final_df.replace({'Emotion_Label': label_mapping})"
      ],
      "metadata": {
        "id": "q1a2PyrRSU3V"
      },
      "execution_count": null,
      "outputs": []
    },
    {
      "cell_type": "code",
      "source": [
        "final_df.head()  # Displays the first 5 rows\n"
      ],
      "metadata": {
        "id": "1hdX8AcWCAls",
        "colab": {
          "base_uri": "https://localhost:8080/",
          "height": 196
        },
        "outputId": "b0006eda-2354-4ae9-a7f0-546a9ac130e6"
      },
      "execution_count": null,
      "outputs": [
        {
          "output_type": "execute_result",
          "data": {
            "text/plain": [
              "                                                         2_12_01  \\\n",
              "0              [[12.792097580403842, -1.3060728479559482, 1.8...   \n",
              "Emotion_Label                                                  2   \n",
              "\n",
              "                                                         2_12_02  \\\n",
              "0              [[6.822028610551412, 1.321140676757626, 0.0407...   \n",
              "Emotion_Label                                                  1   \n",
              "\n",
              "                                                         2_12_03  \\\n",
              "0              [[-3.713782531082155, 3.521999491155027, 0.884...   \n",
              "Emotion_Label                                                  3   \n",
              "\n",
              "                                                         2_12_04  \\\n",
              "0              [[2.0870157631018893, 4.467475883161304, 1.730...   \n",
              "Emotion_Label                                                  0   \n",
              "\n",
              "                                                         2_12_05  \\\n",
              "0              [[4.396613267401508, 0.008234087182715087, -2....   \n",
              "Emotion_Label                                                  0   \n",
              "\n",
              "                                                         2_12_06  \\\n",
              "0              [[-3.4529246798153683, -0.5813518594812758, 1....   \n",
              "Emotion_Label                                                  2   \n",
              "\n",
              "                                                         2_12_07  \\\n",
              "0              [[0.3487866942498586, 0.8031101543510911, 3.93...   \n",
              "Emotion_Label                                                  0   \n",
              "\n",
              "                                                         2_12_08  \\\n",
              "0              [[-2.381843671451092, 5.732114797081804, -2.31...   \n",
              "Emotion_Label                                                  2   \n",
              "\n",
              "                                                         2_12_09  \\\n",
              "0              [[-3.9687006305546007, -4.218030234887476, -0....   \n",
              "Emotion_Label                                                  3   \n",
              "\n",
              "                                                         2_12_10  ...  \\\n",
              "0              [[5.190164208642543, -0.7302970673168832, -0.7...  ...   \n",
              "Emotion_Label                                                  3  ...   \n",
              "\n",
              "                                                          1_9_15  \\\n",
              "0              [[2.628569286338966, -4.038167903798743, 2.362...   \n",
              "Emotion_Label                                                  2   \n",
              "\n",
              "                                                          1_9_16  \\\n",
              "0              [[0.7749714842715487, 4.000269484026808, -0.06...   \n",
              "Emotion_Label                                                  3   \n",
              "\n",
              "                                                          1_9_17  \\\n",
              "0              [[4.369221125105781, 0.15197206281358408, -1.2...   \n",
              "Emotion_Label                                                  2   \n",
              "\n",
              "                                                          1_9_18  \\\n",
              "0              [[2.734139758838315, -1.2958931836590408, 5.68...   \n",
              "Emotion_Label                                                  2   \n",
              "\n",
              "                                                          1_9_19  \\\n",
              "0              [[-5.46086574919813, -1.1702116321828866, -0.1...   \n",
              "Emotion_Label                                                  3   \n",
              "\n",
              "                                                          1_9_20  \\\n",
              "0              [[-1.2901284495747776, 1.7665126954980446, -0....   \n",
              "Emotion_Label                                                  3   \n",
              "\n",
              "                                                          1_9_21  \\\n",
              "0              [[-4.214099334059905, -1.0086167951239016, -2....   \n",
              "Emotion_Label                                                  0   \n",
              "\n",
              "                                                          1_9_22  \\\n",
              "0              [[-1.6838247767275316, 2.1284364233265367, -2....   \n",
              "Emotion_Label                                                  3   \n",
              "\n",
              "                                                          1_9_23  \\\n",
              "0              [[5.309408701152226, 1.0143431968206535, -1.91...   \n",
              "Emotion_Label                                                  0   \n",
              "\n",
              "                                                          1_9_24  \n",
              "0              [[-2.801438209148012, 3.8191277603387217, 1.53...  \n",
              "Emotion_Label                                                  3  \n",
              "\n",
              "[2 rows x 1080 columns]"
            ],
            "text/html": [
              "\n",
              "  <div id=\"df-50283d8b-cf8a-44bf-b1c1-de8e38271c78\" class=\"colab-df-container\">\n",
              "    <div>\n",
              "<style scoped>\n",
              "    .dataframe tbody tr th:only-of-type {\n",
              "        vertical-align: middle;\n",
              "    }\n",
              "\n",
              "    .dataframe tbody tr th {\n",
              "        vertical-align: top;\n",
              "    }\n",
              "\n",
              "    .dataframe thead th {\n",
              "        text-align: right;\n",
              "    }\n",
              "</style>\n",
              "<table border=\"1\" class=\"dataframe\">\n",
              "  <thead>\n",
              "    <tr style=\"text-align: right;\">\n",
              "      <th></th>\n",
              "      <th>2_12_01</th>\n",
              "      <th>2_12_02</th>\n",
              "      <th>2_12_03</th>\n",
              "      <th>2_12_04</th>\n",
              "      <th>2_12_05</th>\n",
              "      <th>2_12_06</th>\n",
              "      <th>2_12_07</th>\n",
              "      <th>2_12_08</th>\n",
              "      <th>2_12_09</th>\n",
              "      <th>2_12_10</th>\n",
              "      <th>...</th>\n",
              "      <th>1_9_15</th>\n",
              "      <th>1_9_16</th>\n",
              "      <th>1_9_17</th>\n",
              "      <th>1_9_18</th>\n",
              "      <th>1_9_19</th>\n",
              "      <th>1_9_20</th>\n",
              "      <th>1_9_21</th>\n",
              "      <th>1_9_22</th>\n",
              "      <th>1_9_23</th>\n",
              "      <th>1_9_24</th>\n",
              "    </tr>\n",
              "  </thead>\n",
              "  <tbody>\n",
              "    <tr>\n",
              "      <th>0</th>\n",
              "      <td>[[12.792097580403842, -1.3060728479559482, 1.8...</td>\n",
              "      <td>[[6.822028610551412, 1.321140676757626, 0.0407...</td>\n",
              "      <td>[[-3.713782531082155, 3.521999491155027, 0.884...</td>\n",
              "      <td>[[2.0870157631018893, 4.467475883161304, 1.730...</td>\n",
              "      <td>[[4.396613267401508, 0.008234087182715087, -2....</td>\n",
              "      <td>[[-3.4529246798153683, -0.5813518594812758, 1....</td>\n",
              "      <td>[[0.3487866942498586, 0.8031101543510911, 3.93...</td>\n",
              "      <td>[[-2.381843671451092, 5.732114797081804, -2.31...</td>\n",
              "      <td>[[-3.9687006305546007, -4.218030234887476, -0....</td>\n",
              "      <td>[[5.190164208642543, -0.7302970673168832, -0.7...</td>\n",
              "      <td>...</td>\n",
              "      <td>[[2.628569286338966, -4.038167903798743, 2.362...</td>\n",
              "      <td>[[0.7749714842715487, 4.000269484026808, -0.06...</td>\n",
              "      <td>[[4.369221125105781, 0.15197206281358408, -1.2...</td>\n",
              "      <td>[[2.734139758838315, -1.2958931836590408, 5.68...</td>\n",
              "      <td>[[-5.46086574919813, -1.1702116321828866, -0.1...</td>\n",
              "      <td>[[-1.2901284495747776, 1.7665126954980446, -0....</td>\n",
              "      <td>[[-4.214099334059905, -1.0086167951239016, -2....</td>\n",
              "      <td>[[-1.6838247767275316, 2.1284364233265367, -2....</td>\n",
              "      <td>[[5.309408701152226, 1.0143431968206535, -1.91...</td>\n",
              "      <td>[[-2.801438209148012, 3.8191277603387217, 1.53...</td>\n",
              "    </tr>\n",
              "    <tr>\n",
              "      <th>Emotion_Label</th>\n",
              "      <td>2</td>\n",
              "      <td>1</td>\n",
              "      <td>3</td>\n",
              "      <td>0</td>\n",
              "      <td>0</td>\n",
              "      <td>2</td>\n",
              "      <td>0</td>\n",
              "      <td>2</td>\n",
              "      <td>3</td>\n",
              "      <td>3</td>\n",
              "      <td>...</td>\n",
              "      <td>2</td>\n",
              "      <td>3</td>\n",
              "      <td>2</td>\n",
              "      <td>2</td>\n",
              "      <td>3</td>\n",
              "      <td>3</td>\n",
              "      <td>0</td>\n",
              "      <td>3</td>\n",
              "      <td>0</td>\n",
              "      <td>3</td>\n",
              "    </tr>\n",
              "  </tbody>\n",
              "</table>\n",
              "<p>2 rows × 1080 columns</p>\n",
              "</div>\n",
              "    <div class=\"colab-df-buttons\">\n",
              "\n",
              "  <div class=\"colab-df-container\">\n",
              "    <button class=\"colab-df-convert\" onclick=\"convertToInteractive('df-50283d8b-cf8a-44bf-b1c1-de8e38271c78')\"\n",
              "            title=\"Convert this dataframe to an interactive table.\"\n",
              "            style=\"display:none;\">\n",
              "\n",
              "  <svg xmlns=\"http://www.w3.org/2000/svg\" height=\"24px\" viewBox=\"0 -960 960 960\">\n",
              "    <path d=\"M120-120v-720h720v720H120Zm60-500h600v-160H180v160Zm220 220h160v-160H400v160Zm0 220h160v-160H400v160ZM180-400h160v-160H180v160Zm440 0h160v-160H620v160ZM180-180h160v-160H180v160Zm440 0h160v-160H620v160Z\"/>\n",
              "  </svg>\n",
              "    </button>\n",
              "\n",
              "  <style>\n",
              "    .colab-df-container {\n",
              "      display:flex;\n",
              "      gap: 12px;\n",
              "    }\n",
              "\n",
              "    .colab-df-convert {\n",
              "      background-color: #E8F0FE;\n",
              "      border: none;\n",
              "      border-radius: 50%;\n",
              "      cursor: pointer;\n",
              "      display: none;\n",
              "      fill: #1967D2;\n",
              "      height: 32px;\n",
              "      padding: 0 0 0 0;\n",
              "      width: 32px;\n",
              "    }\n",
              "\n",
              "    .colab-df-convert:hover {\n",
              "      background-color: #E2EBFA;\n",
              "      box-shadow: 0px 1px 2px rgba(60, 64, 67, 0.3), 0px 1px 3px 1px rgba(60, 64, 67, 0.15);\n",
              "      fill: #174EA6;\n",
              "    }\n",
              "\n",
              "    .colab-df-buttons div {\n",
              "      margin-bottom: 4px;\n",
              "    }\n",
              "\n",
              "    [theme=dark] .colab-df-convert {\n",
              "      background-color: #3B4455;\n",
              "      fill: #D2E3FC;\n",
              "    }\n",
              "\n",
              "    [theme=dark] .colab-df-convert:hover {\n",
              "      background-color: #434B5C;\n",
              "      box-shadow: 0px 1px 3px 1px rgba(0, 0, 0, 0.15);\n",
              "      filter: drop-shadow(0px 1px 2px rgba(0, 0, 0, 0.3));\n",
              "      fill: #FFFFFF;\n",
              "    }\n",
              "  </style>\n",
              "\n",
              "    <script>\n",
              "      const buttonEl =\n",
              "        document.querySelector('#df-50283d8b-cf8a-44bf-b1c1-de8e38271c78 button.colab-df-convert');\n",
              "      buttonEl.style.display =\n",
              "        google.colab.kernel.accessAllowed ? 'block' : 'none';\n",
              "\n",
              "      async function convertToInteractive(key) {\n",
              "        const element = document.querySelector('#df-50283d8b-cf8a-44bf-b1c1-de8e38271c78');\n",
              "        const dataTable =\n",
              "          await google.colab.kernel.invokeFunction('convertToInteractive',\n",
              "                                                    [key], {});\n",
              "        if (!dataTable) return;\n",
              "\n",
              "        const docLinkHtml = 'Like what you see? Visit the ' +\n",
              "          '<a target=\"_blank\" href=https://colab.research.google.com/notebooks/data_table.ipynb>data table notebook</a>'\n",
              "          + ' to learn more about interactive tables.';\n",
              "        element.innerHTML = '';\n",
              "        dataTable['output_type'] = 'display_data';\n",
              "        await google.colab.output.renderOutput(dataTable, element);\n",
              "        const docLink = document.createElement('div');\n",
              "        docLink.innerHTML = docLinkHtml;\n",
              "        element.appendChild(docLink);\n",
              "      }\n",
              "    </script>\n",
              "  </div>\n",
              "\n",
              "\n",
              "<div id=\"df-c711e56c-f435-48fd-a245-5df8d6ea42e6\">\n",
              "  <button class=\"colab-df-quickchart\" onclick=\"quickchart('df-c711e56c-f435-48fd-a245-5df8d6ea42e6')\"\n",
              "            title=\"Suggest charts\"\n",
              "            style=\"display:none;\">\n",
              "\n",
              "<svg xmlns=\"http://www.w3.org/2000/svg\" height=\"24px\"viewBox=\"0 0 24 24\"\n",
              "     width=\"24px\">\n",
              "    <g>\n",
              "        <path d=\"M19 3H5c-1.1 0-2 .9-2 2v14c0 1.1.9 2 2 2h14c1.1 0 2-.9 2-2V5c0-1.1-.9-2-2-2zM9 17H7v-7h2v7zm4 0h-2V7h2v10zm4 0h-2v-4h2v4z\"/>\n",
              "    </g>\n",
              "</svg>\n",
              "  </button>\n",
              "\n",
              "<style>\n",
              "  .colab-df-quickchart {\n",
              "      --bg-color: #E8F0FE;\n",
              "      --fill-color: #1967D2;\n",
              "      --hover-bg-color: #E2EBFA;\n",
              "      --hover-fill-color: #174EA6;\n",
              "      --disabled-fill-color: #AAA;\n",
              "      --disabled-bg-color: #DDD;\n",
              "  }\n",
              "\n",
              "  [theme=dark] .colab-df-quickchart {\n",
              "      --bg-color: #3B4455;\n",
              "      --fill-color: #D2E3FC;\n",
              "      --hover-bg-color: #434B5C;\n",
              "      --hover-fill-color: #FFFFFF;\n",
              "      --disabled-bg-color: #3B4455;\n",
              "      --disabled-fill-color: #666;\n",
              "  }\n",
              "\n",
              "  .colab-df-quickchart {\n",
              "    background-color: var(--bg-color);\n",
              "    border: none;\n",
              "    border-radius: 50%;\n",
              "    cursor: pointer;\n",
              "    display: none;\n",
              "    fill: var(--fill-color);\n",
              "    height: 32px;\n",
              "    padding: 0;\n",
              "    width: 32px;\n",
              "  }\n",
              "\n",
              "  .colab-df-quickchart:hover {\n",
              "    background-color: var(--hover-bg-color);\n",
              "    box-shadow: 0 1px 2px rgba(60, 64, 67, 0.3), 0 1px 3px 1px rgba(60, 64, 67, 0.15);\n",
              "    fill: var(--button-hover-fill-color);\n",
              "  }\n",
              "\n",
              "  .colab-df-quickchart-complete:disabled,\n",
              "  .colab-df-quickchart-complete:disabled:hover {\n",
              "    background-color: var(--disabled-bg-color);\n",
              "    fill: var(--disabled-fill-color);\n",
              "    box-shadow: none;\n",
              "  }\n",
              "\n",
              "  .colab-df-spinner {\n",
              "    border: 2px solid var(--fill-color);\n",
              "    border-color: transparent;\n",
              "    border-bottom-color: var(--fill-color);\n",
              "    animation:\n",
              "      spin 1s steps(1) infinite;\n",
              "  }\n",
              "\n",
              "  @keyframes spin {\n",
              "    0% {\n",
              "      border-color: transparent;\n",
              "      border-bottom-color: var(--fill-color);\n",
              "      border-left-color: var(--fill-color);\n",
              "    }\n",
              "    20% {\n",
              "      border-color: transparent;\n",
              "      border-left-color: var(--fill-color);\n",
              "      border-top-color: var(--fill-color);\n",
              "    }\n",
              "    30% {\n",
              "      border-color: transparent;\n",
              "      border-left-color: var(--fill-color);\n",
              "      border-top-color: var(--fill-color);\n",
              "      border-right-color: var(--fill-color);\n",
              "    }\n",
              "    40% {\n",
              "      border-color: transparent;\n",
              "      border-right-color: var(--fill-color);\n",
              "      border-top-color: var(--fill-color);\n",
              "    }\n",
              "    60% {\n",
              "      border-color: transparent;\n",
              "      border-right-color: var(--fill-color);\n",
              "    }\n",
              "    80% {\n",
              "      border-color: transparent;\n",
              "      border-right-color: var(--fill-color);\n",
              "      border-bottom-color: var(--fill-color);\n",
              "    }\n",
              "    90% {\n",
              "      border-color: transparent;\n",
              "      border-bottom-color: var(--fill-color);\n",
              "    }\n",
              "  }\n",
              "</style>\n",
              "\n",
              "  <script>\n",
              "    async function quickchart(key) {\n",
              "      const quickchartButtonEl =\n",
              "        document.querySelector('#' + key + ' button');\n",
              "      quickchartButtonEl.disabled = true;  // To prevent multiple clicks.\n",
              "      quickchartButtonEl.classList.add('colab-df-spinner');\n",
              "      try {\n",
              "        const charts = await google.colab.kernel.invokeFunction(\n",
              "            'suggestCharts', [key], {});\n",
              "      } catch (error) {\n",
              "        console.error('Error during call to suggestCharts:', error);\n",
              "      }\n",
              "      quickchartButtonEl.classList.remove('colab-df-spinner');\n",
              "      quickchartButtonEl.classList.add('colab-df-quickchart-complete');\n",
              "    }\n",
              "    (() => {\n",
              "      let quickchartButtonEl =\n",
              "        document.querySelector('#df-c711e56c-f435-48fd-a245-5df8d6ea42e6 button');\n",
              "      quickchartButtonEl.style.display =\n",
              "        google.colab.kernel.accessAllowed ? 'block' : 'none';\n",
              "    })();\n",
              "  </script>\n",
              "</div>\n",
              "    </div>\n",
              "  </div>\n"
            ]
          },
          "metadata": {},
          "execution_count": 14
        }
      ]
    },
    {
      "cell_type": "markdown",
      "source": [
        "#Data split"
      ],
      "metadata": {
        "id": "mwxBrqYBMHXf"
      }
    },
    {
      "cell_type": "code",
      "source": [
        "import numpy as np\n",
        "\n",
        "# Extract the data and labels\n",
        "Image_Matrix = final_df.iloc[0, :].to_list()\n",
        "Label = final_df.iloc[1, :].to_list()\n",
        "\n",
        "# Define X as the input data (images)\n",
        "X = np.array(Image_Matrix).reshape(-1, 62, 50, 1)\n",
        "\n",
        "# Define y as the labels\n",
        "y = np.array(Label)\n",
        "\n",
        "# Split the data into training, validation, and test sets\n",
        "from sklearn.model_selection import train_test_split\n",
        "X_train, X_temp, y_train, y_temp = train_test_split(X, y, test_size=0.2, random_state=42)\n",
        "X_val, X_test, y_val, y_test = train_test_split(X_temp, y_temp, test_size=0.3, random_state=42)\n",
        "\n"
      ],
      "metadata": {
        "id": "V17yY4A7xWAQ"
      },
      "execution_count": null,
      "outputs": []
    },
    {
      "cell_type": "code",
      "source": [
        "print(\"Data types and shapes:\")\n",
        "print(\"X_train:\", type(X_train), X_train.shape if hasattr(X_train, 'shape') else None)\n",
        "print(\"X_val:\", type(X_val), X_val.shape if hasattr(X_val, 'shape') else None)\n",
        "print(\"X_test:\", type(X_test), X_test.shape if hasattr(X_test, 'shape') else None)\n",
        "print(\"y_train:\", type(y_train), y_train.shape if hasattr(y_train, 'shape') else None)\n",
        "print(\"y_val:\", type(y_val), y_val.shape if hasattr(y_val, 'shape') else None)\n",
        "print(\"y_test:\", type(y_test), y_test.shape if hasattr(y_test, 'shape') else None)\n",
        "\n",
        "# Check the data type of the first element in X_train\n",
        "if len(X_train) > 0:\n",
        "    print(\"Data type of the first element in X_train:\", type(X_train[0]))\n",
        "else:\n",
        "    print(\"X_train is empty.\")\n",
        "\n",
        "# Check the data type of the first element in y_train\n",
        "if len(y_train) > 0:\n",
        "    print(\"Data type of the first element in y_train:\", type(y_train[0]))\n",
        "else:\n",
        "    print(\"y_train is empty.\")\n"
      ],
      "metadata": {
        "colab": {
          "base_uri": "https://localhost:8080/"
        },
        "id": "ABINmPqkiEqD",
        "outputId": "dfaf171e-a8a7-46a6-db9f-43d06c90922f"
      },
      "execution_count": null,
      "outputs": [
        {
          "output_type": "stream",
          "name": "stdout",
          "text": [
            "Data types and shapes:\n",
            "X_train: <class 'numpy.ndarray'> (864, 62, 50, 1)\n",
            "X_val: <class 'numpy.ndarray'> (151, 62, 50, 1)\n",
            "X_test: <class 'numpy.ndarray'> (65, 62, 50, 1)\n",
            "y_train: <class 'numpy.ndarray'> (864,)\n",
            "y_val: <class 'numpy.ndarray'> (151,)\n",
            "y_test: <class 'numpy.ndarray'> (65,)\n",
            "Data type of the first element in X_train: <class 'numpy.ndarray'>\n",
            "Data type of the first element in y_train: <class 'numpy.int64'>\n"
          ]
        }
      ]
    },
    {
      "cell_type": "code",
      "source": [
        "print(X_train.dtype)"
      ],
      "metadata": {
        "colab": {
          "base_uri": "https://localhost:8080/"
        },
        "id": "X7fAfwwEi6g9",
        "outputId": "5b851cbf-7296-4dc5-d9d2-64c5cfaa0976"
      },
      "execution_count": null,
      "outputs": [
        {
          "output_type": "stream",
          "name": "stdout",
          "text": [
            "float64\n"
          ]
        }
      ]
    },
    {
      "cell_type": "code",
      "source": [
        "print(y_train.dtype)"
      ],
      "metadata": {
        "colab": {
          "base_uri": "https://localhost:8080/"
        },
        "id": "gAk7RqiBdXDs",
        "outputId": "071a3923-e0ef-4c01-cd85-cdcc3b65d6f0"
      },
      "execution_count": null,
      "outputs": [
        {
          "output_type": "stream",
          "name": "stdout",
          "text": [
            "int64\n"
          ]
        }
      ]
    },
    {
      "cell_type": "code",
      "source": [
        "# X_train = X_train.numpy()\n",
        "# y_train = y_train.numpy()\n",
        "# X_val = X_val.numpy()\n",
        "# y_val = y_val.numpy()\n",
        "# X_test = X_test.numpy()\n",
        "# y_test = y_test.numpy()\n"
      ],
      "metadata": {
        "id": "1u4Lcls4rIzM"
      },
      "execution_count": null,
      "outputs": []
    },
    {
      "cell_type": "code",
      "source": [
        "import matplotlib.pyplot as plt\n",
        "\n",
        "# Visualize some EEG data samples\n",
        "sample_indices = [0, 1, 2]\n",
        "for index in sample_indices:\n",
        "    sample_image = X_train[index].reshape(62, 50)\n",
        "    label = y_train[index]\n",
        "\n",
        "    plt.figure()\n",
        "    plt.imshow(sample_image, cmap='viridis')\n",
        "    plt.title(f\"Sample EEG Data - Label: {label}\")\n",
        "    plt.show()\n"
      ],
      "metadata": {
        "id": "WhN_NfmJ4xuH",
        "colab": {
          "base_uri": "https://localhost:8080/",
          "height": 1000
        },
        "outputId": "e0110869-b029-4025-a50b-309060e348ea"
      },
      "execution_count": null,
      "outputs": [
        {
          "output_type": "display_data",
          "data": {
            "text/plain": [
              "<Figure size 640x480 with 1 Axes>"
            ],
            "image/png": "[encoded data removed]"
          },
          "metadata": {}
        },
        {
          "output_type": "display_data",
          "data": {
            "text/plain": [
              "<Figure size 640x480 with 1 Axes>"
            ],
            "image/png": "[encoded data removed]"
          },
          "metadata": {}
        },
        {
          "output_type": "display_data",
          "data": {
            "text/plain": [
              "<Figure size 640x480 with 1 Axes>"
            ],
            "image/png": "[encoded data removed]"
          },
          "metadata": {}
        }
      ]
    },
    {
      "cell_type": "markdown",
      "source": [
        "# CNN model\n"
      ],
      "metadata": {
        "id": "pi5yz7m4MOB4"
      }
    },
    {
      "cell_type": "code",
      "source": [
        "import tensorflow as tf\n",
        "from tensorflow import keras\n",
        "import numpy as np\n",
        "from sklearn.model_selection import StratifiedKFold\n",
        "from sklearn.metrics import confusion_matrix\n",
        "import seaborn as sns\n",
        "import matplotlib.pyplot as plt\n",
        "\n",
        "# Feature and label matrices\n",
        "X = np.array(Image_Matrix).reshape(-1, 62, 50, 1)\n",
        "y = np.array(Label)\n",
        "\n",
        "# Set the number of folds\n",
        "num_folds = 10\n",
        "skf = StratifiedKFold(n_splits=num_folds, shuffle=True, random_state=42)\n",
        "\n",
        "# Lists to store the results for each fold\n",
        "all_train_acc = []\n",
        "all_val_acc = []\n",
        "\n",
        "# Loop through the folds\n",
        "for fold, (train_index, val_index) in enumerate(skf.split(X, y), 1):\n",
        "    X_train, X_val = X[train_index], X[val_index]\n",
        "    y_train, y_val = y[train_index], y[val_index]\n",
        "\n",
        "    print(f\"\\nFold {fold}:\")\n",
        "    print(f\"X_train shape: {X_train.shape}, y_train shape: {y_train.shape}\")\n",
        "    print(f\"X_val shape: {X_val.shape}, y_val shape: {y_val.shape}\")\n",
        "\n",
        "    # Create and compile the model\n",
        "    model = keras.Sequential([\n",
        "        keras.layers.Conv2D(16, (3, 3), activation='relu', input_shape=(62, 50, 1)),\n",
        "        keras.layers.MaxPooling2D((2, 2)),\n",
        "        keras.layers.Conv2D(32, (3, 3), activation='relu'),\n",
        "        keras.layers.MaxPooling2D((2, 2)),\n",
        "        keras.layers.Flatten(),\n",
        "        keras.layers.Dense(128, activation='relu'),\n",
        "        keras.layers.Dropout(0.5),\n",
        "        keras.layers.Dense(4, activation='softmax')\n",
        "    ])\n",
        "    model.compile(optimizer='adam',\n",
        "                  loss='sparse_categorical_crossentropy',\n",
        "                  metrics=['accuracy'])\n",
        "\n",
        "    # Train the model\n",
        "    history = model.fit(X_train, y_train, epochs=12, validation_data=(X_val, y_val), verbose=0)\n",
        "\n",
        "    # Evaluate on training and validation sets\n",
        "    train_loss, train_acc = model.evaluate(X_train, y_train)\n",
        "    val_loss, val_acc = model.evaluate(X_val, y_val)\n",
        "\n",
        "    # Append results to lists\n",
        "    all_train_acc.append(train_acc)\n",
        "    all_val_acc.append(val_acc)\n",
        "\n",
        "# Calculate and print the average accuracy across folds\n",
        "avg_train_acc = np.mean(all_train_acc)\n",
        "avg_val_acc = np.mean(all_val_acc)\n",
        "print(f'\\nAverage Training Accuracy: {avg_train_acc}')\n",
        "print(f'Average Validation Accuracy: {avg_val_acc}')\n",
        "\n",
        "# Assuming X_test and y_test are your test data\n",
        "X_test = np.array(X_test).reshape(-1, 62, 50, 1)\n",
        "y_test = np.array(y_test)\n",
        "\n",
        "# Evaluate the model on the test set\n",
        "test_loss, test_acc = model.evaluate(X_test, y_test)\n",
        "print(\"Test accuracy:\", test_acc)\n",
        "\n",
        "# Display the model summary\n",
        "model.summary()\n",
        "\n",
        "# Visualize the confusion matrix\n",
        "y_pred = model.predict(X_test)\n",
        "y_pred_classes = np.argmax(y_pred, axis=1)\n",
        "cm = confusion_matrix(y_test, y_pred_classes)\n",
        "\n",
        "# Create a heatmap for the confusion matrix\n",
        "plt.figure(figsize=(8, 6))\n",
        "sns.heatmap(cm, annot=True, fmt='d', cmap='Blues', cbar=False)\n",
        "plt.xlabel('Predicted')\n",
        "plt.ylabel('Actual')\n",
        "plt.title('Confusion Matrix')\n",
        "plt.show()\n"
      ],
      "metadata": {
        "colab": {
          "base_uri": "https://localhost:8080/",
          "height": 1000
        },
        "id": "GZO2J99pnniV",
        "outputId": "53c605bf-91e2-4d49-ae79-29602a02c302"
      },
      "execution_count": null,
      "outputs": [
        {
          "output_type": "stream",
          "name": "stdout",
          "text": [
            "\n",
            "Fold 1:\n",
            "X_train shape: (972, 62, 50, 1), y_train shape: (972,)\n",
            "X_val shape: (108, 62, 50, 1), y_val shape: (108,)\n",
            "31/31 [==============================] - 1s 17ms/step - loss: 0.3509 - accuracy: 0.9342\n",
            "4/4 [==============================] - 0s 15ms/step - loss: 1.7803 - accuracy: 0.2037\n",
            "\n",
            "Fold 2:\n",
            "X_train shape: (972, 62, 50, 1), y_train shape: (972,)\n",
            "X_val shape: (108, 62, 50, 1), y_val shape: (108,)\n",
            "31/31 [==============================] - 1s 30ms/step - loss: 0.4935 - accuracy: 0.8868\n",
            "4/4 [==============================] - 0s 28ms/step - loss: 1.7314 - accuracy: 0.2222\n",
            "\n",
            "Fold 3:\n",
            "X_train shape: (972, 62, 50, 1), y_train shape: (972,)\n",
            "X_val shape: (108, 62, 50, 1), y_val shape: (108,)\n",
            "31/31 [==============================] - 1s 17ms/step - loss: 0.4187 - accuracy: 0.9105\n",
            "4/4 [==============================] - 0s 15ms/step - loss: 1.5761 - accuracy: 0.3519\n",
            "\n",
            "Fold 4:\n",
            "X_train shape: (972, 62, 50, 1), y_train shape: (972,)\n",
            "X_val shape: (108, 62, 50, 1), y_val shape: (108,)\n",
            "31/31 [==============================] - 1s 30ms/step - loss: 0.6127 - accuracy: 0.8447\n",
            "4/4 [==============================] - 0s 26ms/step - loss: 1.4721 - accuracy: 0.3611\n",
            "\n",
            "Fold 5:\n",
            "X_train shape: (972, 62, 50, 1), y_train shape: (972,)\n",
            "X_val shape: (108, 62, 50, 1), y_val shape: (108,)\n",
            "31/31 [==============================] - 1s 30ms/step - loss: 0.4190 - accuracy: 0.9043\n",
            "4/4 [==============================] - 0s 25ms/step - loss: 1.7933 - accuracy: 0.3241\n",
            "\n",
            "Fold 6:\n",
            "X_train shape: (972, 62, 50, 1), y_train shape: (972,)\n",
            "X_val shape: (108, 62, 50, 1), y_val shape: (108,)\n",
            "31/31 [==============================] - 1s 18ms/step - loss: 0.5931 - accuracy: 0.8601\n",
            "4/4 [==============================] - 0s 15ms/step - loss: 1.4252 - accuracy: 0.3611\n",
            "\n",
            "Fold 7:\n",
            "X_train shape: (972, 62, 50, 1), y_train shape: (972,)\n",
            "X_val shape: (108, 62, 50, 1), y_val shape: (108,)\n",
            "31/31 [==============================] - 1s 29ms/step - loss: 0.3837 - accuracy: 0.9311\n",
            "4/4 [==============================] - 0s 15ms/step - loss: 1.6371 - accuracy: 0.3889\n",
            "\n",
            "Fold 8:\n",
            "X_train shape: (972, 62, 50, 1), y_train shape: (972,)\n",
            "X_val shape: (108, 62, 50, 1), y_val shape: (108,)\n",
            "31/31 [==============================] - 1s 17ms/step - loss: 0.5286 - accuracy: 0.8704\n",
            "4/4 [==============================] - 0s 19ms/step - loss: 1.6900 - accuracy: 0.2778\n",
            "\n",
            "Fold 9:\n",
            "X_train shape: (972, 62, 50, 1), y_train shape: (972,)\n",
            "X_val shape: (108, 62, 50, 1), y_val shape: (108,)\n",
            "31/31 [==============================] - 1s 17ms/step - loss: 0.4196 - accuracy: 0.9321\n",
            "4/4 [==============================] - 0s 15ms/step - loss: 1.7144 - accuracy: 0.2778\n",
            "\n",
            "Fold 10:\n",
            "X_train shape: (972, 62, 50, 1), y_train shape: (972,)\n",
            "X_val shape: (108, 62, 50, 1), y_val shape: (108,)\n",
            "31/31 [==============================] - 1s 31ms/step - loss: 0.3772 - accuracy: 0.9331\n",
            "4/4 [==============================] - 0s 27ms/step - loss: 1.5642 - accuracy: 0.3148\n",
            "\n",
            "Average Training Accuracy: 0.9007201731204987\n",
            "Average Validation Accuracy: 0.30833333283662795\n",
            "3/3 [==============================] - 0s 21ms/step - loss: 0.4050 - accuracy: 0.8462\n",
            "Test accuracy: 0.8461538553237915\n",
            "Model: \"sequential_31\"\n",
            "_________________________________________________________________\n",
            " Layer (type)                Output Shape              Param #   \n",
            "=================================================================\n",
            " conv2d_62 (Conv2D)          (None, 60, 48, 16)        160       \n",
            "                                                                 \n",
            " max_pooling2d_62 (MaxPooli  (None, 30, 24, 16)        0         \n",
            " ng2D)                                                           \n",
            "                                                                 \n",
            " conv2d_63 (Conv2D)          (None, 28, 22, 32)        4640      \n",
            "                                                                 \n",
            " max_pooling2d_63 (MaxPooli  (None, 14, 11, 32)        0         \n",
            " ng2D)                                                           \n",
            "                                                                 \n",
            " flatten_31 (Flatten)        (None, 4928)              0         \n",
            "                                                                 \n",
            " dense_62 (Dense)            (None, 128)               630912    \n",
            "                                                                 \n",
            " dropout_31 (Dropout)        (None, 128)               0         \n",
            "                                                                 \n",
            " dense_63 (Dense)            (None, 4)                 516       \n",
            "                                                                 \n",
            "=================================================================\n",
            "Total params: 636228 (2.43 MB)\n",
            "Trainable params: 636228 (2.43 MB)\n",
            "Non-trainable params: 0 (0.00 Byte)\n",
            "_________________________________________________________________\n"
          ]
        },
        {
          "output_type": "stream",
          "name": "stderr",
          "text": [
            "WARNING:tensorflow:5 out of the last 13 calls to <function Model.make_predict_function.<locals>.predict_function at 0x7dcda3bc70a0> triggered tf.function retracing. Tracing is expensive and the excessive number of tracings could be due to (1) creating @tf.function repeatedly in a loop, (2) passing tensors with different shapes, (3) passing Python objects instead of tensors. For (1), please define your @tf.function outside of the loop. For (2), @tf.function has reduce_retracing=True option that can avoid unnecessary retracing. For (3), please refer to https://www.tensorflow.org/guide/function#controlling_retracing and https://www.tensorflow.org/api_docs/python/tf/function for  more details.\n"
          ]
        },
        {
          "output_type": "stream",
          "name": "stdout",
          "text": [
            "3/3 [==============================] - 0s 16ms/step\n"
          ]
        },
        {
          "output_type": "display_data",
          "data": {
            "text/plain": [
              "<Figure size 800x600 with 1 Axes>"
            ],
            "image/png": "[encoded data removed]"
          },
          "metadata": {}
        }
      ]
    },
    {
      "cell_type": "code",
      "source": [
        "# Assuming y_train and X_train are available\n",
        "y_train_probs = model.predict(X_train)\n",
        "y_train_pred = np.argmax(y_train_probs, axis=1)\n"
      ],
      "metadata": {
        "colab": {
          "base_uri": "https://localhost:8080/"
        },
        "id": "j26vtBfEnVEZ",
        "outputId": "80a1dccc-fa6a-41d5-aec8-bd7bf8dd2c4d"
      },
      "execution_count": null,
      "outputs": [
        {
          "output_type": "stream",
          "name": "stdout",
          "text": [
            "27/27 [==============================] - 0s 2ms/step\n"
          ]
        }
      ]
    },
    {
      "cell_type": "code",
      "source": [
        "print(\"Actual Labels:\", y_train[:10])\n",
        "print(\"Predicted Labels:\", y_train_pred[:10])\n"
      ],
      "metadata": {
        "colab": {
          "base_uri": "https://localhost:8080/"
        },
        "id": "9gD0_v-hncih",
        "outputId": "aa964f18-c5a0-4f2c-98cf-724a9c4ddb6d"
      },
      "execution_count": null,
      "outputs": [
        {
          "output_type": "stream",
          "name": "stdout",
          "text": [
            "Actual Labels: [1 3 2 0 0 0 0 1 0 2]\n",
            "Predicted Labels: [1 0 2 2 0 2 2 1 2 2]\n"
          ]
        }
      ]
    },
    {
      "cell_type": "code",
      "source": [
        "train_loss, train_acc = model.evaluate(X_train, y_train)\n",
        "print(f\"Training accuracy: {train_acc}\")\n"
      ],
      "metadata": {
        "colab": {
          "base_uri": "https://localhost:8080/"
        },
        "id": "wR2sXcTenjND",
        "outputId": "d2019141-f098-4117-a012-0ba4b6727a96"
      },
      "execution_count": null,
      "outputs": [
        {
          "output_type": "stream",
          "name": "stdout",
          "text": [
            "27/27 [==============================] - 0s 3ms/step - loss: 62.6087 - accuracy: 0.3206\n",
            "Training accuracy: 0.32060185074806213\n"
          ]
        }
      ]
    },
    {
      "cell_type": "code",
      "source": [
        "model.summary()\n"
      ],
      "metadata": {
        "id": "Kd6P498W438M",
        "colab": {
          "base_uri": "https://localhost:8080/"
        },
        "outputId": "b10d400b-6463-4e88-cac9-e4c945a6e5a0"
      },
      "execution_count": null,
      "outputs": [
        {
          "output_type": "stream",
          "name": "stdout",
          "text": [
            "Model: \"sequential_19\"\n",
            "_________________________________________________________________\n",
            " Layer (type)                Output Shape              Param #   \n",
            "=================================================================\n",
            " flatten_19 (Flatten)        (None, 3844)              0         \n",
            "                                                                 \n",
            " dense_32 (Dense)            (None, 4)                 15380     \n",
            "                                                                 \n",
            "=================================================================\n",
            "Total params: 15380 (60.08 KB)\n",
            "Trainable params: 15380 (60.08 KB)\n",
            "Non-trainable params: 0 (0.00 Byte)\n",
            "_________________________________________________________________\n"
          ]
        }
      ]
    },
    {
      "cell_type": "code",
      "source": [
        "import matplotlib.pyplot as plt\n",
        "import seaborn as sns\n",
        "\n",
        "# Assuming y_train contains your class labels\n",
        "plt.figure(figsize=(8, 6))\n",
        "sns.countplot(x=y_train)\n",
        "plt.title('Class Distribution')\n",
        "plt.xlabel('Class')\n",
        "plt.ylabel('Count')\n",
        "plt.show()\n",
        "\n"
      ],
      "metadata": {
        "colab": {
          "base_uri": "https://localhost:8080/"
        },
        "id": "Kab54JwekN_Z",
        "outputId": "f779ffa6-11ce-4553-8994-99f7f075849f"
      },
      "execution_count": null,
      "outputs": [
        {
          "output_type": "display_data",
          "data": {
            "text/plain": [
              "<Figure size 800x600 with 1 Axes>"
            ],
            "image/png": "[encoded data removed]"
          },
          "metadata": {}
        }
      ]
    }
  ]
}